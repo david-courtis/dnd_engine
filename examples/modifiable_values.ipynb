{
 "cells": [
  {
   "cell_type": "code",
   "execution_count": 1,
   "metadata": {},
   "outputs": [],
   "source": [
    "from typing import Dict, Optional, Any, List, Self, Literal, ClassVar, Union\n",
    "from uuid import UUID, uuid4\n",
    "from pydantic import BaseModel, Field, model_validator, computed_field, field_validator\n",
    "from enum import Enum\n",
    "from dnd.values import ModifiableValue, AdvantageStatus, CriticalStatus, AutoHitStatus, StaticValue,NumericalModifier, ContextualValue\n",
    "\n",
    "from dnd.blocks import (\n",
    "    BaseBlock, AbilityScores, SavingThrowSet, Health, \n",
    "    Equipped, Speed, ActionEconomy,SkillSet,SkillName\n",
    ")\n",
    "from dnd.values import ModifiableValue\n",
    "from dnd.modifiers import (\n",
    "    NumericalModifier, DamageType, ResistanceStatus, \n",
    "    ContextAwareCondition, BaseObject\n",
    ")\n",
    "\n",
    "from dnd.equipment import (\n",
    "    Armor, Weapon, Shield, BodyArmor, Gauntlets, Greaves,\n",
    "    Boots, Amulet, Ring, Cloak, Helmet, BodyPart\n",
    ")\n",
    "from dnd.dice import Dice, RollType, DiceRoll"
   ]
  },
  {
   "cell_type": "code",
   "execution_count": 2,
   "metadata": {},
   "outputs": [],
   "source": [
    "from dnd.modifiers import (\n",
    "    BaseObject,\n",
    "    naming_callable,\n",
    "    NumericalModifier,\n",
    "    AdvantageModifier,\n",
    "    CriticalModifier,\n",
    "    AutoHitModifier,\n",
    "    AdvantageStatus,\n",
    "    CriticalStatus,\n",
    "    AutoHitStatus,\n",
    "    Size,\n",
    "    DamageType,\n",
    "    SizeModifier,\n",
    "    DamageTypeModifier,\n",
    "    ContextualNumericalModifier,\n",
    "    ContextualAdvantageModifier,\n",
    "    ContextualCriticalModifier,\n",
    "    ContextualAutoHitModifier,\n",
    "    ContextualSizeModifier,\n",
    "    ContextualDamageTypeModifier,\n",
    "    ResistanceModifier,\n",
    "    ContextualResistanceModifier,\n",
    "    ResistanceStatus\n",
    ")\n",
    "from dnd.entity import Entity"
   ]
  },
  {
   "cell_type": "code",
   "execution_count": 3,
   "metadata": {},
   "outputs": [],
   "source": []
  },
  {
   "cell_type": "code",
   "execution_count": 3,
   "metadata": {},
   "outputs": [],
   "source": [
    "#static advantage modifier\n"
   ]
  },
  {
   "cell_type": "code",
   "execution_count": 4,
   "metadata": {},
   "outputs": [
    {
     "name": "stdout",
     "output_type": "stream",
     "text": [
      "852c0f7a-bd8c-4ca7-8df5-036083f2f676\n",
      "852c0f7a-bd8c-4ca7-8df5-036083f2f676\n",
      "3f9a9da8-95bc-47c7-a625-4adb51965cdb\n",
      "3f9a9da8-95bc-47c7-a625-4adb51965cdb\n"
     ]
    }
   ],
   "source": [
    "goblin = Entity.create(source_entity_uuid=uuid4(),name=\"Goblin\")\n",
    "skeleton = Entity.create(source_entity_uuid=uuid4(),name=\"Skeleton\")\n",
    "print(goblin.source_entity_uuid)\n",
    "print(goblin.uuid)\n",
    "print(skeleton.source_entity_uuid)\n",
    "print(skeleton.uuid)\n",
    "goblin.set_target_entity(goblin.uuid)\n"
   ]
  },
  {
   "cell_type": "code",
   "execution_count": 5,
   "metadata": {},
   "outputs": [],
   "source": [
    "def get_bonuses_for_skill(entity: Entity, skill_name: SkillName):\n",
    "    proficiency_bonus = entity.proficiency_bonus\n",
    "    skill = entity.skill_set.get_skill(skill_name)\n",
    "    skill_bonus = skill.skill_bonus\n",
    "    proficiency_bonus_multiplier_callable = skill._get_proficiency_converter()\n",
    "    ability_name = skill.ability\n",
    "    ability = entity.ability_scores.get_ability(ability_name)\n",
    "    ability_bonus = ability.ability_score\n",
    "    ability_modifier_bonus = ability.modifier_bonus\n",
    "    normalized_proficiency_bonus = proficiency_bonus.model_copy(deep=True)\n",
    "    normalized_proficiency_bonus.update_normalizers(proficiency_bonus_multiplier_callable)\n",
    "    return normalized_proficiency_bonus, skill_bonus, ability_bonus, ability_modifier_bonus\n",
    "\n",
    "def skill_total_bonus(entity: Entity, skill_name: SkillName):\n",
    "    \"\"\" For a skill roll we need to get:\n",
    "     -  proficiency bonu from Entity\n",
    "     -  skill bonus from Entity.skill_set.get_skill(skill_name).skill_bonus\n",
    "     -  proficiency bonus multiplier from Entity.skill_set.get_skill(skill_name).proficiency_bonus_multiplier\n",
    "     - ability bonus from Entity.ability_scores.get_ability(skill.ability)\"\"\"\n",
    "    normalized_proficiency_bonus, skill_bonus, ability_bonus, ability_modifier_bonus = get_bonuses_for_skill(entity, skill_name)\n",
    "    total_bonus = normalized_proficiency_bonus.combine_values([skill_bonus, ability_bonus, ability_modifier_bonus])\n",
    "    return total_bonus\n",
    "\n",
    "\n"
   ]
  },
  {
   "cell_type": "code",
   "execution_count": 6,
   "metadata": {},
   "outputs": [
    {
     "name": "stdout",
     "output_type": "stream",
     "text": [
      "Validating others source id 852c0f7a-bd8c-4ca7-8df5-036083f2f676 against self source 852c0f7a-bd8c-4ca7-8df5-036083f2f676 for modifer  with name proficiency_bonus and uuid d78ba75b-1301-4629-a74d-6a3298fe455e and type <class 'dnd.values.ModifiableValue'> against <class 'dnd.values.ModifiableValue'> with name Skill Bonus and uuid 96f8f3d6-4193-4fae-b11c-ee0b16827c27\n",
      "Validating others source id 852c0f7a-bd8c-4ca7-8df5-036083f2f676 against self source 852c0f7a-bd8c-4ca7-8df5-036083f2f676 for modifer  with name proficiency_bonus and uuid d78ba75b-1301-4629-a74d-6a3298fe455e and type <class 'dnd.values.ModifiableValue'> against <class 'dnd.values.ModifiableValue'> with name Ability Score and uuid b8e9a08f-6c87-4a93-8b52-bd150be3ff73\n",
      "Validating others source id 852c0f7a-bd8c-4ca7-8df5-036083f2f676 against self source 852c0f7a-bd8c-4ca7-8df5-036083f2f676 for modifer  with name proficiency_bonus and uuid d78ba75b-1301-4629-a74d-6a3298fe455e and type <class 'dnd.values.ModifiableValue'> against <class 'dnd.values.ModifiableValue'> with name Modifier Bonus and uuid 9ab880bc-93d6-4873-aa82-8e222f7c37f0\n",
      "0\n",
      "12\n"
     ]
    }
   ],
   "source": [
    "acrobatics_bonus = skill_total_bonus(goblin, \"acrobatics\")\n",
    "print(acrobatics_bonus.normalized_score)\n",
    "print(acrobatics_bonus.score)\n"
   ]
  },
  {
   "cell_type": "code",
   "execution_count": 7,
   "metadata": {},
   "outputs": [
    {
     "ename": "NameError",
     "evalue": "name 'a' is not defined",
     "output_type": "error",
     "traceback": [
      "\u001b[0;31m---------------------------------------------------------------------------\u001b[0m",
      "\u001b[0;31mNameError\u001b[0m                                 Traceback (most recent call last)",
      "Cell \u001b[0;32mIn[7], line 1\u001b[0m\n\u001b[0;32m----> 1\u001b[0m \u001b[43ma\u001b[49m\n",
      "\u001b[0;31mNameError\u001b[0m: name 'a' is not defined"
     ]
    }
   ],
   "source": [
    "a"
   ]
  },
  {
   "cell_type": "code",
   "execution_count": 6,
   "metadata": {},
   "outputs": [],
   "source": [
    "from dnd.modifiers import ContextualModifier\n",
    "\n",
    "\n",
    "self_advantage = AdvantageModifier(name=\"self_advantage\",source_entity_uuid=goblin.uuid,target_entity_uuid=goblin.uuid,value=AdvantageStatus.ADVANTAGE)\n",
    "\n",
    "\n",
    "def fear_of_skeleton(source_entity: UUID, target_entity: Optional[UUID], context: Optional[Dict[str, Any]] = None) -> AdvantageModifier:\n",
    "    nonemodifier= AdvantageModifier(name=\"fear_of_skeleton\",source_entity_uuid=source_entity,target_entity_uuid=target_entity,value=AdvantageStatus.NONE)\n",
    "    if target_entity is None:\n",
    "        return nonemodifier\n",
    "\n",
    "    target_entity_name = Entity.get(target_entity)\n",
    "    if target_entity_name is None:\n",
    "        return nonemodifier\n",
    "    if target_entity_name.name == \"Skeleton\":\n",
    "        return AdvantageModifier(name=\"fear_of_skeleton\",source_entity_uuid=source_entity,target_entity_uuid=target_entity,value=AdvantageStatus.DISADVANTAGE)\n",
    "    else:\n",
    "\n",
    "\n",
    "        return nonemodifier\n",
    "\n",
    "\n",
    "ifskeleton_modifier= ContextualAdvantageModifier(name=\"contextual_fear_of_skeleton\",source_entity_uuid=goblin.uuid,target_entity_uuid=goblin.uuid,callable=fear_of_skeleton)\n",
    "\n",
    "negative_bonus_modifier = NumericalModifier(name=\"negative_bonus\",source_entity_uuid=skeleton.uuid,target_entity_uuid=goblin.uuid,value=-4)\n",
    "\n",
    "# from_target_static = StaticValue(name=\"from_target_static\",source_entity_uuid=skeleton.uuid,target_entity_uuid=goblin.uuid, is_outgoing_modifier=True)\n",
    "# from_target_static.add_value_modifier(negative_bonus_modifier)\n",
    "\n",
    "def fear_of_goblin(source_entity: UUID, target_entity: Optional[UUID], context: Optional[Dict[str, Any]] = None) -> NumericalModifier:\n",
    "    zero_modifier = NumericalModifier(name=\"zero_modifier\",source_entity_uuid=source_entity,target_entity_uuid=target_entity,value=0)\n",
    "\n",
    "    if target_entity is None:\n",
    "        return zero_modifier\n",
    "    target_entity_object = Entity.get(target_entity)\n",
    "    if target_entity_object is None:\n",
    "        return zero_modifier\n",
    "    if target_entity_object.name == \"Goblin\":\n",
    "        return NumericalModifier(name=\"fear_of_goblin\",source_entity_uuid=source_entity,target_entity_uuid=target_entity,value=6)\n",
    "    else:\n",
    "        return zero_modifier\n",
    "    \n",
    "fear_of_goblin_contextual_modifier = ContextualNumericalModifier(name=\"fear_of_goblin\",source_entity_uuid=skeleton.uuid, target_entity_uuid=skeleton.uuid,callable=fear_of_goblin)\n",
    "\n"
   ]
  },
  {
   "cell_type": "code",
   "execution_count": 7,
   "metadata": {},
   "outputs": [
    {
     "name": "stdout",
     "output_type": "stream",
     "text": [
      "Proficiency Bonus: 638a7731-5377-4e61-b73d-c08f8a537a5b\n",
      "Skill Bonus: 638a7731-5377-4e61-b73d-c08f8a537a5b\n",
      "Ability Modifier: 638a7731-5377-4e61-b73d-c08f8a537a5b\n"
     ]
    }
   ],
   "source": [
    "#try to compute the modifieable value for a skill roll\n",
    "# gotta get a) the proficiency bonus b) the ability modifier c) the skill bonus\n",
    "# we want to keep them as modifiable value and combine them together\n",
    "assert isinstance(goblin, Entity)\n",
    "proficiency_modifier = goblin.proficiency_bonus\n",
    "extracted_skill = goblin.skill_set.get_skill(\"acrobatics\")\n",
    "skill_modifier = extracted_skill.skill_bonus\n",
    "extracted_ability = goblin.ability_scores.get_ability(extracted_skill.ability)\n",
    "ability_modifier = extracted_ability.ability_score\n",
    "#oprint all source entity uuids\n",
    "print(f\"Proficiency Bonus: {proficiency_modifier.source_entity_uuid}\")\n",
    "print(f\"Skill Bonus: {skill_modifier.source_entity_uuid}\")\n",
    "print(f\"Ability Modifier: {ability_modifier.source_entity_uuid}\")\n"
   ]
  },
  {
   "cell_type": "code",
   "execution_count": 8,
   "metadata": {},
   "outputs": [],
   "source": [
    "skeleton_proficiency_modifier = skeleton.proficiency_bonus\n",
    "skeleton_extracted_skill = skeleton.skill_set.get_skill(\"acrobatics\")\n",
    "skeleton_skill_modifier = skeleton_extracted_skill.skill_bonus\n",
    "skeleton_extracted_ability = skeleton.ability_scores.get_ability(skeleton_extracted_skill.ability)\n",
    "skeleton_ability_modifier = skeleton_extracted_ability.ability_score\n",
    "\n",
    "\n",
    "skelton_to_target_static = skeleton_ability_modifier.to_target_static\n",
    "skeleton_to_target_contextual = skeleton_ability_modifier.to_target_contextual\n",
    "skeleton_to_target_contextual.add_value_modifier(fear_of_goblin_contextual_modifier)\n",
    "skelton_to_target_static.add_value_modifier(negative_bonus_modifier)\n",
    "skeleton.set_target_entity(goblin.uuid)\n",
    "goblin.set_target_entity(skeleton.uuid)"
   ]
  },
  {
   "cell_type": "code",
   "execution_count": null,
   "metadata": {},
   "outputs": [],
   "source": []
  },
  {
   "cell_type": "code",
   "execution_count": 9,
   "metadata": {},
   "outputs": [
    {
     "name": "stdout",
     "output_type": "stream",
     "text": [
      "0\n",
      "10\n",
      "0\n",
      "0\n",
      "Validating others source id 638a7731-5377-4e61-b73d-c08f8a537a5b against self source 638a7731-5377-4e61-b73d-c08f8a537a5b for modifer  with name Ability Score and uuid 29f1c9e6-d3c6-4c31-a670-056e081eb639 and type <class 'dnd.values.ModifiableValue'> against <class 'dnd.values.ModifiableValue'> with name Skill Bonus and uuid b850e759-c54d-4c0b-b148-eeaa9e354dce\n",
      "0\n",
      "10\n"
     ]
    }
   ],
   "source": [
    "print(ability_modifier.normalized_score)\n",
    "print(ability_modifier.score)\n",
    "print(skill_modifier.normalized_score)\n",
    "print(skill_modifier.score)\n",
    "combined_modifier= ability_modifier.combine_values([skill_modifier])\n",
    "print(combined_modifier.normalized_score)\n",
    "print(combined_modifier.score)\n"
   ]
  },
  {
   "cell_type": "code",
   "execution_count": 10,
   "metadata": {},
   "outputs": [],
   "source": [
    "ability_modifier.set_from_target_static(skelton_to_target_static)\n",
    "ability_modifier.set_from_target_contextual(skeleton_to_target_contextual)\n"
   ]
  },
  {
   "cell_type": "code",
   "execution_count": 11,
   "metadata": {},
   "outputs": [
    {
     "name": "stdout",
     "output_type": "stream",
     "text": [
      "2\n",
      "12\n",
      "0\n",
      "0\n"
     ]
    }
   ],
   "source": [
    "print(ability_modifier.normalized_score)\n",
    "print(ability_modifier.score)\n",
    "print(skill_modifier.normalized_score)\n",
    "print(skill_modifier.score)\n"
   ]
  },
  {
   "cell_type": "code",
   "execution_count": 12,
   "metadata": {},
   "outputs": [
    {
     "name": "stdout",
     "output_type": "stream",
     "text": [
      "-4\n",
      "6\n",
      "0\n",
      "0\n"
     ]
    }
   ],
   "source": [
    "goblin.name=\"GOBLINO\"\n",
    "print(ability_modifier.normalized_score)\n",
    "print(ability_modifier.score)\n",
    "print(skill_modifier.normalized_score)\n",
    "print(skill_modifier.score)\n",
    "goblin.name=\"Goblin\""
   ]
  },
  {
   "cell_type": "code",
   "execution_count": 13,
   "metadata": {},
   "outputs": [
    {
     "name": "stdout",
     "output_type": "stream",
     "text": [
      "Validating others source id 638a7731-5377-4e61-b73d-c08f8a537a5b against self source 638a7731-5377-4e61-b73d-c08f8a537a5b for modifer  with name Ability Score and uuid 29f1c9e6-d3c6-4c31-a670-056e081eb639 and type <class 'dnd.values.ModifiableValue'> against <class 'dnd.values.ModifiableValue'> with name Skill Bonus and uuid b850e759-c54d-4c0b-b148-eeaa9e354dce\n",
      "2\n",
      "12\n"
     ]
    }
   ],
   "source": [
    "combined_modifier2= ability_modifier.combine_values([skill_modifier])\n",
    "print(combined_modifier2.normalized_score)\n",
    "print(combined_modifier2.score)"
   ]
  },
  {
   "cell_type": "code",
   "execution_count": 14,
   "metadata": {},
   "outputs": [
    {
     "data": {
      "text/plain": [
       "[StaticValue(name='A Value_A Value', uuid=UUID('42c2247d-f7e2-41cb-b2cd-13b84e07166e'), source_entity_uuid=UUID('638a7731-5377-4e61-b73d-c08f8a537a5b'), source_entity_name=None, target_entity_uuid=UUID('366a13c5-1c36-4b39-8d63-4e1ea4136b94'), target_entity_name=None, context=None, score_normalizer=<function ability_score_normalizer at 0x1071ced40>, generated_from=[UUID('89582156-63b8-4566-ad6e-cc93f25d2e89'), UUID('4fa354bd-3fde-4dc8-9e31-738b15021277')], global_normalizer=False, value_modifiers={UUID('f62a7876-aac9-4a9b-8744-6bacda02ca89'): NumericalModifier(name='Ability Score_base_value', uuid=UUID('f62a7876-aac9-4a9b-8744-6bacda02ca89'), source_entity_uuid=UUID('3cc07c31-9f94-4764-82ff-2560016e5706'), source_entity_name=None, target_entity_uuid=UUID('3cc07c31-9f94-4764-82ff-2560016e5706'), target_entity_name=None, context=None, value=10, score_normalizer=<function ability_score_normalizer at 0x1071ced40>, normalized_value=0), UUID('5f3d3082-19fe-4681-9b79-884dda097a94'): NumericalModifier(name='Skill Bonus_base_value', uuid=UUID('5f3d3082-19fe-4681-9b79-884dda097a94'), source_entity_uuid=UUID('114f17cb-c043-4ea9-85e4-4c94de8ea063'), source_entity_name=None, target_entity_uuid=UUID('114f17cb-c043-4ea9-85e4-4c94de8ea063'), target_entity_name=None, context=None, value=0, score_normalizer=<function ModifiableValue.create.<locals>.<lambda> at 0x1090391c0>, normalized_value=0)}, min_constraints={}, max_constraints={}, advantage_modifiers={}, critical_modifiers={}, auto_hit_modifiers={}, is_outgoing_modifier=False, size_modifiers={}, damage_type_modifiers={}, resistance_modifiers={}, largest_size_priority=True, min=None, max=None, score=10, normalized_score=0, advantage_sum=0, advantage=<AdvantageStatus.NONE: 'None'>, critical=<CriticalStatus.NONE: 'None'>, auto_hit=<AutoHitStatus.NONE: 'None'>, size=<Size.MEDIUM: 'Medium'>, damage_types=[], damage_type=None, resistance_sum={<DamageType.ACID: 'Acid'>: 0, <DamageType.BLUDGEONING: 'Bludgeoning'>: 0, <DamageType.COLD: 'Cold'>: 0, <DamageType.FIRE: 'Fire'>: 0, <DamageType.FORCE: 'Force'>: 0, <DamageType.LIGHTNING: 'Lightning'>: 0, <DamageType.NECROTIC: 'Necrotic'>: 0, <DamageType.PIERCING: 'Piercing'>: 0, <DamageType.POISON: 'Poison'>: 0, <DamageType.PSYCHIC: 'Psychic'>: 0, <DamageType.RADIANT: 'Radiant'>: 0, <DamageType.SLASHING: 'Slashing'>: 0, <DamageType.THUNDER: 'Thunder'>: 0}, resistance={<DamageType.ACID: 'Acid'>: <ResistanceStatus.NONE: 'None'>, <DamageType.BLUDGEONING: 'Bludgeoning'>: <ResistanceStatus.NONE: 'None'>, <DamageType.COLD: 'Cold'>: <ResistanceStatus.NONE: 'None'>, <DamageType.FIRE: 'Fire'>: <ResistanceStatus.NONE: 'None'>, <DamageType.FORCE: 'Force'>: <ResistanceStatus.NONE: 'None'>, <DamageType.LIGHTNING: 'Lightning'>: <ResistanceStatus.NONE: 'None'>, <DamageType.NECROTIC: 'Necrotic'>: <ResistanceStatus.NONE: 'None'>, <DamageType.PIERCING: 'Piercing'>: <ResistanceStatus.NONE: 'None'>, <DamageType.POISON: 'Poison'>: <ResistanceStatus.NONE: 'None'>, <DamageType.PSYCHIC: 'Psychic'>: <ResistanceStatus.NONE: 'None'>, <DamageType.RADIANT: 'Radiant'>: <ResistanceStatus.NONE: 'None'>, <DamageType.SLASHING: 'Slashing'>: <ResistanceStatus.NONE: 'None'>, <DamageType.THUNDER: 'Thunder'>: <ResistanceStatus.NONE: 'None'>}),\n",
       " ContextualValue(name='A Value_A Value', uuid=UUID('6afa06a6-237e-4dd7-80e2-c231f713d88b'), source_entity_uuid=UUID('638a7731-5377-4e61-b73d-c08f8a537a5b'), source_entity_name=None, target_entity_uuid=UUID('366a13c5-1c36-4b39-8d63-4e1ea4136b94'), target_entity_name=None, context=None, score_normalizer=<function ability_score_normalizer at 0x1071ced40>, generated_from=[UUID('f8cacd7c-932a-4edc-9bfb-898af61297d2'), UUID('baacff4f-47a4-4f81-88eb-b3cb5521638b')], global_normalizer=False, value_modifiers={}, min_constraints={}, max_constraints={}, advantage_modifiers={}, critical_modifiers={}, auto_hit_modifiers={}, is_outgoing_modifier=False, size_modifiers={}, damage_type_modifiers={}, resistance_modifiers={}, largest_size_priority=True, min=None, max=None, score=0, normalized_score=0, advantage_sum=0, advantage=<AdvantageStatus.NONE: 'None'>, critical=<CriticalStatus.NONE: 'None'>, auto_hit=<AutoHitStatus.NONE: 'None'>, size=<Size.MEDIUM: 'Medium'>, damage_types=[], damage_type=None, resistance_sum={<DamageType.ACID: 'Acid'>: 0, <DamageType.BLUDGEONING: 'Bludgeoning'>: 0, <DamageType.COLD: 'Cold'>: 0, <DamageType.FIRE: 'Fire'>: 0, <DamageType.FORCE: 'Force'>: 0, <DamageType.LIGHTNING: 'Lightning'>: 0, <DamageType.NECROTIC: 'Necrotic'>: 0, <DamageType.PIERCING: 'Piercing'>: 0, <DamageType.POISON: 'Poison'>: 0, <DamageType.PSYCHIC: 'Psychic'>: 0, <DamageType.RADIANT: 'Radiant'>: 0, <DamageType.SLASHING: 'Slashing'>: 0, <DamageType.THUNDER: 'Thunder'>: 0}, resistance={<DamageType.ACID: 'Acid'>: <ResistanceStatus.NONE: 'None'>, <DamageType.BLUDGEONING: 'Bludgeoning'>: <ResistanceStatus.NONE: 'None'>, <DamageType.COLD: 'Cold'>: <ResistanceStatus.NONE: 'None'>, <DamageType.FIRE: 'Fire'>: <ResistanceStatus.NONE: 'None'>, <DamageType.FORCE: 'Force'>: <ResistanceStatus.NONE: 'None'>, <DamageType.LIGHTNING: 'Lightning'>: <ResistanceStatus.NONE: 'None'>, <DamageType.NECROTIC: 'Necrotic'>: <ResistanceStatus.NONE: 'None'>, <DamageType.PIERCING: 'Piercing'>: <ResistanceStatus.NONE: 'None'>, <DamageType.POISON: 'Poison'>: <ResistanceStatus.NONE: 'None'>, <DamageType.PSYCHIC: 'Psychic'>: <ResistanceStatus.NONE: 'None'>, <DamageType.RADIANT: 'Radiant'>: <ResistanceStatus.NONE: 'None'>, <DamageType.SLASHING: 'Slashing'>: <ResistanceStatus.NONE: 'None'>, <DamageType.THUNDER: 'Thunder'>: <ResistanceStatus.NONE: 'None'>}),\n",
       " ContextualValue(name='A Value', uuid=UUID('dbcf75e9-c45b-40dc-9f72-f11cfc9ddf96'), source_entity_uuid=UUID('366a13c5-1c36-4b39-8d63-4e1ea4136b94'), source_entity_name=None, target_entity_uuid=UUID('638a7731-5377-4e61-b73d-c08f8a537a5b'), target_entity_name=None, context=None, score_normalizer=<function ability_score_normalizer at 0x1071ced40>, generated_from=[UUID('7a008252-b7c8-4553-af93-5fca6c28bd17')], global_normalizer=False, value_modifiers={UUID('1eb08b16-78b5-4f42-8311-f888e99f0b89'): ContextualNumericalModifier(name='fear_of_goblin', uuid=UUID('1eb08b16-78b5-4f42-8311-f888e99f0b89'), source_entity_uuid=UUID('366a13c5-1c36-4b39-8d63-4e1ea4136b94'), source_entity_name=None, target_entity_uuid=UUID('366a13c5-1c36-4b39-8d63-4e1ea4136b94'), target_entity_name=None, context=None, callable=<function fear_of_goblin at 0x109350ae0>, callable_arguments=None)}, min_constraints={}, max_constraints={}, advantage_modifiers={}, critical_modifiers={}, auto_hit_modifiers={}, is_outgoing_modifier=True, size_modifiers={}, damage_type_modifiers={}, resistance_modifiers={}, largest_size_priority=True, min=None, max=None, score=6, normalized_score=6, advantage_sum=0, advantage=<AdvantageStatus.NONE: 'None'>, critical=<CriticalStatus.NONE: 'None'>, auto_hit=<AutoHitStatus.NONE: 'None'>, size=<Size.MEDIUM: 'Medium'>, damage_types=[], damage_type=None, resistance_sum={<DamageType.ACID: 'Acid'>: 0, <DamageType.BLUDGEONING: 'Bludgeoning'>: 0, <DamageType.COLD: 'Cold'>: 0, <DamageType.FIRE: 'Fire'>: 0, <DamageType.FORCE: 'Force'>: 0, <DamageType.LIGHTNING: 'Lightning'>: 0, <DamageType.NECROTIC: 'Necrotic'>: 0, <DamageType.PIERCING: 'Piercing'>: 0, <DamageType.POISON: 'Poison'>: 0, <DamageType.PSYCHIC: 'Psychic'>: 0, <DamageType.RADIANT: 'Radiant'>: 0, <DamageType.SLASHING: 'Slashing'>: 0, <DamageType.THUNDER: 'Thunder'>: 0}, resistance={<DamageType.ACID: 'Acid'>: <ResistanceStatus.NONE: 'None'>, <DamageType.BLUDGEONING: 'Bludgeoning'>: <ResistanceStatus.NONE: 'None'>, <DamageType.COLD: 'Cold'>: <ResistanceStatus.NONE: 'None'>, <DamageType.FIRE: 'Fire'>: <ResistanceStatus.NONE: 'None'>, <DamageType.FORCE: 'Force'>: <ResistanceStatus.NONE: 'None'>, <DamageType.LIGHTNING: 'Lightning'>: <ResistanceStatus.NONE: 'None'>, <DamageType.NECROTIC: 'Necrotic'>: <ResistanceStatus.NONE: 'None'>, <DamageType.PIERCING: 'Piercing'>: <ResistanceStatus.NONE: 'None'>, <DamageType.POISON: 'Poison'>: <ResistanceStatus.NONE: 'None'>, <DamageType.PSYCHIC: 'Psychic'>: <ResistanceStatus.NONE: 'None'>, <DamageType.RADIANT: 'Radiant'>: <ResistanceStatus.NONE: 'None'>, <DamageType.SLASHING: 'Slashing'>: <ResistanceStatus.NONE: 'None'>, <DamageType.THUNDER: 'Thunder'>: <ResistanceStatus.NONE: 'None'>}),\n",
       " StaticValue(name='A Value', uuid=UUID('056ae2d8-855e-4937-ab5f-65b210a351b4'), source_entity_uuid=UUID('366a13c5-1c36-4b39-8d63-4e1ea4136b94'), source_entity_name=None, target_entity_uuid=UUID('638a7731-5377-4e61-b73d-c08f8a537a5b'), target_entity_name=None, context=None, score_normalizer=<function ability_score_normalizer at 0x1071ced40>, generated_from=[UUID('31b1831e-67f4-40a2-bd7a-d81bb1bfaec3')], global_normalizer=False, value_modifiers={UUID('9006747e-52f0-4bf2-a482-014c1784c005'): NumericalModifier(name='negative_bonus', uuid=UUID('9006747e-52f0-4bf2-a482-014c1784c005'), source_entity_uuid=UUID('366a13c5-1c36-4b39-8d63-4e1ea4136b94'), source_entity_name=None, target_entity_uuid=UUID('638a7731-5377-4e61-b73d-c08f8a537a5b'), target_entity_name=None, context=None, value=-4, score_normalizer=None, normalized_value=-4)}, min_constraints={}, max_constraints={}, advantage_modifiers={}, critical_modifiers={}, auto_hit_modifiers={}, is_outgoing_modifier=True, size_modifiers={}, damage_type_modifiers={}, resistance_modifiers={}, largest_size_priority=True, min=None, max=None, score=-4, normalized_score=-4, advantage_sum=0, advantage=<AdvantageStatus.NONE: 'None'>, critical=<CriticalStatus.NONE: 'None'>, auto_hit=<AutoHitStatus.NONE: 'None'>, size=<Size.MEDIUM: 'Medium'>, damage_types=[], damage_type=None, resistance_sum={<DamageType.ACID: 'Acid'>: 0, <DamageType.BLUDGEONING: 'Bludgeoning'>: 0, <DamageType.COLD: 'Cold'>: 0, <DamageType.FIRE: 'Fire'>: 0, <DamageType.FORCE: 'Force'>: 0, <DamageType.LIGHTNING: 'Lightning'>: 0, <DamageType.NECROTIC: 'Necrotic'>: 0, <DamageType.PIERCING: 'Piercing'>: 0, <DamageType.POISON: 'Poison'>: 0, <DamageType.PSYCHIC: 'Psychic'>: 0, <DamageType.RADIANT: 'Radiant'>: 0, <DamageType.SLASHING: 'Slashing'>: 0, <DamageType.THUNDER: 'Thunder'>: 0}, resistance={<DamageType.ACID: 'Acid'>: <ResistanceStatus.NONE: 'None'>, <DamageType.BLUDGEONING: 'Bludgeoning'>: <ResistanceStatus.NONE: 'None'>, <DamageType.COLD: 'Cold'>: <ResistanceStatus.NONE: 'None'>, <DamageType.FIRE: 'Fire'>: <ResistanceStatus.NONE: 'None'>, <DamageType.FORCE: 'Force'>: <ResistanceStatus.NONE: 'None'>, <DamageType.LIGHTNING: 'Lightning'>: <ResistanceStatus.NONE: 'None'>, <DamageType.NECROTIC: 'Necrotic'>: <ResistanceStatus.NONE: 'None'>, <DamageType.PIERCING: 'Piercing'>: <ResistanceStatus.NONE: 'None'>, <DamageType.POISON: 'Poison'>: <ResistanceStatus.NONE: 'None'>, <DamageType.PSYCHIC: 'Psychic'>: <ResistanceStatus.NONE: 'None'>, <DamageType.RADIANT: 'Radiant'>: <ResistanceStatus.NONE: 'None'>, <DamageType.SLASHING: 'Slashing'>: <ResistanceStatus.NONE: 'None'>, <DamageType.THUNDER: 'Thunder'>: <ResistanceStatus.NONE: 'None'>})]"
      ]
     },
     "execution_count": 14,
     "metadata": {},
     "output_type": "execute_result"
    }
   ],
   "source": [
    "combined_modifier2.get_typed_modifiers()\n"
   ]
  },
  {
   "cell_type": "code",
   "execution_count": 15,
   "metadata": {},
   "outputs": [
    {
     "name": "stdout",
     "output_type": "stream",
     "text": [
      "0\n",
      "10\n"
     ]
    }
   ],
   "source": [
    "combined_modifier2.clear_target_entity()\n",
    "print(combined_modifier2.normalized_score)\n",
    "print(combined_modifier2.score)"
   ]
  },
  {
   "cell_type": "code",
   "execution_count": 29,
   "metadata": {},
   "outputs": [
    {
     "name": "stdout",
     "output_type": "stream",
     "text": [
      "Validating others source id 6a8b6d91-4179-40e7-ba74-06faf69e301d against self source 6a8b6d91-4179-40e7-ba74-06faf69e301d for modifer  with name Ability Score and uuid c58d9aca-4386-4fd1-94e8-32fb31b6c14a and type <class 'dnd.values.ModifiableValue'> against <class 'dnd.values.ModifiableValue'> with name Skill Bonus and uuid bfb97730-32ac-4ed1-a1cc-55c8fd009630\n",
      "0\n",
      "10\n"
     ]
    }
   ],
   "source": [
    "combined_modifier= ability_modifier.combine_values([skill_modifier])\n",
    "print(combined_modifier.normalized_score)\n",
    "print(combined_modifier.score)"
   ]
  },
  {
   "cell_type": "code",
   "execution_count": 30,
   "metadata": {},
   "outputs": [
    {
     "data": {
      "text/plain": [
       "[ModifiableValue(name='Ability Score', uuid=UUID('c58d9aca-4386-4fd1-94e8-32fb31b6c14a'), source_entity_uuid=UUID('6a8b6d91-4179-40e7-ba74-06faf69e301d'), source_entity_name=None, target_entity_uuid=UUID('6a8b6d91-4179-40e7-ba74-06faf69e301d'), target_entity_name=None, context=None, score_normalizer=<function ability_score_normalizer at 0x105ed2ca0>, generated_from=[], global_normalizer=True, self_static=StaticValue(name='A Value', uuid=UUID('eca6bf0f-435a-4b3c-babb-87a79cd30233'), source_entity_uuid=UUID('6a8b6d91-4179-40e7-ba74-06faf69e301d'), source_entity_name=None, target_entity_uuid=UUID('6a8b6d91-4179-40e7-ba74-06faf69e301d'), target_entity_name=None, context=None, score_normalizer=<function ability_score_normalizer at 0x105ed2ca0>, generated_from=[], global_normalizer=True, value_modifiers={UUID('59ac02b8-c23f-49b7-890f-a3f7354f35f5'): NumericalModifier(name='Ability Score_base_value', uuid=UUID('59ac02b8-c23f-49b7-890f-a3f7354f35f5'), source_entity_uuid=UUID('db54ae10-a097-4936-8153-8e9b71ee3c9d'), source_entity_name=None, target_entity_uuid=UUID('db54ae10-a097-4936-8153-8e9b71ee3c9d'), target_entity_name=None, context=None, value=10, score_normalizer=<function ability_score_normalizer at 0x105ed2ca0>, normalized_value=0)}, min_constraints={}, max_constraints={}, advantage_modifiers={}, critical_modifiers={}, auto_hit_modifiers={}, is_outgoing_modifier=False, size_modifiers={}, damage_type_modifiers={}, resistance_modifiers={}, largest_size_priority=True, min=None, max=None, score=10, normalized_score=0, advantage_sum=0, advantage=<AdvantageStatus.NONE: 'None'>, critical=<CriticalStatus.NONE: 'None'>, auto_hit=<AutoHitStatus.NONE: 'None'>, size=<Size.MEDIUM: 'Medium'>, damage_types=[], damage_type=None, resistance_sum={<DamageType.ACID: 'Acid'>: 0, <DamageType.BLUDGEONING: 'Bludgeoning'>: 0, <DamageType.COLD: 'Cold'>: 0, <DamageType.FIRE: 'Fire'>: 0, <DamageType.FORCE: 'Force'>: 0, <DamageType.LIGHTNING: 'Lightning'>: 0, <DamageType.NECROTIC: 'Necrotic'>: 0, <DamageType.PIERCING: 'Piercing'>: 0, <DamageType.POISON: 'Poison'>: 0, <DamageType.PSYCHIC: 'Psychic'>: 0, <DamageType.RADIANT: 'Radiant'>: 0, <DamageType.SLASHING: 'Slashing'>: 0, <DamageType.THUNDER: 'Thunder'>: 0}, resistance={<DamageType.ACID: 'Acid'>: <ResistanceStatus.NONE: 'None'>, <DamageType.BLUDGEONING: 'Bludgeoning'>: <ResistanceStatus.NONE: 'None'>, <DamageType.COLD: 'Cold'>: <ResistanceStatus.NONE: 'None'>, <DamageType.FIRE: 'Fire'>: <ResistanceStatus.NONE: 'None'>, <DamageType.FORCE: 'Force'>: <ResistanceStatus.NONE: 'None'>, <DamageType.LIGHTNING: 'Lightning'>: <ResistanceStatus.NONE: 'None'>, <DamageType.NECROTIC: 'Necrotic'>: <ResistanceStatus.NONE: 'None'>, <DamageType.PIERCING: 'Piercing'>: <ResistanceStatus.NONE: 'None'>, <DamageType.POISON: 'Poison'>: <ResistanceStatus.NONE: 'None'>, <DamageType.PSYCHIC: 'Psychic'>: <ResistanceStatus.NONE: 'None'>, <DamageType.RADIANT: 'Radiant'>: <ResistanceStatus.NONE: 'None'>, <DamageType.SLASHING: 'Slashing'>: <ResistanceStatus.NONE: 'None'>, <DamageType.THUNDER: 'Thunder'>: <ResistanceStatus.NONE: 'None'>}), to_target_static=StaticValue(name='A Value', uuid=UUID('959b6b21-693a-4148-a6b9-d584372fefbb'), source_entity_uuid=UUID('6a8b6d91-4179-40e7-ba74-06faf69e301d'), source_entity_name=None, target_entity_uuid=UUID('6a8b6d91-4179-40e7-ba74-06faf69e301d'), target_entity_name=None, context=None, score_normalizer=<function ability_score_normalizer at 0x105ed2ca0>, generated_from=[], global_normalizer=True, value_modifiers={}, min_constraints={}, max_constraints={}, advantage_modifiers={}, critical_modifiers={}, auto_hit_modifiers={}, is_outgoing_modifier=True, size_modifiers={}, damage_type_modifiers={}, resistance_modifiers={}, largest_size_priority=True, min=None, max=None, score=0, normalized_score=0, advantage_sum=0, advantage=<AdvantageStatus.NONE: 'None'>, critical=<CriticalStatus.NONE: 'None'>, auto_hit=<AutoHitStatus.NONE: 'None'>, size=<Size.MEDIUM: 'Medium'>, damage_types=[], damage_type=None, resistance_sum={<DamageType.ACID: 'Acid'>: 0, <DamageType.BLUDGEONING: 'Bludgeoning'>: 0, <DamageType.COLD: 'Cold'>: 0, <DamageType.FIRE: 'Fire'>: 0, <DamageType.FORCE: 'Force'>: 0, <DamageType.LIGHTNING: 'Lightning'>: 0, <DamageType.NECROTIC: 'Necrotic'>: 0, <DamageType.PIERCING: 'Piercing'>: 0, <DamageType.POISON: 'Poison'>: 0, <DamageType.PSYCHIC: 'Psychic'>: 0, <DamageType.RADIANT: 'Radiant'>: 0, <DamageType.SLASHING: 'Slashing'>: 0, <DamageType.THUNDER: 'Thunder'>: 0}, resistance={<DamageType.ACID: 'Acid'>: <ResistanceStatus.NONE: 'None'>, <DamageType.BLUDGEONING: 'Bludgeoning'>: <ResistanceStatus.NONE: 'None'>, <DamageType.COLD: 'Cold'>: <ResistanceStatus.NONE: 'None'>, <DamageType.FIRE: 'Fire'>: <ResistanceStatus.NONE: 'None'>, <DamageType.FORCE: 'Force'>: <ResistanceStatus.NONE: 'None'>, <DamageType.LIGHTNING: 'Lightning'>: <ResistanceStatus.NONE: 'None'>, <DamageType.NECROTIC: 'Necrotic'>: <ResistanceStatus.NONE: 'None'>, <DamageType.PIERCING: 'Piercing'>: <ResistanceStatus.NONE: 'None'>, <DamageType.POISON: 'Poison'>: <ResistanceStatus.NONE: 'None'>, <DamageType.PSYCHIC: 'Psychic'>: <ResistanceStatus.NONE: 'None'>, <DamageType.RADIANT: 'Radiant'>: <ResistanceStatus.NONE: 'None'>, <DamageType.SLASHING: 'Slashing'>: <ResistanceStatus.NONE: 'None'>, <DamageType.THUNDER: 'Thunder'>: <ResistanceStatus.NONE: 'None'>}), self_contextual=ContextualValue(name='A Value', uuid=UUID('12c20b84-5b69-4966-857c-32640538ceab'), source_entity_uuid=UUID('6a8b6d91-4179-40e7-ba74-06faf69e301d'), source_entity_name=None, target_entity_uuid=UUID('6a8b6d91-4179-40e7-ba74-06faf69e301d'), target_entity_name=None, context=None, score_normalizer=<function ability_score_normalizer at 0x105ed2ca0>, generated_from=[], global_normalizer=True, value_modifiers={}, min_constraints={}, max_constraints={}, advantage_modifiers={}, critical_modifiers={}, auto_hit_modifiers={}, is_outgoing_modifier=False, size_modifiers={}, damage_type_modifiers={}, resistance_modifiers={}, largest_size_priority=True, min=None, max=None, score=0, normalized_score=0, advantage_sum=0, advantage=<AdvantageStatus.NONE: 'None'>, critical=<CriticalStatus.NONE: 'None'>, auto_hit=<AutoHitStatus.NONE: 'None'>, size=<Size.MEDIUM: 'Medium'>, damage_types=[], damage_type=None, resistance_sum={<DamageType.ACID: 'Acid'>: 0, <DamageType.BLUDGEONING: 'Bludgeoning'>: 0, <DamageType.COLD: 'Cold'>: 0, <DamageType.FIRE: 'Fire'>: 0, <DamageType.FORCE: 'Force'>: 0, <DamageType.LIGHTNING: 'Lightning'>: 0, <DamageType.NECROTIC: 'Necrotic'>: 0, <DamageType.PIERCING: 'Piercing'>: 0, <DamageType.POISON: 'Poison'>: 0, <DamageType.PSYCHIC: 'Psychic'>: 0, <DamageType.RADIANT: 'Radiant'>: 0, <DamageType.SLASHING: 'Slashing'>: 0, <DamageType.THUNDER: 'Thunder'>: 0}, resistance={<DamageType.ACID: 'Acid'>: <ResistanceStatus.NONE: 'None'>, <DamageType.BLUDGEONING: 'Bludgeoning'>: <ResistanceStatus.NONE: 'None'>, <DamageType.COLD: 'Cold'>: <ResistanceStatus.NONE: 'None'>, <DamageType.FIRE: 'Fire'>: <ResistanceStatus.NONE: 'None'>, <DamageType.FORCE: 'Force'>: <ResistanceStatus.NONE: 'None'>, <DamageType.LIGHTNING: 'Lightning'>: <ResistanceStatus.NONE: 'None'>, <DamageType.NECROTIC: 'Necrotic'>: <ResistanceStatus.NONE: 'None'>, <DamageType.PIERCING: 'Piercing'>: <ResistanceStatus.NONE: 'None'>, <DamageType.POISON: 'Poison'>: <ResistanceStatus.NONE: 'None'>, <DamageType.PSYCHIC: 'Psychic'>: <ResistanceStatus.NONE: 'None'>, <DamageType.RADIANT: 'Radiant'>: <ResistanceStatus.NONE: 'None'>, <DamageType.SLASHING: 'Slashing'>: <ResistanceStatus.NONE: 'None'>, <DamageType.THUNDER: 'Thunder'>: <ResistanceStatus.NONE: 'None'>}), to_target_contextual=ContextualValue(name='A Value', uuid=UUID('424452ba-605d-403b-a5f6-ff81f143217d'), source_entity_uuid=UUID('6a8b6d91-4179-40e7-ba74-06faf69e301d'), source_entity_name=None, target_entity_uuid=UUID('6a8b6d91-4179-40e7-ba74-06faf69e301d'), target_entity_name=None, context=None, score_normalizer=<function ability_score_normalizer at 0x105ed2ca0>, generated_from=[], global_normalizer=True, value_modifiers={}, min_constraints={}, max_constraints={}, advantage_modifiers={}, critical_modifiers={}, auto_hit_modifiers={}, is_outgoing_modifier=True, size_modifiers={}, damage_type_modifiers={}, resistance_modifiers={}, largest_size_priority=True, min=None, max=None, score=0, normalized_score=0, advantage_sum=0, advantage=<AdvantageStatus.NONE: 'None'>, critical=<CriticalStatus.NONE: 'None'>, auto_hit=<AutoHitStatus.NONE: 'None'>, size=<Size.MEDIUM: 'Medium'>, damage_types=[], damage_type=None, resistance_sum={<DamageType.ACID: 'Acid'>: 0, <DamageType.BLUDGEONING: 'Bludgeoning'>: 0, <DamageType.COLD: 'Cold'>: 0, <DamageType.FIRE: 'Fire'>: 0, <DamageType.FORCE: 'Force'>: 0, <DamageType.LIGHTNING: 'Lightning'>: 0, <DamageType.NECROTIC: 'Necrotic'>: 0, <DamageType.PIERCING: 'Piercing'>: 0, <DamageType.POISON: 'Poison'>: 0, <DamageType.PSYCHIC: 'Psychic'>: 0, <DamageType.RADIANT: 'Radiant'>: 0, <DamageType.SLASHING: 'Slashing'>: 0, <DamageType.THUNDER: 'Thunder'>: 0}, resistance={<DamageType.ACID: 'Acid'>: <ResistanceStatus.NONE: 'None'>, <DamageType.BLUDGEONING: 'Bludgeoning'>: <ResistanceStatus.NONE: 'None'>, <DamageType.COLD: 'Cold'>: <ResistanceStatus.NONE: 'None'>, <DamageType.FIRE: 'Fire'>: <ResistanceStatus.NONE: 'None'>, <DamageType.FORCE: 'Force'>: <ResistanceStatus.NONE: 'None'>, <DamageType.LIGHTNING: 'Lightning'>: <ResistanceStatus.NONE: 'None'>, <DamageType.NECROTIC: 'Necrotic'>: <ResistanceStatus.NONE: 'None'>, <DamageType.PIERCING: 'Piercing'>: <ResistanceStatus.NONE: 'None'>, <DamageType.POISON: 'Poison'>: <ResistanceStatus.NONE: 'None'>, <DamageType.PSYCHIC: 'Psychic'>: <ResistanceStatus.NONE: 'None'>, <DamageType.RADIANT: 'Radiant'>: <ResistanceStatus.NONE: 'None'>, <DamageType.SLASHING: 'Slashing'>: <ResistanceStatus.NONE: 'None'>, <DamageType.THUNDER: 'Thunder'>: <ResistanceStatus.NONE: 'None'>}), from_target_contextual=None, from_target_static=None, min=None, max=None, score=10, normalized_score=0, advantage_sum=0, advantage=<AdvantageStatus.NONE: 'None'>, critical=<CriticalStatus.NONE: 'None'>, auto_hit=<AutoHitStatus.NONE: 'None'>, size=<Size.MEDIUM: 'Medium'>, damage_types=[], damage_type=None, resistance_sum={<DamageType.ACID: 'Acid'>: 0, <DamageType.BLUDGEONING: 'Bludgeoning'>: 0, <DamageType.COLD: 'Cold'>: 0, <DamageType.FIRE: 'Fire'>: 0, <DamageType.FORCE: 'Force'>: 0, <DamageType.LIGHTNING: 'Lightning'>: 0, <DamageType.NECROTIC: 'Necrotic'>: 0, <DamageType.PIERCING: 'Piercing'>: 0, <DamageType.POISON: 'Poison'>: 0, <DamageType.PSYCHIC: 'Psychic'>: 0, <DamageType.RADIANT: 'Radiant'>: 0, <DamageType.SLASHING: 'Slashing'>: 0, <DamageType.THUNDER: 'Thunder'>: 0}, resistance={<DamageType.ACID: 'Acid'>: <ResistanceStatus.NONE: 'None'>, <DamageType.BLUDGEONING: 'Bludgeoning'>: <ResistanceStatus.NONE: 'None'>, <DamageType.COLD: 'Cold'>: <ResistanceStatus.NONE: 'None'>, <DamageType.FIRE: 'Fire'>: <ResistanceStatus.NONE: 'None'>, <DamageType.FORCE: 'Force'>: <ResistanceStatus.NONE: 'None'>, <DamageType.LIGHTNING: 'Lightning'>: <ResistanceStatus.NONE: 'None'>, <DamageType.NECROTIC: 'Necrotic'>: <ResistanceStatus.NONE: 'None'>, <DamageType.PIERCING: 'Piercing'>: <ResistanceStatus.NONE: 'None'>, <DamageType.POISON: 'Poison'>: <ResistanceStatus.NONE: 'None'>, <DamageType.PSYCHIC: 'Psychic'>: <ResistanceStatus.NONE: 'None'>, <DamageType.RADIANT: 'Radiant'>: <ResistanceStatus.NONE: 'None'>, <DamageType.SLASHING: 'Slashing'>: <ResistanceStatus.NONE: 'None'>, <DamageType.THUNDER: 'Thunder'>: <ResistanceStatus.NONE: 'None'>}),\n",
       " ModifiableValue(name='Skill Bonus', uuid=UUID('bfb97730-32ac-4ed1-a1cc-55c8fd009630'), source_entity_uuid=UUID('6a8b6d91-4179-40e7-ba74-06faf69e301d'), source_entity_name=None, target_entity_uuid=UUID('6a8b6d91-4179-40e7-ba74-06faf69e301d'), target_entity_name=None, context=None, score_normalizer=<function ModifiableValue.create.<locals>.<lambda> at 0x10aba65c0>, generated_from=[], global_normalizer=True, self_static=StaticValue(name='A Value', uuid=UUID('44a92aa2-a4a9-433d-973e-6d57faf10ebc'), source_entity_uuid=UUID('6a8b6d91-4179-40e7-ba74-06faf69e301d'), source_entity_name=None, target_entity_uuid=UUID('6a8b6d91-4179-40e7-ba74-06faf69e301d'), target_entity_name=None, context=None, score_normalizer=<function ModifiableValue.create.<locals>.<lambda> at 0x10aba65c0>, generated_from=[], global_normalizer=True, value_modifiers={UUID('236674b8-7819-4b9b-8d29-0fd62b0b1d69'): NumericalModifier(name='Skill Bonus_base_value', uuid=UUID('236674b8-7819-4b9b-8d29-0fd62b0b1d69'), source_entity_uuid=UUID('4f1b7579-344a-4120-a0e9-a21dabe45072'), source_entity_name=None, target_entity_uuid=UUID('4f1b7579-344a-4120-a0e9-a21dabe45072'), target_entity_name=None, context=None, value=0, score_normalizer=<function ModifiableValue.create.<locals>.<lambda> at 0x10aba65c0>, normalized_value=0)}, min_constraints={}, max_constraints={}, advantage_modifiers={}, critical_modifiers={}, auto_hit_modifiers={}, is_outgoing_modifier=False, size_modifiers={}, damage_type_modifiers={}, resistance_modifiers={}, largest_size_priority=True, min=None, max=None, score=0, normalized_score=0, advantage_sum=0, advantage=<AdvantageStatus.NONE: 'None'>, critical=<CriticalStatus.NONE: 'None'>, auto_hit=<AutoHitStatus.NONE: 'None'>, size=<Size.MEDIUM: 'Medium'>, damage_types=[], damage_type=None, resistance_sum={<DamageType.ACID: 'Acid'>: 0, <DamageType.BLUDGEONING: 'Bludgeoning'>: 0, <DamageType.COLD: 'Cold'>: 0, <DamageType.FIRE: 'Fire'>: 0, <DamageType.FORCE: 'Force'>: 0, <DamageType.LIGHTNING: 'Lightning'>: 0, <DamageType.NECROTIC: 'Necrotic'>: 0, <DamageType.PIERCING: 'Piercing'>: 0, <DamageType.POISON: 'Poison'>: 0, <DamageType.PSYCHIC: 'Psychic'>: 0, <DamageType.RADIANT: 'Radiant'>: 0, <DamageType.SLASHING: 'Slashing'>: 0, <DamageType.THUNDER: 'Thunder'>: 0}, resistance={<DamageType.ACID: 'Acid'>: <ResistanceStatus.NONE: 'None'>, <DamageType.BLUDGEONING: 'Bludgeoning'>: <ResistanceStatus.NONE: 'None'>, <DamageType.COLD: 'Cold'>: <ResistanceStatus.NONE: 'None'>, <DamageType.FIRE: 'Fire'>: <ResistanceStatus.NONE: 'None'>, <DamageType.FORCE: 'Force'>: <ResistanceStatus.NONE: 'None'>, <DamageType.LIGHTNING: 'Lightning'>: <ResistanceStatus.NONE: 'None'>, <DamageType.NECROTIC: 'Necrotic'>: <ResistanceStatus.NONE: 'None'>, <DamageType.PIERCING: 'Piercing'>: <ResistanceStatus.NONE: 'None'>, <DamageType.POISON: 'Poison'>: <ResistanceStatus.NONE: 'None'>, <DamageType.PSYCHIC: 'Psychic'>: <ResistanceStatus.NONE: 'None'>, <DamageType.RADIANT: 'Radiant'>: <ResistanceStatus.NONE: 'None'>, <DamageType.SLASHING: 'Slashing'>: <ResistanceStatus.NONE: 'None'>, <DamageType.THUNDER: 'Thunder'>: <ResistanceStatus.NONE: 'None'>}), to_target_static=StaticValue(name='A Value', uuid=UUID('ba0d7743-e892-4095-abbb-ede6adc0316b'), source_entity_uuid=UUID('6a8b6d91-4179-40e7-ba74-06faf69e301d'), source_entity_name=None, target_entity_uuid=UUID('6a8b6d91-4179-40e7-ba74-06faf69e301d'), target_entity_name=None, context=None, score_normalizer=<function ModifiableValue.create.<locals>.<lambda> at 0x10aba65c0>, generated_from=[], global_normalizer=True, value_modifiers={}, min_constraints={}, max_constraints={}, advantage_modifiers={}, critical_modifiers={}, auto_hit_modifiers={}, is_outgoing_modifier=True, size_modifiers={}, damage_type_modifiers={}, resistance_modifiers={}, largest_size_priority=True, min=None, max=None, score=0, normalized_score=0, advantage_sum=0, advantage=<AdvantageStatus.NONE: 'None'>, critical=<CriticalStatus.NONE: 'None'>, auto_hit=<AutoHitStatus.NONE: 'None'>, size=<Size.MEDIUM: 'Medium'>, damage_types=[], damage_type=None, resistance_sum={<DamageType.ACID: 'Acid'>: 0, <DamageType.BLUDGEONING: 'Bludgeoning'>: 0, <DamageType.COLD: 'Cold'>: 0, <DamageType.FIRE: 'Fire'>: 0, <DamageType.FORCE: 'Force'>: 0, <DamageType.LIGHTNING: 'Lightning'>: 0, <DamageType.NECROTIC: 'Necrotic'>: 0, <DamageType.PIERCING: 'Piercing'>: 0, <DamageType.POISON: 'Poison'>: 0, <DamageType.PSYCHIC: 'Psychic'>: 0, <DamageType.RADIANT: 'Radiant'>: 0, <DamageType.SLASHING: 'Slashing'>: 0, <DamageType.THUNDER: 'Thunder'>: 0}, resistance={<DamageType.ACID: 'Acid'>: <ResistanceStatus.NONE: 'None'>, <DamageType.BLUDGEONING: 'Bludgeoning'>: <ResistanceStatus.NONE: 'None'>, <DamageType.COLD: 'Cold'>: <ResistanceStatus.NONE: 'None'>, <DamageType.FIRE: 'Fire'>: <ResistanceStatus.NONE: 'None'>, <DamageType.FORCE: 'Force'>: <ResistanceStatus.NONE: 'None'>, <DamageType.LIGHTNING: 'Lightning'>: <ResistanceStatus.NONE: 'None'>, <DamageType.NECROTIC: 'Necrotic'>: <ResistanceStatus.NONE: 'None'>, <DamageType.PIERCING: 'Piercing'>: <ResistanceStatus.NONE: 'None'>, <DamageType.POISON: 'Poison'>: <ResistanceStatus.NONE: 'None'>, <DamageType.PSYCHIC: 'Psychic'>: <ResistanceStatus.NONE: 'None'>, <DamageType.RADIANT: 'Radiant'>: <ResistanceStatus.NONE: 'None'>, <DamageType.SLASHING: 'Slashing'>: <ResistanceStatus.NONE: 'None'>, <DamageType.THUNDER: 'Thunder'>: <ResistanceStatus.NONE: 'None'>}), self_contextual=ContextualValue(name='A Value', uuid=UUID('3c7dae0b-6a13-4bac-b11b-e432f9392a83'), source_entity_uuid=UUID('6a8b6d91-4179-40e7-ba74-06faf69e301d'), source_entity_name=None, target_entity_uuid=UUID('6a8b6d91-4179-40e7-ba74-06faf69e301d'), target_entity_name=None, context=None, score_normalizer=<function ModifiableValue.create.<locals>.<lambda> at 0x10aba65c0>, generated_from=[], global_normalizer=True, value_modifiers={}, min_constraints={}, max_constraints={}, advantage_modifiers={}, critical_modifiers={}, auto_hit_modifiers={}, is_outgoing_modifier=False, size_modifiers={}, damage_type_modifiers={}, resistance_modifiers={}, largest_size_priority=True, min=None, max=None, score=0, normalized_score=0, advantage_sum=0, advantage=<AdvantageStatus.NONE: 'None'>, critical=<CriticalStatus.NONE: 'None'>, auto_hit=<AutoHitStatus.NONE: 'None'>, size=<Size.MEDIUM: 'Medium'>, damage_types=[], damage_type=None, resistance_sum={<DamageType.ACID: 'Acid'>: 0, <DamageType.BLUDGEONING: 'Bludgeoning'>: 0, <DamageType.COLD: 'Cold'>: 0, <DamageType.FIRE: 'Fire'>: 0, <DamageType.FORCE: 'Force'>: 0, <DamageType.LIGHTNING: 'Lightning'>: 0, <DamageType.NECROTIC: 'Necrotic'>: 0, <DamageType.PIERCING: 'Piercing'>: 0, <DamageType.POISON: 'Poison'>: 0, <DamageType.PSYCHIC: 'Psychic'>: 0, <DamageType.RADIANT: 'Radiant'>: 0, <DamageType.SLASHING: 'Slashing'>: 0, <DamageType.THUNDER: 'Thunder'>: 0}, resistance={<DamageType.ACID: 'Acid'>: <ResistanceStatus.NONE: 'None'>, <DamageType.BLUDGEONING: 'Bludgeoning'>: <ResistanceStatus.NONE: 'None'>, <DamageType.COLD: 'Cold'>: <ResistanceStatus.NONE: 'None'>, <DamageType.FIRE: 'Fire'>: <ResistanceStatus.NONE: 'None'>, <DamageType.FORCE: 'Force'>: <ResistanceStatus.NONE: 'None'>, <DamageType.LIGHTNING: 'Lightning'>: <ResistanceStatus.NONE: 'None'>, <DamageType.NECROTIC: 'Necrotic'>: <ResistanceStatus.NONE: 'None'>, <DamageType.PIERCING: 'Piercing'>: <ResistanceStatus.NONE: 'None'>, <DamageType.POISON: 'Poison'>: <ResistanceStatus.NONE: 'None'>, <DamageType.PSYCHIC: 'Psychic'>: <ResistanceStatus.NONE: 'None'>, <DamageType.RADIANT: 'Radiant'>: <ResistanceStatus.NONE: 'None'>, <DamageType.SLASHING: 'Slashing'>: <ResistanceStatus.NONE: 'None'>, <DamageType.THUNDER: 'Thunder'>: <ResistanceStatus.NONE: 'None'>}), to_target_contextual=ContextualValue(name='A Value', uuid=UUID('a1867dc2-90ce-4b0b-9eba-8e58e7ea090c'), source_entity_uuid=UUID('6a8b6d91-4179-40e7-ba74-06faf69e301d'), source_entity_name=None, target_entity_uuid=UUID('6a8b6d91-4179-40e7-ba74-06faf69e301d'), target_entity_name=None, context=None, score_normalizer=<function ModifiableValue.create.<locals>.<lambda> at 0x10aba65c0>, generated_from=[], global_normalizer=True, value_modifiers={}, min_constraints={}, max_constraints={}, advantage_modifiers={}, critical_modifiers={}, auto_hit_modifiers={}, is_outgoing_modifier=True, size_modifiers={}, damage_type_modifiers={}, resistance_modifiers={}, largest_size_priority=True, min=None, max=None, score=0, normalized_score=0, advantage_sum=0, advantage=<AdvantageStatus.NONE: 'None'>, critical=<CriticalStatus.NONE: 'None'>, auto_hit=<AutoHitStatus.NONE: 'None'>, size=<Size.MEDIUM: 'Medium'>, damage_types=[], damage_type=None, resistance_sum={<DamageType.ACID: 'Acid'>: 0, <DamageType.BLUDGEONING: 'Bludgeoning'>: 0, <DamageType.COLD: 'Cold'>: 0, <DamageType.FIRE: 'Fire'>: 0, <DamageType.FORCE: 'Force'>: 0, <DamageType.LIGHTNING: 'Lightning'>: 0, <DamageType.NECROTIC: 'Necrotic'>: 0, <DamageType.PIERCING: 'Piercing'>: 0, <DamageType.POISON: 'Poison'>: 0, <DamageType.PSYCHIC: 'Psychic'>: 0, <DamageType.RADIANT: 'Radiant'>: 0, <DamageType.SLASHING: 'Slashing'>: 0, <DamageType.THUNDER: 'Thunder'>: 0}, resistance={<DamageType.ACID: 'Acid'>: <ResistanceStatus.NONE: 'None'>, <DamageType.BLUDGEONING: 'Bludgeoning'>: <ResistanceStatus.NONE: 'None'>, <DamageType.COLD: 'Cold'>: <ResistanceStatus.NONE: 'None'>, <DamageType.FIRE: 'Fire'>: <ResistanceStatus.NONE: 'None'>, <DamageType.FORCE: 'Force'>: <ResistanceStatus.NONE: 'None'>, <DamageType.LIGHTNING: 'Lightning'>: <ResistanceStatus.NONE: 'None'>, <DamageType.NECROTIC: 'Necrotic'>: <ResistanceStatus.NONE: 'None'>, <DamageType.PIERCING: 'Piercing'>: <ResistanceStatus.NONE: 'None'>, <DamageType.POISON: 'Poison'>: <ResistanceStatus.NONE: 'None'>, <DamageType.PSYCHIC: 'Psychic'>: <ResistanceStatus.NONE: 'None'>, <DamageType.RADIANT: 'Radiant'>: <ResistanceStatus.NONE: 'None'>, <DamageType.SLASHING: 'Slashing'>: <ResistanceStatus.NONE: 'None'>, <DamageType.THUNDER: 'Thunder'>: <ResistanceStatus.NONE: 'None'>}), from_target_contextual=None, from_target_static=None, min=None, max=None, score=0, normalized_score=0, advantage_sum=0, advantage=<AdvantageStatus.NONE: 'None'>, critical=<CriticalStatus.NONE: 'None'>, auto_hit=<AutoHitStatus.NONE: 'None'>, size=<Size.MEDIUM: 'Medium'>, damage_types=[], damage_type=None, resistance_sum={<DamageType.ACID: 'Acid'>: 0, <DamageType.BLUDGEONING: 'Bludgeoning'>: 0, <DamageType.COLD: 'Cold'>: 0, <DamageType.FIRE: 'Fire'>: 0, <DamageType.FORCE: 'Force'>: 0, <DamageType.LIGHTNING: 'Lightning'>: 0, <DamageType.NECROTIC: 'Necrotic'>: 0, <DamageType.PIERCING: 'Piercing'>: 0, <DamageType.POISON: 'Poison'>: 0, <DamageType.PSYCHIC: 'Psychic'>: 0, <DamageType.RADIANT: 'Radiant'>: 0, <DamageType.SLASHING: 'Slashing'>: 0, <DamageType.THUNDER: 'Thunder'>: 0}, resistance={<DamageType.ACID: 'Acid'>: <ResistanceStatus.NONE: 'None'>, <DamageType.BLUDGEONING: 'Bludgeoning'>: <ResistanceStatus.NONE: 'None'>, <DamageType.COLD: 'Cold'>: <ResistanceStatus.NONE: 'None'>, <DamageType.FIRE: 'Fire'>: <ResistanceStatus.NONE: 'None'>, <DamageType.FORCE: 'Force'>: <ResistanceStatus.NONE: 'None'>, <DamageType.LIGHTNING: 'Lightning'>: <ResistanceStatus.NONE: 'None'>, <DamageType.NECROTIC: 'Necrotic'>: <ResistanceStatus.NONE: 'None'>, <DamageType.PIERCING: 'Piercing'>: <ResistanceStatus.NONE: 'None'>, <DamageType.POISON: 'Poison'>: <ResistanceStatus.NONE: 'None'>, <DamageType.PSYCHIC: 'Psychic'>: <ResistanceStatus.NONE: 'None'>, <DamageType.RADIANT: 'Radiant'>: <ResistanceStatus.NONE: 'None'>, <DamageType.SLASHING: 'Slashing'>: <ResistanceStatus.NONE: 'None'>, <DamageType.THUNDER: 'Thunder'>: <ResistanceStatus.NONE: 'None'>})]"
      ]
     },
     "execution_count": 30,
     "metadata": {},
     "output_type": "execute_result"
    }
   ],
   "source": [
    "combined_modifier.get_generated_from()"
   ]
  },
  {
   "cell_type": "code",
   "execution_count": 31,
   "metadata": {},
   "outputs": [
    {
     "data": {
      "text/plain": [
       "True"
      ]
     },
     "execution_count": 31,
     "metadata": {},
     "output_type": "execute_result"
    }
   ],
   "source": [
    "ability_modifier.global_normalizer"
   ]
  },
  {
   "cell_type": "code",
   "execution_count": 32,
   "metadata": {},
   "outputs": [
    {
     "data": {
      "text/plain": [
       "<function dnd.blocks.ability_score_normalizer(score: int) -> int>"
      ]
     },
     "execution_count": 32,
     "metadata": {},
     "output_type": "execute_result"
    }
   ],
   "source": [
    "ability_modifier.score_normalizer"
   ]
  },
  {
   "cell_type": "code",
   "execution_count": 33,
   "metadata": {},
   "outputs": [],
   "source": [
    "numerical_modifier_dict = ability_modifier.self_static.value_modifiers\n",
    "numerical_modifier = numerical_modifier_dict[list(ability_modifier.self_static.value_modifiers.keys())[0]]"
   ]
  },
  {
   "cell_type": "code",
   "execution_count": 34,
   "metadata": {},
   "outputs": [
    {
     "name": "stdout",
     "output_type": "stream",
     "text": [
      "10\n",
      "0\n",
      "<function ability_score_normalizer at 0x105ed2ca0>\n"
     ]
    }
   ],
   "source": [
    "print(numerical_modifier.value)\n",
    "print(numerical_modifier.normalized_value)\n",
    "print(numerical_modifier.score_normalizer)"
   ]
  },
  {
   "cell_type": "code",
   "execution_count": 35,
   "metadata": {},
   "outputs": [],
   "source": [
    "numerical_modifier = ability_modifier.self_static.value_modifiers[list(ability_modifier.self_static.value_modifiers.keys())[0]]\n",
    "\n"
   ]
  },
  {
   "cell_type": "code",
   "execution_count": 36,
   "metadata": {},
   "outputs": [
    {
     "data": {
      "text/plain": [
       "<function dnd.blocks.ability_score_normalizer(score: int) -> int>"
      ]
     },
     "execution_count": 36,
     "metadata": {},
     "output_type": "execute_result"
    }
   ],
   "source": [
    "normalizer =numerical_modifier.score_normalizer\n",
    "normalizer"
   ]
  },
  {
   "cell_type": "code",
   "execution_count": 37,
   "metadata": {},
   "outputs": [
    {
     "data": {
      "text/plain": [
       "4"
      ]
     },
     "execution_count": 37,
     "metadata": {},
     "output_type": "execute_result"
    }
   ],
   "source": [
    "normalizer(19)"
   ]
  },
  {
   "cell_type": "code",
   "execution_count": 38,
   "metadata": {},
   "outputs": [
    {
     "data": {
      "text/plain": [
       "UUID('6a8b6d91-4179-40e7-ba74-06faf69e301d')"
      ]
     },
     "execution_count": 38,
     "metadata": {},
     "output_type": "execute_result"
    }
   ],
   "source": [
    "proficiency_modifier.self_static.target_entity_uuid\n"
   ]
  },
  {
   "cell_type": "code",
   "execution_count": 39,
   "metadata": {},
   "outputs": [
    {
     "data": {
      "text/plain": [
       "UUID('6a8b6d91-4179-40e7-ba74-06faf69e301d')"
      ]
     },
     "execution_count": 39,
     "metadata": {},
     "output_type": "execute_result"
    }
   ],
   "source": [
    "skill_modifier.self_static.target_entity_uuid"
   ]
  },
  {
   "cell_type": "code",
   "execution_count": null,
   "metadata": {},
   "outputs": [],
   "source": []
  },
  {
   "cell_type": "code",
   "execution_count": 40,
   "metadata": {},
   "outputs": [
    {
     "name": "stdout",
     "output_type": "stream",
     "text": [
      "Validating others source id 6a8b6d91-4179-40e7-ba74-06faf69e301d against self source 6a8b6d91-4179-40e7-ba74-06faf69e301d for modifer  with name proficiency_bonus and uuid ef383dfc-3725-4180-a062-88165f3b96ae and type <class 'dnd.values.ModifiableValue'> against <class 'dnd.values.ModifiableValue'> with name Skill Bonus and uuid bfb97730-32ac-4ed1-a1cc-55c8fd009630\n",
      "Validating others source id 6a8b6d91-4179-40e7-ba74-06faf69e301d against self source 6a8b6d91-4179-40e7-ba74-06faf69e301d for modifer  with name proficiency_bonus and uuid ef383dfc-3725-4180-a062-88165f3b96ae and type <class 'dnd.values.ModifiableValue'> against <class 'dnd.values.ModifiableValue'> with name Ability Score and uuid c58d9aca-4386-4fd1-94e8-32fb31b6c14a\n",
      "(<AdvantageStatus.NONE: 'None'>, <CriticalStatus.NONE: 'None'>, <AutoHitStatus.NONE: 'None'>, 2, 12)\n",
      "Validating others source id 6a8b6d91-4179-40e7-ba74-06faf69e301d against self source 6a8b6d91-4179-40e7-ba74-06faf69e301d for modifer  with name proficiency_bonus and uuid ef383dfc-3725-4180-a062-88165f3b96ae and type <class 'dnd.values.ModifiableValue'> against <class 'dnd.values.ModifiableValue'> with name Skill Bonus and uuid bfb97730-32ac-4ed1-a1cc-55c8fd009630\n",
      "Validating others source id 6a8b6d91-4179-40e7-ba74-06faf69e301d against self source 6a8b6d91-4179-40e7-ba74-06faf69e301d for modifer  with name proficiency_bonus and uuid ef383dfc-3725-4180-a062-88165f3b96ae and type <class 'dnd.values.ModifiableValue'> against <class 'dnd.values.ModifiableValue'> with name Ability Score and uuid c58d9aca-4386-4fd1-94e8-32fb31b6c14a\n"
     ]
    },
    {
     "ename": "RecursionError",
     "evalue": "maximum recursion depth exceeded",
     "output_type": "error",
     "traceback": [
      "\u001b[0;31m---------------------------------------------------------------------------\u001b[0m",
      "\u001b[0;31mRecursionError\u001b[0m                            Traceback (most recent call last)",
      "Cell \u001b[0;32mIn[40], line 12\u001b[0m\n\u001b[1;32m     10\u001b[0m proficiency_modifier\u001b[38;5;241m.\u001b[39mself_static\u001b[38;5;241m.\u001b[39madd_advantage_modifier(self_advantage)\n\u001b[1;32m     11\u001b[0m proficiency_modifier\u001b[38;5;241m.\u001b[39mself_contextual\u001b[38;5;241m.\u001b[39madd_advantage_modifier(ifskeleton_modifier)\n\u001b[0;32m---> 12\u001b[0m advantage_status_post \u001b[38;5;241m=\u001b[39m \u001b[43mskill_merge_status\u001b[49m\u001b[43m(\u001b[49m\u001b[43mproficiency_modifier\u001b[49m\u001b[43m,\u001b[49m\u001b[43m \u001b[49m\u001b[43mskill_modifier\u001b[49m\u001b[43m,\u001b[49m\u001b[43m \u001b[49m\u001b[43mability_modifier\u001b[49m\u001b[43m)\u001b[49m\n\u001b[1;32m     13\u001b[0m \u001b[38;5;28mprint\u001b[39m(advantage_status_post)\n\u001b[1;32m     14\u001b[0m goblin\u001b[38;5;241m.\u001b[39mset_target_entity(skeleton\u001b[38;5;241m.\u001b[39muuid)\n",
      "Cell \u001b[0;32mIn[40], line 5\u001b[0m, in \u001b[0;36mskill_merge_status\u001b[0;34m(proficiency_bonus, skill_bonus, ability_modifier)\u001b[0m\n\u001b[1;32m      2\u001b[0m \u001b[38;5;28;01mdef\u001b[39;00m\u001b[38;5;250m \u001b[39m\u001b[38;5;21mskill_merge_status\u001b[39m(proficiency_bonus: ModifiableValue, skill_bonus: ModifiableValue, ability_modifier: ModifiableValue) \u001b[38;5;241m-\u001b[39m\u001b[38;5;241m>\u001b[39m Tuple[AdvantageStatus, CriticalStatus, AutoHitStatus, \u001b[38;5;28mint\u001b[39m, \u001b[38;5;28mint\u001b[39m]:\n\u001b[1;32m      3\u001b[0m     merged_value \u001b[38;5;241m=\u001b[39m proficiency_bonus\u001b[38;5;241m.\u001b[39mcombine_values([skill_bonus, ability_modifier])          \n\u001b[0;32m----> 5\u001b[0m     \u001b[38;5;28;01mreturn\u001b[39;00m \u001b[43mmerged_value\u001b[49m\u001b[38;5;241;43m.\u001b[39;49m\u001b[43madvantage\u001b[49m,merged_value\u001b[38;5;241m.\u001b[39mcritical,merged_value\u001b[38;5;241m.\u001b[39mauto_hit,merged_value\u001b[38;5;241m.\u001b[39mnormalized_score,merged_value\u001b[38;5;241m.\u001b[39mscore\n",
      "File \u001b[0;32m~/Documents/Dev/dnd_engine/dnd/values.py:1803\u001b[0m, in \u001b[0;36mModifiableValue.advantage\u001b[0;34m(self)\u001b[0m\n\u001b[1;32m   1794\u001b[0m \u001b[38;5;129m@computed_field\u001b[39m\n\u001b[1;32m   1795\u001b[0m \u001b[38;5;129m@property\u001b[39m\n\u001b[1;32m   1796\u001b[0m \u001b[38;5;28;01mdef\u001b[39;00m\u001b[38;5;250m \u001b[39m\u001b[38;5;21madvantage\u001b[39m(\u001b[38;5;28mself\u001b[39m) \u001b[38;5;241m-\u001b[39m\u001b[38;5;241m>\u001b[39m AdvantageStatus:\n\u001b[1;32m   1797\u001b[0m \u001b[38;5;250m    \u001b[39m\u001b[38;5;124;03m\"\"\"\u001b[39;00m\n\u001b[1;32m   1798\u001b[0m \u001b[38;5;124;03m    Determine the final advantage status based on all advantage modifiers.\u001b[39;00m\n\u001b[1;32m   1799\u001b[0m \n\u001b[1;32m   1800\u001b[0m \u001b[38;5;124;03m    Returns:\u001b[39;00m\n\u001b[1;32m   1801\u001b[0m \u001b[38;5;124;03m        AdvantageStatus: The final advantage status (ADVANTAGE, DISADVANTAGE, or NONE).\u001b[39;00m\n\u001b[1;32m   1802\u001b[0m \u001b[38;5;124;03m    \"\"\"\u001b[39;00m\n\u001b[0;32m-> 1803\u001b[0m     total_sum \u001b[38;5;241m=\u001b[39m \u001b[38;5;28;43mself\u001b[39;49m\u001b[38;5;241;43m.\u001b[39;49m\u001b[43madvantage_sum\u001b[49m\n\u001b[1;32m   1804\u001b[0m     \u001b[38;5;28;01mif\u001b[39;00m total_sum \u001b[38;5;241m>\u001b[39m \u001b[38;5;241m0\u001b[39m:\n\u001b[1;32m   1805\u001b[0m         \u001b[38;5;28;01mreturn\u001b[39;00m AdvantageStatus\u001b[38;5;241m.\u001b[39mADVANTAGE\n",
      "File \u001b[0;32m~/Documents/Dev/dnd_engine/dnd/values.py:1792\u001b[0m, in \u001b[0;36mModifiableValue.advantage_sum\u001b[0;34m(self)\u001b[0m\n\u001b[1;32m   1786\u001b[0m \u001b[38;5;129m@computed_field\u001b[39m\n\u001b[1;32m   1787\u001b[0m \u001b[38;5;129m@property\u001b[39m\n\u001b[1;32m   1788\u001b[0m \u001b[38;5;28;01mdef\u001b[39;00m\u001b[38;5;250m \u001b[39m\u001b[38;5;21madvantage_sum\u001b[39m(\u001b[38;5;28mself\u001b[39m) \u001b[38;5;241m-\u001b[39m\u001b[38;5;241m>\u001b[39m \u001b[38;5;28mint\u001b[39m:\n\u001b[1;32m   1789\u001b[0m \u001b[38;5;250m    \u001b[39m\u001b[38;5;124;03m\"\"\"\u001b[39;00m\n\u001b[1;32m   1790\u001b[0m \u001b[38;5;124;03m    Calculate the sum of advantage values from all modifiers.\u001b[39;00m\n\u001b[1;32m   1791\u001b[0m \u001b[38;5;124;03m    \"\"\"\u001b[39;00m\n\u001b[0;32m-> 1792\u001b[0m     \u001b[38;5;28;01mreturn\u001b[39;00m \u001b[38;5;28;43msum\u001b[39;49m\u001b[43m(\u001b[49m\u001b[43madv\u001b[49m\u001b[38;5;241;43m.\u001b[39;49m\u001b[43madvantage_sum\u001b[49m\u001b[43m \u001b[49m\u001b[38;5;28;43;01mfor\u001b[39;49;00m\u001b[43m \u001b[49m\u001b[43madv\u001b[49m\u001b[43m \u001b[49m\u001b[38;5;129;43;01min\u001b[39;49;00m\u001b[43m \u001b[49m\u001b[43m[\u001b[49m\u001b[38;5;28;43mself\u001b[39;49m\u001b[38;5;241;43m.\u001b[39;49m\u001b[43mself_static\u001b[49m\u001b[43m,\u001b[49m\u001b[43m \u001b[49m\u001b[38;5;28;43mself\u001b[39;49m\u001b[38;5;241;43m.\u001b[39;49m\u001b[43mfrom_target_static\u001b[49m\u001b[43m,\u001b[49m\u001b[43m \u001b[49m\u001b[38;5;28;43mself\u001b[39;49m\u001b[38;5;241;43m.\u001b[39;49m\u001b[43mself_contextual\u001b[49m\u001b[43m,\u001b[49m\u001b[43m \u001b[49m\u001b[38;5;28;43mself\u001b[39;49m\u001b[38;5;241;43m.\u001b[39;49m\u001b[43mfrom_target_contextual\u001b[49m\u001b[43m]\u001b[49m\u001b[43m \u001b[49m\u001b[38;5;28;43;01mif\u001b[39;49;00m\u001b[43m \u001b[49m\u001b[43madv\u001b[49m\u001b[43m \u001b[49m\u001b[38;5;129;43;01mis\u001b[39;49;00m\u001b[43m \u001b[49m\u001b[38;5;129;43;01mnot\u001b[39;49;00m\u001b[43m \u001b[49m\u001b[38;5;28;43;01mNone\u001b[39;49;00m\u001b[43m)\u001b[49m\n",
      "File \u001b[0;32m~/Documents/Dev/dnd_engine/dnd/values.py:1792\u001b[0m, in \u001b[0;36m<genexpr>\u001b[0;34m(.0)\u001b[0m\n\u001b[1;32m   1786\u001b[0m \u001b[38;5;129m@computed_field\u001b[39m\n\u001b[1;32m   1787\u001b[0m \u001b[38;5;129m@property\u001b[39m\n\u001b[1;32m   1788\u001b[0m \u001b[38;5;28;01mdef\u001b[39;00m\u001b[38;5;250m \u001b[39m\u001b[38;5;21madvantage_sum\u001b[39m(\u001b[38;5;28mself\u001b[39m) \u001b[38;5;241m-\u001b[39m\u001b[38;5;241m>\u001b[39m \u001b[38;5;28mint\u001b[39m:\n\u001b[1;32m   1789\u001b[0m \u001b[38;5;250m    \u001b[39m\u001b[38;5;124;03m\"\"\"\u001b[39;00m\n\u001b[1;32m   1790\u001b[0m \u001b[38;5;124;03m    Calculate the sum of advantage values from all modifiers.\u001b[39;00m\n\u001b[1;32m   1791\u001b[0m \u001b[38;5;124;03m    \"\"\"\u001b[39;00m\n\u001b[0;32m-> 1792\u001b[0m     \u001b[38;5;28;01mreturn\u001b[39;00m \u001b[38;5;28msum\u001b[39m(\u001b[43madv\u001b[49m\u001b[38;5;241;43m.\u001b[39;49m\u001b[43madvantage_sum\u001b[49m \u001b[38;5;28;01mfor\u001b[39;00m adv \u001b[38;5;129;01min\u001b[39;00m [\u001b[38;5;28mself\u001b[39m\u001b[38;5;241m.\u001b[39mself_static, \u001b[38;5;28mself\u001b[39m\u001b[38;5;241m.\u001b[39mfrom_target_static, \u001b[38;5;28mself\u001b[39m\u001b[38;5;241m.\u001b[39mself_contextual, \u001b[38;5;28mself\u001b[39m\u001b[38;5;241m.\u001b[39mfrom_target_contextual] \u001b[38;5;28;01mif\u001b[39;00m adv \u001b[38;5;129;01mis\u001b[39;00m \u001b[38;5;129;01mnot\u001b[39;00m \u001b[38;5;28;01mNone\u001b[39;00m)\n",
      "File \u001b[0;32m~/Documents/Dev/dnd_engine/dnd/values.py:1081\u001b[0m, in \u001b[0;36mContextualValue.advantage_sum\u001b[0;34m(self)\u001b[0m\n\u001b[1;32m   1072\u001b[0m \u001b[38;5;129m@computed_field\u001b[39m\n\u001b[1;32m   1073\u001b[0m \u001b[38;5;129m@property\u001b[39m\n\u001b[1;32m   1074\u001b[0m \u001b[38;5;28;01mdef\u001b[39;00m\u001b[38;5;250m \u001b[39m\u001b[38;5;21madvantage_sum\u001b[39m(\u001b[38;5;28mself\u001b[39m) \u001b[38;5;241m-\u001b[39m\u001b[38;5;241m>\u001b[39m \u001b[38;5;28mint\u001b[39m:\n\u001b[1;32m   1075\u001b[0m \u001b[38;5;250m    \u001b[39m\u001b[38;5;124;03m\"\"\"\u001b[39;00m\n\u001b[1;32m   1076\u001b[0m \u001b[38;5;124;03m    Calculate the sum of all contextual advantage modifiers.\u001b[39;00m\n\u001b[1;32m   1077\u001b[0m \n\u001b[1;32m   1078\u001b[0m \u001b[38;5;124;03m    Returns:\u001b[39;00m\n\u001b[1;32m   1079\u001b[0m \u001b[38;5;124;03m        int: The total advantage sum.\u001b[39;00m\n\u001b[1;32m   1080\u001b[0m \u001b[38;5;124;03m    \"\"\"\u001b[39;00m\n\u001b[0;32m-> 1081\u001b[0m     \u001b[38;5;28;01mreturn\u001b[39;00m \u001b[38;5;28;43msum\u001b[39;49m\u001b[43m(\u001b[49m\u001b[43mmodifier\u001b[49m\u001b[38;5;241;43m.\u001b[39;49m\u001b[43mcallable\u001b[49m\u001b[43m(\u001b[49m\u001b[38;5;28;43mself\u001b[39;49m\u001b[38;5;241;43m.\u001b[39;49m\u001b[43msource_entity_uuid\u001b[49m\u001b[43m,\u001b[49m\u001b[43m \u001b[49m\u001b[38;5;28;43mself\u001b[39;49m\u001b[38;5;241;43m.\u001b[39;49m\u001b[43mtarget_entity_uuid\u001b[49m\u001b[43m,\u001b[49m\u001b[43m \u001b[49m\u001b[38;5;28;43mself\u001b[39;49m\u001b[38;5;241;43m.\u001b[39;49m\u001b[43mcontext\u001b[49m\u001b[43m)\u001b[49m\u001b[38;5;241;43m.\u001b[39;49m\u001b[43mnumerical_value\u001b[49m\u001b[43m \u001b[49m\n\u001b[1;32m   1082\u001b[0m \u001b[43m               \u001b[49m\u001b[38;5;28;43;01mfor\u001b[39;49;00m\u001b[43m \u001b[49m\u001b[43mmodifier\u001b[49m\u001b[43m \u001b[49m\u001b[38;5;129;43;01min\u001b[39;49;00m\u001b[43m \u001b[49m\u001b[38;5;28;43mself\u001b[39;49m\u001b[38;5;241;43m.\u001b[39;49m\u001b[43madvantage_modifiers\u001b[49m\u001b[38;5;241;43m.\u001b[39;49m\u001b[43mvalues\u001b[49m\u001b[43m(\u001b[49m\u001b[43m)\u001b[49m\u001b[43m)\u001b[49m\n",
      "File \u001b[0;32m~/Documents/Dev/dnd_engine/dnd/values.py:1081\u001b[0m, in \u001b[0;36m<genexpr>\u001b[0;34m(.0)\u001b[0m\n\u001b[1;32m   1072\u001b[0m \u001b[38;5;129m@computed_field\u001b[39m\n\u001b[1;32m   1073\u001b[0m \u001b[38;5;129m@property\u001b[39m\n\u001b[1;32m   1074\u001b[0m \u001b[38;5;28;01mdef\u001b[39;00m\u001b[38;5;250m \u001b[39m\u001b[38;5;21madvantage_sum\u001b[39m(\u001b[38;5;28mself\u001b[39m) \u001b[38;5;241m-\u001b[39m\u001b[38;5;241m>\u001b[39m \u001b[38;5;28mint\u001b[39m:\n\u001b[1;32m   1075\u001b[0m \u001b[38;5;250m    \u001b[39m\u001b[38;5;124;03m\"\"\"\u001b[39;00m\n\u001b[1;32m   1076\u001b[0m \u001b[38;5;124;03m    Calculate the sum of all contextual advantage modifiers.\u001b[39;00m\n\u001b[1;32m   1077\u001b[0m \n\u001b[1;32m   1078\u001b[0m \u001b[38;5;124;03m    Returns:\u001b[39;00m\n\u001b[1;32m   1079\u001b[0m \u001b[38;5;124;03m        int: The total advantage sum.\u001b[39;00m\n\u001b[1;32m   1080\u001b[0m \u001b[38;5;124;03m    \"\"\"\u001b[39;00m\n\u001b[0;32m-> 1081\u001b[0m     \u001b[38;5;28;01mreturn\u001b[39;00m \u001b[38;5;28msum\u001b[39m(\u001b[43mmodifier\u001b[49m\u001b[38;5;241;43m.\u001b[39;49m\u001b[43mcallable\u001b[49m\u001b[43m(\u001b[49m\u001b[38;5;28;43mself\u001b[39;49m\u001b[38;5;241;43m.\u001b[39;49m\u001b[43msource_entity_uuid\u001b[49m\u001b[43m,\u001b[49m\u001b[43m \u001b[49m\u001b[38;5;28;43mself\u001b[39;49m\u001b[38;5;241;43m.\u001b[39;49m\u001b[43mtarget_entity_uuid\u001b[49m\u001b[43m,\u001b[49m\u001b[43m \u001b[49m\u001b[38;5;28;43mself\u001b[39;49m\u001b[38;5;241;43m.\u001b[39;49m\u001b[43mcontext\u001b[49m\u001b[43m)\u001b[49m\u001b[38;5;241m.\u001b[39mnumerical_value \n\u001b[1;32m   1082\u001b[0m                \u001b[38;5;28;01mfor\u001b[39;00m modifier \u001b[38;5;129;01min\u001b[39;00m \u001b[38;5;28mself\u001b[39m\u001b[38;5;241m.\u001b[39madvantage_modifiers\u001b[38;5;241m.\u001b[39mvalues())\n",
      "Cell \u001b[0;32mIn[26], line 12\u001b[0m, in \u001b[0;36mfear_of_skeleton\u001b[0;34m(source_entity, target_entity, context)\u001b[0m\n\u001b[1;32m      9\u001b[0m \u001b[38;5;28;01mif\u001b[39;00m target_entity \u001b[38;5;129;01mis\u001b[39;00m \u001b[38;5;28;01mNone\u001b[39;00m:\n\u001b[1;32m     10\u001b[0m     \u001b[38;5;28;01mreturn\u001b[39;00m nonemodifier\n\u001b[0;32m---> 12\u001b[0m target_entity_name \u001b[38;5;241m=\u001b[39m \u001b[43mEntity\u001b[49m\u001b[38;5;241;43m.\u001b[39;49m\u001b[43mget\u001b[49m\u001b[43m(\u001b[49m\u001b[43mtarget_entity\u001b[49m\u001b[43m)\u001b[49m\n\u001b[1;32m     13\u001b[0m \u001b[38;5;28;01mif\u001b[39;00m target_entity_name \u001b[38;5;129;01mis\u001b[39;00m \u001b[38;5;28;01mNone\u001b[39;00m:\n\u001b[1;32m     14\u001b[0m     \u001b[38;5;28;01mreturn\u001b[39;00m nonemodifier\n",
      "File \u001b[0;32m~/Documents/Dev/dnd_engine/dnd/entity.py:37\u001b[0m, in \u001b[0;36mEntity.get\u001b[0;34m(cls, uuid)\u001b[0m\n\u001b[1;32m     35\u001b[0m \u001b[38;5;129m@classmethod\u001b[39m\n\u001b[1;32m     36\u001b[0m \u001b[38;5;28;01mdef\u001b[39;00m\u001b[38;5;250m \u001b[39m\u001b[38;5;21mget\u001b[39m(\u001b[38;5;28mcls\u001b[39m, uuid: UUID) \u001b[38;5;241m-\u001b[39m\u001b[38;5;241m>\u001b[39m Optional[\u001b[38;5;124m'\u001b[39m\u001b[38;5;124mEntity\u001b[39m\u001b[38;5;124m'\u001b[39m]:\n\u001b[0;32m---> 37\u001b[0m     \u001b[38;5;28;01mreturn\u001b[39;00m \u001b[38;5;28;43mcls\u001b[39;49m\u001b[38;5;241;43m.\u001b[39;49m\u001b[43mget\u001b[49m\u001b[43m(\u001b[49m\u001b[43muuid\u001b[49m\u001b[43m)\u001b[49m\n",
      "File \u001b[0;32m~/Documents/Dev/dnd_engine/dnd/entity.py:37\u001b[0m, in \u001b[0;36mEntity.get\u001b[0;34m(cls, uuid)\u001b[0m\n\u001b[1;32m     35\u001b[0m \u001b[38;5;129m@classmethod\u001b[39m\n\u001b[1;32m     36\u001b[0m \u001b[38;5;28;01mdef\u001b[39;00m\u001b[38;5;250m \u001b[39m\u001b[38;5;21mget\u001b[39m(\u001b[38;5;28mcls\u001b[39m, uuid: UUID) \u001b[38;5;241m-\u001b[39m\u001b[38;5;241m>\u001b[39m Optional[\u001b[38;5;124m'\u001b[39m\u001b[38;5;124mEntity\u001b[39m\u001b[38;5;124m'\u001b[39m]:\n\u001b[0;32m---> 37\u001b[0m     \u001b[38;5;28;01mreturn\u001b[39;00m \u001b[38;5;28;43mcls\u001b[39;49m\u001b[38;5;241;43m.\u001b[39;49m\u001b[43mget\u001b[49m\u001b[43m(\u001b[49m\u001b[43muuid\u001b[49m\u001b[43m)\u001b[49m\n",
      "    \u001b[0;31m[... skipping similar frames: Entity.get at line 37 (2967 times)]\u001b[0m\n",
      "File \u001b[0;32m~/Documents/Dev/dnd_engine/dnd/entity.py:37\u001b[0m, in \u001b[0;36mEntity.get\u001b[0;34m(cls, uuid)\u001b[0m\n\u001b[1;32m     35\u001b[0m \u001b[38;5;129m@classmethod\u001b[39m\n\u001b[1;32m     36\u001b[0m \u001b[38;5;28;01mdef\u001b[39;00m\u001b[38;5;250m \u001b[39m\u001b[38;5;21mget\u001b[39m(\u001b[38;5;28mcls\u001b[39m, uuid: UUID) \u001b[38;5;241m-\u001b[39m\u001b[38;5;241m>\u001b[39m Optional[\u001b[38;5;124m'\u001b[39m\u001b[38;5;124mEntity\u001b[39m\u001b[38;5;124m'\u001b[39m]:\n\u001b[0;32m---> 37\u001b[0m     \u001b[38;5;28;01mreturn\u001b[39;00m \u001b[38;5;28;43mcls\u001b[39;49m\u001b[38;5;241;43m.\u001b[39;49m\u001b[43mget\u001b[49m\u001b[43m(\u001b[49m\u001b[43muuid\u001b[49m\u001b[43m)\u001b[49m\n",
      "\u001b[0;31mRecursionError\u001b[0m: maximum recursion depth exceeded"
     ]
    }
   ],
   "source": [
    "from typing import Tuple\n",
    "def skill_merge_status(proficiency_bonus: ModifiableValue, skill_bonus: ModifiableValue, ability_modifier: ModifiableValue) -> Tuple[AdvantageStatus, CriticalStatus, AutoHitStatus, int, int]:\n",
    "    merged_value = proficiency_bonus.combine_values([skill_bonus, ability_modifier])          \n",
    "\n",
    "    return merged_value.advantage,merged_value.critical,merged_value.auto_hit,merged_value.normalized_score,merged_value.score\n",
    "goblin.set_target_entity(goblin.uuid)\n",
    "\n",
    "advantage_status = skill_merge_status(proficiency_modifier, skill_modifier, ability_modifier)\n",
    "print(advantage_status)\n",
    "proficiency_modifier.self_static.add_advantage_modifier(self_advantage)\n",
    "proficiency_modifier.self_contextual.add_advantage_modifier(ifskeleton_modifier)\n",
    "advantage_status_post = skill_merge_status(proficiency_modifier, skill_modifier, ability_modifier)\n",
    "print(advantage_status_post)\n",
    "goblin.set_target_entity(skeleton.uuid)\n",
    "advantage_status_post_target = skill_merge_status(proficiency_modifier, skill_modifier, ability_modifier)\n",
    "print(advantage_status_post_target)\n",
    "\n",
    "\n"
   ]
  },
  {
   "cell_type": "code",
   "execution_count": null,
   "metadata": {},
   "outputs": [],
   "source": [
    "ifskeleton_modifier.uuid\n",
    "proficiency_modifier.remove_modifier(ifskeleton_modifier.uuid)\n",
    "advantage_status_post_remove = skill_merge_status(proficiency_modifier, skill_modifier, ability_modifier)\n",
    "print(advantage_status_post_remove)"
   ]
  },
  {
   "cell_type": "code",
   "execution_count": null,
   "metadata": {},
   "outputs": [],
   "source": [
    "#formatetd print of the bonus\n",
    "print(f\"Proficiency Bonus: {proficiency_modifier.source_entity_uuid}\")\n",
    "print(f\"Skill Bonus: {skill_modifier.source_entity_uuid}\")\n",
    "print(f\"Ability Modifier: {ability_modifier.source_entity_uuid}\")\n",
    "\n"
   ]
  },
  {
   "cell_type": "code",
   "execution_count": null,
   "metadata": {},
   "outputs": [],
   "source": [
    "proficiency_modifier.normalized_score"
   ]
  },
  {
   "cell_type": "code",
   "execution_count": null,
   "metadata": {},
   "outputs": [],
   "source": []
  },
  {
   "cell_type": "code",
   "execution_count": null,
   "metadata": {},
   "outputs": [],
   "source": [
    "from typing import Tuple, Optional\n",
    "import random\n",
    "\n",
    "def roll_d20(advantage_status: AdvantageStatus) -> Tuple[int,Optional[int]]:\n",
    "        num_rolls = 1 if advantage_status == AdvantageStatus.NONE else 2\n",
    "        rolls = [random.randint(1,20) for _ in range(num_rolls)]\n",
    "        if advantage_status == AdvantageStatus.ADVANTAGE:\n",
    "            return max(rolls), min(rolls)\n",
    "        elif advantage_status == AdvantageStatus.DISADVANTAGE:\n",
    "            return min(rolls), max(rolls)\n",
    "        else:\n",
    "            return rolls[0], None\n",
    "        \n",
    "        \n",
    "def skill_roll_bonus(skill_name: SkillName, entity: Entity) -> DiceRoll:\n",
    "    extracted_skill = entity.skill_set.get_skill(skill_name)\n",
    "    skill_modifier = extracted_skill.skill_bonus\n",
    "    extracted_ability = entity.ability_scores.get_ability(extracted_skill.ability)\n",
    "    ability_modifier = extracted_ability.ability_score\n",
    "\n",
    "\n",
    "\n",
    "        \n",
    "\n",
    "       \n",
    "    proficiency_modifier = entity.proficiency_bonus\n",
    "\n",
    "    \n",
    "\n",
    "    return DiceRoll(\n",
    "        roll_type=RollType.SKILL,\n",
    "        results=,\n",
    "        source_entity_uuid=entity.uuid,\n",
    "        target_entity_uuid=None,\n",
    "        attack_outcome=None\n",
    "    )\n",
    "\n"
   ]
  }
 ],
 "metadata": {
  "kernelspec": {
   "display_name": ".venv",
   "language": "python",
   "name": "python3"
  },
  "language_info": {
   "codemirror_mode": {
    "name": "ipython",
    "version": 3
   },
   "file_extension": ".py",
   "mimetype": "text/x-python",
   "name": "python",
   "nbconvert_exporter": "python",
   "pygments_lexer": "ipython3",
   "version": "3.12.1"
  }
 },
 "nbformat": 4,
 "nbformat_minor": 2
}
