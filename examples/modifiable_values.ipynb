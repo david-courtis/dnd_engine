{
 "cells": [
  {
   "cell_type": "code",
   "execution_count": 1,
   "metadata": {},
   "outputs": [],
   "source": [
    "from typing import Dict, Optional, Any, List, Self, Literal, ClassVar, Union\n",
    "from uuid import UUID, uuid4\n",
    "from pydantic import BaseModel, Field, model_validator, computed_field, field_validator\n",
    "from enum import Enum\n",
    "from dnd.values import ModifiableValue, AdvantageStatus, CriticalStatus, AutoHitStatus, StaticValue,NumericalModifier, ContextualValue\n",
    "\n",
    "from dnd.blocks import (\n",
    "    BaseBlock, AbilityScores, SavingThrowSet, Health, \n",
    "    Equipped, Speed, ActionEconomy,SkillSet,SkillName\n",
    ")\n",
    "from dnd.values import ModifiableValue\n",
    "from dnd.modifiers import (\n",
    "    NumericalModifier, DamageType, ResistanceStatus, \n",
    "    ContextAwareCondition, BaseObject\n",
    ")\n",
    "\n",
    "from dnd.equipment import (\n",
    "    Armor, Weapon, Shield, BodyArmor, Gauntlets, Greaves,\n",
    "    Boots, Amulet, Ring, Cloak, Helmet, BodyPart\n",
    ")\n",
    "from dnd.dice import Dice, RollType, DiceRoll"
   ]
  },
  {
   "cell_type": "code",
   "execution_count": 2,
   "metadata": {},
   "outputs": [],
   "source": [
    "class Entity(BaseBlock):\n",
    "    \"\"\" Base class for dnd entities in the game it acts as container for blocks and implements common functionalities that\n",
    "    require interactions between blocks \"\"\"\n",
    "    \n",
    "    name: str = Field(default=\"Entity\")\n",
    "    ability_scores: AbilityScores = Field(default_factory=lambda: AbilityScores.create(source_entity_uuid=uuid4()))\n",
    "    skill_set: SkillSet = Field(default_factory=lambda: SkillSet.create(source_entity_uuid=uuid4()))\n",
    "    saving_throws: SavingThrowSet = Field(default_factory=lambda: SavingThrowSet.create(source_entity_uuid=uuid4()))\n",
    "    health: Health = Field(default_factory=lambda: Health.create(source_entity_uuid=uuid4()))\n",
    "    equipped: Equipped = Field(default_factory=lambda: Equipped.create(source_entity_uuid=uuid4()))\n",
    "    speed: Speed = Field(default_factory=lambda: Speed.create(source_entity_uuid=uuid4()))\n",
    "    action_economy: ActionEconomy = Field(default_factory=lambda: ActionEconomy.create(source_entity_uuid=uuid4()))\n",
    "    proficiency_bonus: ModifiableValue = Field(default_factory=lambda: ModifiableValue.create(source_entity_uuid=uuid4(),value_name=\"proficiency_bonus\",base_value=2))\n",
    "    @classmethod\n",
    "    def create(cls, source_entity_uuid: UUID, name: str = \"Entity\") -> 'Entity':\n",
    "        \"\"\"\n",
    "        Create a new Entity instance with the given parameters. All sub-blocks will share\n",
    "        the same source_entity_uuid as the entity itself.\n",
    "\n",
    "        Args:\n",
    "            source_entity_uuid (UUID): The UUID that will be used as both the entity's UUID and source_entity_uuid\n",
    "            name (str): The name of the entity. Defaults to \"Entity\"\n",
    "\n",
    "        Returns:\n",
    "            Entity: The newly created Entity instance\n",
    "        \"\"\"\n",
    "        return cls(\n",
    "            uuid=source_entity_uuid,\n",
    "            source_entity_uuid=source_entity_uuid,\n",
    "            name=name)\n",
    "            \n",
    "    \n",
    "\n"
   ]
  },
  {
   "cell_type": "code",
   "execution_count": 3,
   "metadata": {},
   "outputs": [],
   "source": [
    "class AttackOutcome(str, Enum):\n",
    "    HIT = \"Hit\"\n",
    "    MISS = \"Miss\"\n",
    "    CRIT = \"Crit\"\n",
    "\n",
    "class RollType(str, Enum):\n",
    "    DAMAGE = \"Damage\"\n",
    "    ATTACK = \"Attack\"\n",
    "    SAVE = \"Save\"\n",
    "    SKILL = \"Skill\"\n",
    "\n",
    "class DiceRoll(BaseModel):\n",
    "    \"\"\"\n",
    "    Represents the result of a dice roll.\n",
    "\n",
    "    This class stores information about a specific dice roll, including the roll type,\n",
    "    results, and various statuses that may affect the roll.\n",
    "\n",
    "    Attributes:\n",
    "        roll_uuid (UUID): Unique identifier for this roll. Automatically generated if not provided.\n",
    "        dice_uuid (UUID): Unique identifier of the Dice object that produced this roll.\n",
    "        roll_type (RollType): The type of roll (e.g., DAMAGE, ATTACK, SAVE, SKILL).\n",
    "        results (Union[List[int], int]): The individual die results or a single result.\n",
    "        total (int): The total value of the roll, including any bonuses.\n",
    "        bonus (int): Any additional bonus applied to the roll.\n",
    "        advantage_status (AdvantageStatus): The advantage status of the roll.\n",
    "        critical_status (CriticalStatus): The critical status of the roll.\n",
    "        auto_hit_status (AutoHitStatus): The auto-hit status of the roll.\n",
    "        source_entity_uuid (UUID): UUID of the entity that made the roll.\n",
    "        target_entity_uuid (Optional[UUID]): UUID of the target entity, if applicable.\n",
    "        attack_outcome (Optional[AttackOutcome]): The outcome of an attack roll, if applicable.\n",
    "\n",
    "    Class Attributes:\n",
    "        _registry (ClassVar[Dict[UUID, 'DiceRoll']]): A class-level registry to store all instances.\n",
    "\n",
    "    Methods:\n",
    "        get(cls, uuid: UUID) -> Optional['DiceRoll']:\n",
    "            Retrieve a DiceRoll instance from the registry by its UUID.\n",
    "        unregister(cls, uuid: UUID) -> None:\n",
    "            Remove a DiceRoll instance from the class registry.\n",
    "    \"\"\"\n",
    "\n",
    "    _registry: ClassVar[Dict[UUID, 'DiceRoll']] = {}\n",
    "\n",
    "    roll_uuid: UUID = Field(\n",
    "        default_factory=uuid4,\n",
    "        description=\"Unique identifier for this roll. Automatically generated if not provided.\"\n",
    "    )\n",
    "    dice_uuid: UUID = Field(\n",
    "        ...,\n",
    "        description=\"Unique identifier of the Dice object that produced this roll.\"\n",
    "    )\n",
    "    roll_type: RollType = Field(\n",
    "        ...,\n",
    "        description=\"The type of roll (e.g., DAMAGE, ATTACK, SAVE, SKILL).\"\n",
    "    )\n",
    "    results: Union[List[int], int] = Field(\n",
    "        ...,\n",
    "        description=\"The individual die results or a single result.\"\n",
    "    )\n",
    "    total: int = Field(\n",
    "        ...,\n",
    "        description=\"The total value of the roll, including any bonuses.\"\n",
    "    )\n",
    "    bonus: int = Field(\n",
    "        ...,\n",
    "        description=\"Any additional bonus applied to the roll.\"\n",
    "    )\n",
    "    advantage_status: AdvantageStatus = Field(\n",
    "        ...,\n",
    "        description=\"The advantage status of the roll.\"\n",
    "    )\n",
    "    critical_status: CriticalStatus = Field(\n",
    "        ...,\n",
    "        description=\"The critical status of the roll.\"\n",
    "    )\n",
    "    auto_hit_status: AutoHitStatus = Field(\n",
    "        ...,\n",
    "        description=\"The auto-hit status of the roll.\"\n",
    "    )\n",
    "    source_entity_uuid: UUID = Field(\n",
    "        ...,\n",
    "        description=\"UUID of the entity that made the roll.\"\n",
    "    )\n",
    "    target_entity_uuid: Optional[UUID] = Field(\n",
    "        default=None,\n",
    "        description=\"UUID of the target entity, if applicable.\"\n",
    "    )\n",
    "    attack_outcome: Optional[AttackOutcome] = Field(\n",
    "        default=None,\n",
    "        description=\"The outcome of an attack roll, if applicable.\"\n",
    "    )\n",
    "\n",
    "    def __init__(self, **data):\n",
    "        super().__init__(**data)\n",
    "        self.__class__._registry[self.roll_uuid] = self\n",
    "\n",
    "    @classmethod\n",
    "    def get(cls, uuid: UUID) -> Optional['DiceRoll']:\n",
    "        \"\"\"\n",
    "        Retrieve a DiceRoll instance from the registry by its UUID.\n",
    "\n",
    "        Args:\n",
    "            uuid (UUID): The UUID of the DiceRoll to retrieve.\n",
    "\n",
    "        Returns:\n",
    "            Optional[DiceRoll]: The DiceRoll instance if found, None otherwise.\n",
    "        \"\"\"\n",
    "        return cls._registry.get(uuid)"
   ]
  },
  {
   "cell_type": "code",
   "execution_count": 4,
   "metadata": {},
   "outputs": [
    {
     "name": "stdout",
     "output_type": "stream",
     "text": [
      "e0af93fc-90d5-40d5-b644-4f70b8369988\n",
      "e0af93fc-90d5-40d5-b644-4f70b8369988\n",
      "e0312caa-5b5f-4fc7-b403-f220bacae207\n",
      "e0312caa-5b5f-4fc7-b403-f220bacae207\n"
     ]
    }
   ],
   "source": [
    "goblin = Entity.create(source_entity_uuid=uuid4(),name=\"Goblin\")\n",
    "skeleton = Entity.create(source_entity_uuid=uuid4(),name=\"Skeleton\")\n",
    "print(goblin.source_entity_uuid)\n",
    "print(goblin.uuid)\n",
    "print(skeleton.source_entity_uuid)\n",
    "print(skeleton.uuid)\n",
    "goblin.set_target_entity(goblin.uuid)\n"
   ]
  },
  {
   "cell_type": "code",
   "execution_count": null,
   "metadata": {},
   "outputs": [],
   "source": []
  },
  {
   "cell_type": "code",
   "execution_count": 5,
   "metadata": {},
   "outputs": [
    {
     "name": "stdout",
     "output_type": "stream",
     "text": [
      "Proficiency Bonus: e0af93fc-90d5-40d5-b644-4f70b8369988\n",
      "Skill Bonus: e0af93fc-90d5-40d5-b644-4f70b8369988\n",
      "Ability Modifier: e0af93fc-90d5-40d5-b644-4f70b8369988\n"
     ]
    }
   ],
   "source": [
    "#try to compute the modifieable value for a skill roll\n",
    "# gotta get a) the proficiency bonus b) the ability modifier c) the skill bonus\n",
    "# we want to keep them as modifiable value and combine them together\n",
    "assert isinstance(goblin, Entity)\n",
    "proficiency_modifier = goblin.proficiency_bonus\n",
    "extracted_skill = goblin.skill_set.get_skill(\"acrobatics\")\n",
    "skill_modifier = extracted_skill.skill_bonus\n",
    "extracted_ability = goblin.ability_scores.get_ability(extracted_skill.ability)\n",
    "ability_modifier = extracted_ability.ability_score\n",
    "#oprint all source entity uuids\n",
    "print(f\"Proficiency Bonus: {proficiency_modifier.source_entity_uuid}\")\n",
    "print(f\"Skill Bonus: {skill_modifier.source_entity_uuid}\")\n",
    "print(f\"Ability Modifier: {ability_modifier.source_entity_uuid}\")\n"
   ]
  },
  {
   "cell_type": "code",
   "execution_count": 6,
   "metadata": {},
   "outputs": [
    {
     "data": {
      "text/plain": [
       "UUID('e0af93fc-90d5-40d5-b644-4f70b8369988')"
      ]
     },
     "execution_count": 6,
     "metadata": {},
     "output_type": "execute_result"
    }
   ],
   "source": [
    "proficiency_modifier.self_static.target_entity_uuid\n"
   ]
  },
  {
   "cell_type": "code",
   "execution_count": 7,
   "metadata": {},
   "outputs": [
    {
     "data": {
      "text/plain": [
       "UUID('e0af93fc-90d5-40d5-b644-4f70b8369988')"
      ]
     },
     "execution_count": 7,
     "metadata": {},
     "output_type": "execute_result"
    }
   ],
   "source": [
    "skill_modifier.self_static.target_entity_uuid"
   ]
  },
  {
   "cell_type": "code",
   "execution_count": 8,
   "metadata": {},
   "outputs": [
    {
     "name": "stdout",
     "output_type": "stream",
     "text": [
      "Validating others source id e0af93fc-90d5-40d5-b644-4f70b8369988 against self source e0af93fc-90d5-40d5-b644-4f70b8369988 for modifer  with name proficiency_bonus and uuid 3c176a8b-da27-475c-9d9e-571fd002c051 and type <class 'dnd.values.ModifiableValue'> against <class 'dnd.values.ModifiableValue'> with name Skill Bonus and uuid 43543e8b-66de-4224-92a8-4dbcc082f350\n",
      "AdvantageStatus.NONE\n"
     ]
    }
   ],
   "source": [
    "def skill_advantage_status(proficiency_bonus: ModifiableValue, skill_bonus: ModifiableValue, ability_modifier: ModifiableValue) -> AdvantageStatus:\n",
    "    merged_value = proficiency_bonus.combine_values([skill_bonus])\n",
    "    return merged_value.advantage\n",
    "advantage_status = skill_advantage_status(proficiency_modifier, skill_modifier, ability_modifier)\n",
    "print(advantage_status)"
   ]
  },
  {
   "cell_type": "code",
   "execution_count": 9,
   "metadata": {},
   "outputs": [
    {
     "name": "stdout",
     "output_type": "stream",
     "text": [
      "Proficiency Bonus: e0af93fc-90d5-40d5-b644-4f70b8369988\n",
      "Skill Bonus: e0af93fc-90d5-40d5-b644-4f70b8369988\n",
      "Ability Modifier: e0af93fc-90d5-40d5-b644-4f70b8369988\n"
     ]
    }
   ],
   "source": [
    "#formatetd print of the bonus\n",
    "print(f\"Proficiency Bonus: {proficiency_modifier.source_entity_uuid}\")\n",
    "print(f\"Skill Bonus: {skill_modifier.source_entity_uuid}\")\n",
    "print(f\"Ability Modifier: {ability_modifier.source_entity_uuid}\")\n",
    "\n"
   ]
  },
  {
   "cell_type": "code",
   "execution_count": 10,
   "metadata": {},
   "outputs": [
    {
     "data": {
      "text/plain": [
       "2"
      ]
     },
     "execution_count": 10,
     "metadata": {},
     "output_type": "execute_result"
    }
   ],
   "source": [
    "proficiency_modifier.normalized_score"
   ]
  },
  {
   "cell_type": "code",
   "execution_count": null,
   "metadata": {},
   "outputs": [],
   "source": []
  },
  {
   "cell_type": "code",
   "execution_count": 11,
   "metadata": {},
   "outputs": [
    {
     "ename": "SyntaxError",
     "evalue": "expected argument value expression (2776065904.py, line 32)",
     "output_type": "error",
     "traceback": [
      "\u001b[0;36m  Cell \u001b[0;32mIn[11], line 32\u001b[0;36m\u001b[0m\n\u001b[0;31m    results=,\u001b[0m\n\u001b[0m    ^\u001b[0m\n\u001b[0;31mSyntaxError\u001b[0m\u001b[0;31m:\u001b[0m expected argument value expression\n"
     ]
    }
   ],
   "source": [
    "from typing import Tuple, Optional\n",
    "import random\n",
    "\n",
    "def roll_d20(advantage_status: AdvantageStatus) -> Tuple[int,Optional[int]]:\n",
    "        num_rolls = 1 if advantage_status == AdvantageStatus.NONE else 2\n",
    "        rolls = [random.randint(1,20) for _ in range(num_rolls)]\n",
    "        if advantage_status == AdvantageStatus.ADVANTAGE:\n",
    "            return max(rolls), min(rolls)\n",
    "        elif advantage_status == AdvantageStatus.DISADVANTAGE:\n",
    "            return min(rolls), max(rolls)\n",
    "        else:\n",
    "            return rolls[0], None\n",
    "        \n",
    "        \n",
    "def skill_roll_bonus(skill_name: SkillName, entity: Entity) -> DiceRoll:\n",
    "    extracted_skill = entity.skill_set.get_skill(skill_name)\n",
    "    skill_modifier = extracted_skill.skill_bonus\n",
    "    extracted_ability = entity.ability_scores.get_ability(extracted_skill.ability)\n",
    "    ability_modifier = extracted_ability.ability_score\n",
    "\n",
    "\n",
    "\n",
    "        \n",
    "\n",
    "       \n",
    "    proficiency_modifier = entity.proficiency_bonus\n",
    "\n",
    "    \n",
    "\n",
    "    return DiceRoll(\n",
    "        roll_type=RollType.SKILL,\n",
    "        results=,\n",
    "        source_entity_uuid=entity.uuid,\n",
    "        target_entity_uuid=None,\n",
    "        attack_outcome=None\n",
    "    )\n",
    "\n"
   ]
  }
 ],
 "metadata": {
  "kernelspec": {
   "display_name": ".venv",
   "language": "python",
   "name": "python3"
  },
  "language_info": {
   "codemirror_mode": {
    "name": "ipython",
    "version": 3
   },
   "file_extension": ".py",
   "mimetype": "text/x-python",
   "name": "python",
   "nbconvert_exporter": "python",
   "pygments_lexer": "ipython3",
   "version": "3.12.1"
  }
 },
 "nbformat": 4,
 "nbformat_minor": 2
}
