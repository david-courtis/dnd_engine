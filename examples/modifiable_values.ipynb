{
 "cells": [
  {
   "cell_type": "code",
   "execution_count": 1,
   "metadata": {},
   "outputs": [],
   "source": [
    "from typing import Dict, Optional, Any, List, Self, Literal, ClassVar, Union\n",
    "from uuid import UUID, uuid4\n",
    "from pydantic import BaseModel, Field, model_validator, computed_field, field_validator\n",
    "from enum import Enum\n",
    "from dnd.values import ModifiableValue, AdvantageStatus, CriticalStatus, AutoHitStatus, StaticValue,NumericalModifier, ContextualValue\n",
    "\n",
    "from dnd.blocks import (\n",
    "    BaseBlock, AbilityScores, SavingThrowSet, Health, \n",
    "    Equipped, Speed, ActionEconomy,SkillSet,SkillName\n",
    ")\n",
    "from dnd.values import ModifiableValue\n",
    "from dnd.modifiers import (\n",
    "    NumericalModifier, DamageType, ResistanceStatus, \n",
    "    ContextAwareCondition, BaseObject\n",
    ")\n",
    "\n",
    "from dnd.equipment import (\n",
    "    Armor, Weapon, Shield, BodyArmor, Gauntlets, Greaves,\n",
    "    Boots, Amulet, Ring, Cloak, Helmet, BodyPart\n",
    ")\n",
    "from dnd.dice import Dice, RollType, DiceRoll"
   ]
  },
  {
   "cell_type": "code",
   "execution_count": 2,
   "metadata": {},
   "outputs": [],
   "source": [
    "from dnd.modifiers import (\n",
    "    BaseObject,\n",
    "    naming_callable,\n",
    "    NumericalModifier,\n",
    "    AdvantageModifier,\n",
    "    CriticalModifier,\n",
    "    AutoHitModifier,\n",
    "    AdvantageStatus,\n",
    "    CriticalStatus,\n",
    "    AutoHitStatus,\n",
    "    Size,\n",
    "    DamageType,\n",
    "    SizeModifier,\n",
    "    DamageTypeModifier,\n",
    "    ContextualNumericalModifier,\n",
    "    ContextualAdvantageModifier,\n",
    "    ContextualCriticalModifier,\n",
    "    ContextualAutoHitModifier,\n",
    "    ContextualSizeModifier,\n",
    "    ContextualDamageTypeModifier,\n",
    "    ResistanceModifier,\n",
    "    ContextualResistanceModifier,\n",
    "    ResistanceStatus\n",
    ")"
   ]
  },
  {
   "cell_type": "code",
   "execution_count": 3,
   "metadata": {},
   "outputs": [],
   "source": [
    "class Entity(BaseBlock):\n",
    "    \"\"\" Base class for dnd entities in the game it acts as container for blocks and implements common functionalities that\n",
    "    require interactions between blocks \"\"\"\n",
    "    \n",
    "    name: str = Field(default=\"Entity\")\n",
    "    ability_scores: AbilityScores = Field(default_factory=lambda: AbilityScores.create(source_entity_uuid=uuid4()))\n",
    "    skill_set: SkillSet = Field(default_factory=lambda: SkillSet.create(source_entity_uuid=uuid4()))\n",
    "    saving_throws: SavingThrowSet = Field(default_factory=lambda: SavingThrowSet.create(source_entity_uuid=uuid4()))\n",
    "    health: Health = Field(default_factory=lambda: Health.create(source_entity_uuid=uuid4()))\n",
    "    equipped: Equipped = Field(default_factory=lambda: Equipped.create(source_entity_uuid=uuid4()))\n",
    "    speed: Speed = Field(default_factory=lambda: Speed.create(source_entity_uuid=uuid4()))\n",
    "    action_economy: ActionEconomy = Field(default_factory=lambda: ActionEconomy.create(source_entity_uuid=uuid4()))\n",
    "    proficiency_bonus: ModifiableValue = Field(default_factory=lambda: ModifiableValue.create(source_entity_uuid=uuid4(),value_name=\"proficiency_bonus\",base_value=2))\n",
    "    @classmethod\n",
    "    def create(cls, source_entity_uuid: UUID, name: str = \"Entity\") -> 'Entity':\n",
    "        \"\"\"\n",
    "        Create a new Entity instance with the given parameters. All sub-blocks will share\n",
    "        the same source_entity_uuid as the entity itself.\n",
    "\n",
    "        Args:\n",
    "            source_entity_uuid (UUID): The UUID that will be used as both the entity's UUID and source_entity_uuid\n",
    "            name (str): The name of the entity. Defaults to \"Entity\"\n",
    "\n",
    "        Returns:\n",
    "            Entity: The newly created Entity instance\n",
    "        \"\"\"\n",
    "        return cls(\n",
    "            uuid=source_entity_uuid,\n",
    "            source_entity_uuid=source_entity_uuid,\n",
    "            name=name)\n",
    "            \n",
    "    \n",
    "\n"
   ]
  },
  {
   "cell_type": "code",
   "execution_count": 4,
   "metadata": {},
   "outputs": [],
   "source": [
    "#static advantage modifier\n"
   ]
  },
  {
   "cell_type": "code",
   "execution_count": 5,
   "metadata": {},
   "outputs": [
    {
     "name": "stdout",
     "output_type": "stream",
     "text": [
      "f3ea5e8f-1788-4bfd-83a9-4beb00cfe006\n",
      "f3ea5e8f-1788-4bfd-83a9-4beb00cfe006\n",
      "04963af0-b1ef-4219-8831-9c9b6c149e09\n",
      "04963af0-b1ef-4219-8831-9c9b6c149e09\n"
     ]
    }
   ],
   "source": [
    "goblin = Entity.create(source_entity_uuid=uuid4(),name=\"Goblin\")\n",
    "skeleton = Entity.create(source_entity_uuid=uuid4(),name=\"Skeleton\")\n",
    "print(goblin.source_entity_uuid)\n",
    "print(goblin.uuid)\n",
    "print(skeleton.source_entity_uuid)\n",
    "print(skeleton.uuid)\n",
    "goblin.set_target_entity(goblin.uuid)\n"
   ]
  },
  {
   "cell_type": "code",
   "execution_count": 6,
   "metadata": {},
   "outputs": [],
   "source": [
    "from dnd.modifiers import ContextualModifier\n",
    "\n",
    "\n",
    "self_advantage = AdvantageModifier(name=\"self_advantage\",source_entity_uuid=goblin.uuid,target_entity_uuid=goblin.uuid,value=AdvantageStatus.ADVANTAGE)\n",
    "\n",
    "\n",
    "def fear_of_skeleton(source_entity: UUID, target_entity: Optional[UUID], context: Optional[Dict[str, Any]] = None) -> AdvantageModifier:\n",
    "    nonemodifier= AdvantageModifier(name=\"fear_of_skeleton\",source_entity_uuid=source_entity,target_entity_uuid=target_entity,value=AdvantageStatus.NONE)\n",
    "    if target_entity is None:\n",
    "        return nonemodifier\n",
    "\n",
    "    target_entity_name = Entity.get(target_entity)\n",
    "    if target_entity_name is None:\n",
    "        return nonemodifier\n",
    "    if target_entity_name.name == \"Skeleton\":\n",
    "        return AdvantageModifier(name=\"fear_of_skeleton\",source_entity_uuid=source_entity,target_entity_uuid=target_entity,value=AdvantageStatus.DISADVANTAGE)\n",
    "    else:\n",
    "\n",
    "\n",
    "        return nonemodifier\n",
    "\n",
    "\n",
    "ifskeleton_modifier= ContextualAdvantageModifier(name=\"contextual_fear_of_skeleton\",source_entity_uuid=goblin.uuid,target_entity_uuid=goblin.uuid,callable=fear_of_skeleton)\n",
    "\n"
   ]
  },
  {
   "cell_type": "code",
   "execution_count": 7,
   "metadata": {},
   "outputs": [
    {
     "name": "stdout",
     "output_type": "stream",
     "text": [
      "Proficiency Bonus: f3ea5e8f-1788-4bfd-83a9-4beb00cfe006\n",
      "Skill Bonus: f3ea5e8f-1788-4bfd-83a9-4beb00cfe006\n",
      "Ability Modifier: f3ea5e8f-1788-4bfd-83a9-4beb00cfe006\n"
     ]
    }
   ],
   "source": [
    "#try to compute the modifieable value for a skill roll\n",
    "# gotta get a) the proficiency bonus b) the ability modifier c) the skill bonus\n",
    "# we want to keep them as modifiable value and combine them together\n",
    "assert isinstance(goblin, Entity)\n",
    "proficiency_modifier = goblin.proficiency_bonus\n",
    "extracted_skill = goblin.skill_set.get_skill(\"acrobatics\")\n",
    "skill_modifier = extracted_skill.skill_bonus\n",
    "extracted_ability = goblin.ability_scores.get_ability(extracted_skill.ability)\n",
    "ability_modifier = extracted_ability.ability_score\n",
    "#oprint all source entity uuids\n",
    "print(f\"Proficiency Bonus: {proficiency_modifier.source_entity_uuid}\")\n",
    "print(f\"Skill Bonus: {skill_modifier.source_entity_uuid}\")\n",
    "print(f\"Ability Modifier: {ability_modifier.source_entity_uuid}\")\n"
   ]
  },
  {
   "cell_type": "code",
   "execution_count": 8,
   "metadata": {},
   "outputs": [
    {
     "data": {
      "text/plain": [
       "0"
      ]
     },
     "execution_count": 8,
     "metadata": {},
     "output_type": "execute_result"
    }
   ],
   "source": [
    "ability_modifier.normalized_score"
   ]
  },
  {
   "cell_type": "code",
   "execution_count": 9,
   "metadata": {},
   "outputs": [
    {
     "data": {
      "text/plain": [
       "True"
      ]
     },
     "execution_count": 9,
     "metadata": {},
     "output_type": "execute_result"
    }
   ],
   "source": [
    "ability_modifier.global_normalizer"
   ]
  },
  {
   "cell_type": "code",
   "execution_count": 10,
   "metadata": {},
   "outputs": [
    {
     "data": {
      "text/plain": [
       "<function dnd.blocks.ability_score_normalizer(score: int) -> int>"
      ]
     },
     "execution_count": 10,
     "metadata": {},
     "output_type": "execute_result"
    }
   ],
   "source": [
    "ability_modifier.score_normalizer"
   ]
  },
  {
   "cell_type": "code",
   "execution_count": 11,
   "metadata": {},
   "outputs": [],
   "source": [
    "numerical_modifier_dict = ability_modifier.self_static.value_modifiers\n",
    "numerical_modifier = numerical_modifier_dict[list(ability_modifier.self_static.value_modifiers.keys())[0]]"
   ]
  },
  {
   "cell_type": "code",
   "execution_count": 12,
   "metadata": {},
   "outputs": [
    {
     "name": "stdout",
     "output_type": "stream",
     "text": [
      "10\n",
      "0\n",
      "<function ability_score_normalizer at 0x10752b380>\n"
     ]
    }
   ],
   "source": [
    "print(numerical_modifier.value)\n",
    "print(numerical_modifier.normalized_value)\n",
    "print(numerical_modifier.score_normalizer)"
   ]
  },
  {
   "cell_type": "code",
   "execution_count": 13,
   "metadata": {},
   "outputs": [],
   "source": [
    "numerical_modifier = ability_modifier.self_static.value_modifiers[list(ability_modifier.self_static.value_modifiers.keys())[0]]\n",
    "\n"
   ]
  },
  {
   "cell_type": "code",
   "execution_count": 14,
   "metadata": {},
   "outputs": [
    {
     "data": {
      "text/plain": [
       "<function dnd.blocks.ability_score_normalizer(score: int) -> int>"
      ]
     },
     "execution_count": 14,
     "metadata": {},
     "output_type": "execute_result"
    }
   ],
   "source": [
    "normalizer =numerical_modifier.score_normalizer\n",
    "normalizer"
   ]
  },
  {
   "cell_type": "code",
   "execution_count": 15,
   "metadata": {},
   "outputs": [
    {
     "data": {
      "text/plain": [
       "4"
      ]
     },
     "execution_count": 15,
     "metadata": {},
     "output_type": "execute_result"
    }
   ],
   "source": [
    "normalizer(19)"
   ]
  },
  {
   "cell_type": "code",
   "execution_count": 16,
   "metadata": {},
   "outputs": [
    {
     "data": {
      "text/plain": [
       "UUID('f3ea5e8f-1788-4bfd-83a9-4beb00cfe006')"
      ]
     },
     "execution_count": 16,
     "metadata": {},
     "output_type": "execute_result"
    }
   ],
   "source": [
    "proficiency_modifier.self_static.target_entity_uuid\n"
   ]
  },
  {
   "cell_type": "code",
   "execution_count": 17,
   "metadata": {},
   "outputs": [
    {
     "data": {
      "text/plain": [
       "UUID('f3ea5e8f-1788-4bfd-83a9-4beb00cfe006')"
      ]
     },
     "execution_count": 17,
     "metadata": {},
     "output_type": "execute_result"
    }
   ],
   "source": [
    "skill_modifier.self_static.target_entity_uuid"
   ]
  },
  {
   "cell_type": "code",
   "execution_count": null,
   "metadata": {},
   "outputs": [],
   "source": []
  },
  {
   "cell_type": "code",
   "execution_count": 18,
   "metadata": {},
   "outputs": [
    {
     "name": "stdout",
     "output_type": "stream",
     "text": [
      "Validating others source id f3ea5e8f-1788-4bfd-83a9-4beb00cfe006 against self source f3ea5e8f-1788-4bfd-83a9-4beb00cfe006 for modifer  with name proficiency_bonus and uuid e2d22658-5b9a-4a2b-8db6-4f741b99579c and type <class 'dnd.values.ModifiableValue'> against <class 'dnd.values.ModifiableValue'> with name Skill Bonus and uuid 48be0d52-0564-4c37-956a-11790f97a962\n",
      "Validating others source id f3ea5e8f-1788-4bfd-83a9-4beb00cfe006 against self source f3ea5e8f-1788-4bfd-83a9-4beb00cfe006 for modifer  with name proficiency_bonus and uuid e2d22658-5b9a-4a2b-8db6-4f741b99579c and type <class 'dnd.values.ModifiableValue'> against <class 'dnd.values.ModifiableValue'> with name Ability Score and uuid 71192eee-dce4-49a6-aebb-7c83063db0cf\n",
      "(<AdvantageStatus.NONE: 'None'>, <CriticalStatus.NONE: 'None'>, <AutoHitStatus.NONE: 'None'>, 12, 12)\n",
      "Validating others source id f3ea5e8f-1788-4bfd-83a9-4beb00cfe006 against self source f3ea5e8f-1788-4bfd-83a9-4beb00cfe006 for modifer  with name proficiency_bonus and uuid e2d22658-5b9a-4a2b-8db6-4f741b99579c and type <class 'dnd.values.ModifiableValue'> against <class 'dnd.values.ModifiableValue'> with name Skill Bonus and uuid 48be0d52-0564-4c37-956a-11790f97a962\n",
      "Validating others source id f3ea5e8f-1788-4bfd-83a9-4beb00cfe006 against self source f3ea5e8f-1788-4bfd-83a9-4beb00cfe006 for modifer  with name proficiency_bonus and uuid e2d22658-5b9a-4a2b-8db6-4f741b99579c and type <class 'dnd.values.ModifiableValue'> against <class 'dnd.values.ModifiableValue'> with name Ability Score and uuid 71192eee-dce4-49a6-aebb-7c83063db0cf\n",
      "(<AdvantageStatus.ADVANTAGE: 'Advantage'>, <CriticalStatus.NONE: 'None'>, <AutoHitStatus.NONE: 'None'>, 12, 12)\n",
      "Validating others source id f3ea5e8f-1788-4bfd-83a9-4beb00cfe006 against self source f3ea5e8f-1788-4bfd-83a9-4beb00cfe006 for modifer  with name proficiency_bonus and uuid e2d22658-5b9a-4a2b-8db6-4f741b99579c and type <class 'dnd.values.ModifiableValue'> against <class 'dnd.values.ModifiableValue'> with name Skill Bonus and uuid 48be0d52-0564-4c37-956a-11790f97a962\n",
      "Validating others source id f3ea5e8f-1788-4bfd-83a9-4beb00cfe006 against self source f3ea5e8f-1788-4bfd-83a9-4beb00cfe006 for modifer  with name proficiency_bonus and uuid e2d22658-5b9a-4a2b-8db6-4f741b99579c and type <class 'dnd.values.ModifiableValue'> against <class 'dnd.values.ModifiableValue'> with name Ability Score and uuid 71192eee-dce4-49a6-aebb-7c83063db0cf\n",
      "(<AdvantageStatus.NONE: 'None'>, <CriticalStatus.NONE: 'None'>, <AutoHitStatus.NONE: 'None'>, 12, 12)\n"
     ]
    }
   ],
   "source": [
    "from typing import Tuple\n",
    "def skill_merge_status(proficiency_bonus: ModifiableValue, skill_bonus: ModifiableValue, ability_modifier: ModifiableValue) -> Tuple[AdvantageStatus, CriticalStatus, AutoHitStatus, int, int]:\n",
    "    merged_value = proficiency_bonus.combine_values([skill_bonus, ability_modifier])          \n",
    "\n",
    "    return merged_value.advantage,merged_value.critical,merged_value.auto_hit,merged_value.normalized_score,merged_value.score\n",
    "goblin.set_target_entity(goblin.uuid)\n",
    "\n",
    "advantage_status = skill_merge_status(proficiency_modifier, skill_modifier, ability_modifier)\n",
    "print(advantage_status)\n",
    "proficiency_modifier.self_static.add_advantage_modifier(self_advantage)\n",
    "proficiency_modifier.self_contextual.add_advantage_modifier(ifskeleton_modifier)\n",
    "advantage_status_post = skill_merge_status(proficiency_modifier, skill_modifier, ability_modifier)\n",
    "print(advantage_status_post)\n",
    "goblin.set_target_entity(skeleton.uuid)\n",
    "advantage_status_post_target = skill_merge_status(proficiency_modifier, skill_modifier, ability_modifier)\n",
    "print(advantage_status_post_target)\n",
    "\n",
    "\n"
   ]
  },
  {
   "cell_type": "code",
   "execution_count": 19,
   "metadata": {},
   "outputs": [
    {
     "name": "stdout",
     "output_type": "stream",
     "text": [
      "Validating others source id f3ea5e8f-1788-4bfd-83a9-4beb00cfe006 against self source f3ea5e8f-1788-4bfd-83a9-4beb00cfe006 for modifer  with name proficiency_bonus and uuid e2d22658-5b9a-4a2b-8db6-4f741b99579c and type <class 'dnd.values.ModifiableValue'> against <class 'dnd.values.ModifiableValue'> with name Skill Bonus and uuid 48be0d52-0564-4c37-956a-11790f97a962\n",
      "Validating others source id f3ea5e8f-1788-4bfd-83a9-4beb00cfe006 against self source f3ea5e8f-1788-4bfd-83a9-4beb00cfe006 for modifer  with name proficiency_bonus and uuid e2d22658-5b9a-4a2b-8db6-4f741b99579c and type <class 'dnd.values.ModifiableValue'> against <class 'dnd.values.ModifiableValue'> with name Ability Score and uuid 71192eee-dce4-49a6-aebb-7c83063db0cf\n",
      "(<AdvantageStatus.ADVANTAGE: 'Advantage'>, <CriticalStatus.NONE: 'None'>, <AutoHitStatus.NONE: 'None'>, 12, 12)\n"
     ]
    }
   ],
   "source": [
    "ifskeleton_modifier.uuid\n",
    "proficiency_modifier.remove_modifier(ifskeleton_modifier.uuid)\n",
    "advantage_status_post_remove = skill_merge_status(proficiency_modifier, skill_modifier, ability_modifier)\n",
    "print(advantage_status_post_remove)"
   ]
  },
  {
   "cell_type": "code",
   "execution_count": 20,
   "metadata": {},
   "outputs": [
    {
     "name": "stdout",
     "output_type": "stream",
     "text": [
      "Proficiency Bonus: f3ea5e8f-1788-4bfd-83a9-4beb00cfe006\n",
      "Skill Bonus: f3ea5e8f-1788-4bfd-83a9-4beb00cfe006\n",
      "Ability Modifier: f3ea5e8f-1788-4bfd-83a9-4beb00cfe006\n"
     ]
    }
   ],
   "source": [
    "#formatetd print of the bonus\n",
    "print(f\"Proficiency Bonus: {proficiency_modifier.source_entity_uuid}\")\n",
    "print(f\"Skill Bonus: {skill_modifier.source_entity_uuid}\")\n",
    "print(f\"Ability Modifier: {ability_modifier.source_entity_uuid}\")\n",
    "\n"
   ]
  },
  {
   "cell_type": "code",
   "execution_count": 21,
   "metadata": {},
   "outputs": [
    {
     "data": {
      "text/plain": [
       "2"
      ]
     },
     "execution_count": 21,
     "metadata": {},
     "output_type": "execute_result"
    }
   ],
   "source": [
    "proficiency_modifier.normalized_score"
   ]
  },
  {
   "cell_type": "code",
   "execution_count": null,
   "metadata": {},
   "outputs": [],
   "source": []
  },
  {
   "cell_type": "code",
   "execution_count": 22,
   "metadata": {},
   "outputs": [
    {
     "ename": "SyntaxError",
     "evalue": "expected argument value expression (2776065904.py, line 32)",
     "output_type": "error",
     "traceback": [
      "\u001b[0;36m  Cell \u001b[0;32mIn[22], line 32\u001b[0;36m\u001b[0m\n\u001b[0;31m    results=,\u001b[0m\n\u001b[0m    ^\u001b[0m\n\u001b[0;31mSyntaxError\u001b[0m\u001b[0;31m:\u001b[0m expected argument value expression\n"
     ]
    }
   ],
   "source": [
    "from typing import Tuple, Optional\n",
    "import random\n",
    "\n",
    "def roll_d20(advantage_status: AdvantageStatus) -> Tuple[int,Optional[int]]:\n",
    "        num_rolls = 1 if advantage_status == AdvantageStatus.NONE else 2\n",
    "        rolls = [random.randint(1,20) for _ in range(num_rolls)]\n",
    "        if advantage_status == AdvantageStatus.ADVANTAGE:\n",
    "            return max(rolls), min(rolls)\n",
    "        elif advantage_status == AdvantageStatus.DISADVANTAGE:\n",
    "            return min(rolls), max(rolls)\n",
    "        else:\n",
    "            return rolls[0], None\n",
    "        \n",
    "        \n",
    "def skill_roll_bonus(skill_name: SkillName, entity: Entity) -> DiceRoll:\n",
    "    extracted_skill = entity.skill_set.get_skill(skill_name)\n",
    "    skill_modifier = extracted_skill.skill_bonus\n",
    "    extracted_ability = entity.ability_scores.get_ability(extracted_skill.ability)\n",
    "    ability_modifier = extracted_ability.ability_score\n",
    "\n",
    "\n",
    "\n",
    "        \n",
    "\n",
    "       \n",
    "    proficiency_modifier = entity.proficiency_bonus\n",
    "\n",
    "    \n",
    "\n",
    "    return DiceRoll(\n",
    "        roll_type=RollType.SKILL,\n",
    "        results=,\n",
    "        source_entity_uuid=entity.uuid,\n",
    "        target_entity_uuid=None,\n",
    "        attack_outcome=None\n",
    "    )\n",
    "\n"
   ]
  }
 ],
 "metadata": {
  "kernelspec": {
   "display_name": ".venv",
   "language": "python",
   "name": "python3"
  },
  "language_info": {
   "codemirror_mode": {
    "name": "ipython",
    "version": 3
   },
   "file_extension": ".py",
   "mimetype": "text/x-python",
   "name": "python",
   "nbconvert_exporter": "python",
   "pygments_lexer": "ipython3",
   "version": "3.12.1"
  }
 },
 "nbformat": 4,
 "nbformat_minor": 2
}
