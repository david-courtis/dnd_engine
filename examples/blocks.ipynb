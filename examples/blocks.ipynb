{
 "cells": [
  {
   "cell_type": "code",
   "execution_count": 1,
   "metadata": {},
   "outputs": [],
   "source": [
    "from dnd.blocks import Ability, AbilityConfig, AbilityScoresConfig, AbilityScores, Skill, SkillConfig, SkillSet, SkillSetConfig\n",
    "\n",
    "\n",
    "from dnd.blocks import (\n",
    "    SavingThrowConfig,\n",
    "    SavingThrowSetConfig,\n",
    "    SavingThrowSet,\n",
    "    HitDiceConfig,\n",
    "    HealthConfig,\n",
    "    Health,\n",
    "    SpeedConfig,\n",
    "    Speed,\n",
    "    ActionEconomyConfig,\n",
    "    ActionEconomy,\n",
    "    EquipmentConfig,\n",
    "    Equipment,\n",
    ")\n",
    "\n",
    "from dnd.entity import Entity, EntityConfig\n",
    "    \n",
    "from dnd.modifiers import NumericalModifier, DamageType\n",
    "from uuid import uuid4"
   ]
  },
  {
   "cell_type": "code",
   "execution_count": 2,
   "metadata": {},
   "outputs": [],
   "source": [
    "source_id = uuid4()\n",
    "proficiency_bonus = 2\n"
   ]
  },
  {
   "cell_type": "code",
   "execution_count": 3,
   "metadata": {},
   "outputs": [
    {
     "data": {
      "text/plain": [
       "4"
      ]
     },
     "execution_count": 3,
     "metadata": {},
     "output_type": "execute_result"
    }
   ],
   "source": [
    "#realistic scores for a level 4 fighter character\n",
    "strength_config = AbilityConfig(ability_score=15, ability_scores_modifiers=[(\"level 4 talent\",1)], modifier_bonus=1, modifier_bonus_modifiers=[])\n",
    "dexterity_config = AbilityConfig(ability_score=12)\n",
    "constitution_config = AbilityConfig(ability_score=15, ability_scores_modifiers=[(\"level 4 talent\",1)])\n",
    "intelligence_config = AbilityConfig(ability_score=10)\n",
    "wisdom_config = AbilityConfig(ability_score=10)\n",
    "charisma_config = AbilityConfig(ability_score=10)\n",
    "ability_scores_config = AbilityScoresConfig(strength=strength_config, dexterity=dexterity_config, constitution=constitution_config, intelligence=intelligence_config, wisdom=wisdom_config, charisma=charisma_config)\n",
    "ability_scores = AbilityScores.create(source_entity_uuid=source_id, config=ability_scores_config)\n",
    "ability_scores.strength.modifier\n"
   ]
  },
  {
   "cell_type": "code",
   "execution_count": 4,
   "metadata": {},
   "outputs": [],
   "source": [
    "acrobatics_config = SkillConfig(skill_bonus = 0, skill_bonus_modifiers=[(\"a past in the circus\", 7)],expertise = True, proficiency = True)\n",
    "history_config = SkillConfig(skill_bonus = 0, skill_bonus_modifiers=[(\"a past in the circus\", -2)],expertise = False, proficiency = False)\n",
    "skill_set_config = SkillSetConfig(acrobatics=acrobatics_config, history=history_config)\n",
    "skill_set = SkillSet.create(source_entity_uuid=source_id, config=skill_set_config)\n"
   ]
  },
  {
   "cell_type": "code",
   "execution_count": 5,
   "metadata": {},
   "outputs": [],
   "source": [
    "strength_st_config = SavingThrowConfig(bonus_modifiers=[(\"a past in the circus\", 1)],proficiency=True)\n",
    "intelligence_st_config = SavingThrowConfig(bonus_modifiers=[(\"a past in the circus\", -1)])\n",
    "\n",
    "saving_throw_set_config = SavingThrowSetConfig(strength_saving_throw=strength_st_config, intelligence_saving_throw=intelligence_st_config)\n",
    "saving_throw_set = SavingThrowSet.create(source_entity_uuid=source_id, config=saving_throw_set_config)\n"
   ]
  },
  {
   "cell_type": "code",
   "execution_count": 6,
   "metadata": {},
   "outputs": [
    {
     "data": {
      "text/plain": [
       "3"
      ]
     },
     "execution_count": 6,
     "metadata": {},
     "output_type": "execute_result"
    }
   ],
   "source": [
    "saving_throw_set.strength_saving_throw.get_bonus(proficiency_bonus=proficiency_bonus)\n"
   ]
  },
  {
   "cell_type": "code",
   "execution_count": 7,
   "metadata": {},
   "outputs": [
    {
     "data": {
      "text/plain": [
       "58"
      ]
     },
     "execution_count": 7,
     "metadata": {},
     "output_type": "execute_result"
    }
   ],
   "source": [
    "\n",
    "warrior_hitpoints_config = HitDiceConfig(hit_dice_value=10,hit_dice_count=4,mode=\"average\", ignore_first_level=False)\n",
    "gang_hitpoints_config = HitDiceConfig(hit_dice_value=8,hit_dice_count=1,mode=\"average\", ignore_first_level=True)\n",
    "\n",
    "health_config = HealthConfig(hit_dices=[warrior_hitpoints_config,gang_hitpoints_config],\n",
    "                             damage_reduction=1,\n",
    "                             resistances=[DamageType.FIRE],\n",
    "                             vulnerabilities=[DamageType.COLD],\n",
    "                             temporary_hit_points_modifiers=[(\"permanentfalse_life\", 10)],\n",
    "                             )\n",
    "health = Health.create(source_entity_uuid=source_id, config=health_config)\n",
    "health.get_total_hit_points(constitution_modifier=ability_scores.constitution.modifier)"
   ]
  },
  {
   "cell_type": "code",
   "execution_count": 8,
   "metadata": {},
   "outputs": [],
   "source": [
    "speed_config = SpeedConfig(walk=30,climb_modifiers=[(\"a past in the circus\", 10)])\n",
    "speed = Speed.create(source_entity_uuid=source_id, config=speed_config)\n"
   ]
  },
  {
   "cell_type": "code",
   "execution_count": 9,
   "metadata": {},
   "outputs": [],
   "source": [
    "action_economy_config = ActionEconomyConfig(\n",
    "    reactions_modifiers=[(\"a past in the circus\", 2)],)\n",
    "action_economy = ActionEconomy.create(source_entity_uuid=source_id, config=action_economy_config)\n",
    "    "
   ]
  },
  {
   "cell_type": "code",
   "execution_count": 10,
   "metadata": {},
   "outputs": [],
   "source": [
    "equipment_config = EquipmentConfig(\n",
    "    ac_modifiers=[(\"a past in the circus\", 1)],\n",
    "    unarmed_damage_bonus=1,\n",
    "    unarmed_damage_type=DamageType.PIERCING,\n",
    "    unarmed_damage_bonus_modifiers=[(\"a past in the circus\", 1)],\n",
    "    )\n",
    "equipment = Equipment.create(source_entity_uuid=source_id, config=equipment_config)\n",
    "\n",
    "\n"
   ]
  },
  {
   "cell_type": "code",
   "execution_count": null,
   "metadata": {},
   "outputs": [],
   "source": [
    "entity_config = EntityConfig(\n",
    "    ability_scores=ability_scores_config,\n",
    "    skill_set=skill_set_config,\n",
    "    saving_throws=saving_throw_set_config,\n",
    "    health=health_config,\n",
    "    equipment=equipment_config,\n",
    "    speed=speed_config,\n",
    "    action_economy=action_economy_config,\n",
    "    proficiency_bonus=proficiency_bonus,\n",
    "    proficiency_bonus_modifiers=[(\"a past in the circus\", -1)],\n",
    "    )\n",
    "entity = Entity.create(name=\"Gang Member\", source_entity_uuid=source_id, config=entity_config)\n",
    "\n"
   ]
  }
 ],
 "metadata": {
  "kernelspec": {
   "display_name": ".venv",
   "language": "python",
   "name": "python3"
  },
  "language_info": {
   "codemirror_mode": {
    "name": "ipython",
    "version": 3
   },
   "file_extension": ".py",
   "mimetype": "text/x-python",
   "name": "python",
   "nbconvert_exporter": "python",
   "pygments_lexer": "ipython3",
   "version": "3.12.6"
  }
 },
 "nbformat": 4,
 "nbformat_minor": 2
}
