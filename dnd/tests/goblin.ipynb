{
 "cells": [
  {
   "cell_type": "code",
   "execution_count": 43,
   "metadata": {},
   "outputs": [],
   "source": [
    "from dnd.monsters.goblin import create_goblin"
   ]
  },
  {
   "cell_type": "code",
   "execution_count": 44,
   "metadata": {},
   "outputs": [],
   "source": [
    "alfred = create_goblin(\"Alfred\")\n",
    "beatrice = create_goblin(\"Beatrice\")"
   ]
  },
  {
   "cell_type": "code",
   "execution_count": 45,
   "metadata": {},
   "outputs": [
    {
     "data": {
      "text/plain": [
       "Health(id='03e1b495-bc3b-4edd-b443-d804bd414157', name='Health', description=None, owner_id='3449ed52-3026-4a19-8d09-ff0de9380bd8', hit_dice_value=6, hit_dice_count=2, max_hit_point_bonus=ModifiableValue(base_value=BaseValue(name='base_max_hp_bonus', base_value=0, min_value=None, max_value=None, advantage=<AdvantageStatus.NONE: 'None'>, auto_hit=<AutoHitStatus.NONE: 'None'>, critical=<CriticalStatus.NONE: 'None'>), self_static=StaticModifier(bonuses={}, min_constraints={}, max_constraints={}, advantage_conditions={}, auto_hit_conditions={}, critical_conditions={}), target_static=StaticModifier(bonuses={}, min_constraints={}, max_constraints={}, advantage_conditions={}, auto_hit_conditions={}, critical_conditions={}), self_contextual=ContextualModifier(bonuses={}, min_constraints={}, max_constraints={}, advantage_conditions={}, auto_hit_conditions={}, critical_conditions={}), target_contextual=ContextualModifier(bonuses={}, min_constraints={}, max_constraints={}, advantage_conditions={}, auto_hit_conditions={}, critical_conditions={})), damage_taken=0, temporary_hit_points=ModifiableValue(base_value=BaseValue(name='base_temporary_hp', base_value=0, min_value=None, max_value=None, advantage=<AdvantageStatus.NONE: 'None'>, auto_hit=<AutoHitStatus.NONE: 'None'>, critical=<CriticalStatus.NONE: 'None'>), self_static=StaticModifier(bonuses={}, min_constraints={}, max_constraints={}, advantage_conditions={}, auto_hit_conditions={}, critical_conditions={}), target_static=StaticModifier(bonuses={}, min_constraints={}, max_constraints={}, advantage_conditions={}, auto_hit_conditions={}, critical_conditions={}), self_contextual=ContextualModifier(bonuses={}, min_constraints={}, max_constraints={}, advantage_conditions={}, auto_hit_conditions={}, critical_conditions={}), target_contextual=ContextualModifier(bonuses={}, min_constraints={}, max_constraints={}, advantage_conditions={}, auto_hit_conditions={}, critical_conditions={})), temporary_hit_points_damage_taken=0, damage_reduction=ModifiableValue(base_value=BaseValue(name='base_damage_reduction', base_value=0, min_value=None, max_value=None, advantage=<AdvantageStatus.NONE: 'None'>, auto_hit=<AutoHitStatus.NONE: 'None'>, critical=<CriticalStatus.NONE: 'None'>), self_static=StaticModifier(bonuses={}, min_constraints={}, max_constraints={}, advantage_conditions={}, auto_hit_conditions={}, critical_conditions={}), target_static=StaticModifier(bonuses={}, min_constraints={}, max_constraints={}, advantage_conditions={}, auto_hit_conditions={}, critical_conditions={}), self_contextual=ContextualModifier(bonuses={}, min_constraints={}, max_constraints={}, advantage_conditions={}, auto_hit_conditions={}, critical_conditions={}), target_contextual=ContextualModifier(bonuses={}, min_constraints={}, max_constraints={}, advantage_conditions={}, auto_hit_conditions={}, critical_conditions={})), healing_bonus=ModifiableValue(base_value=BaseValue(name='base_healing_bonus', base_value=0, min_value=None, max_value=None, advantage=<AdvantageStatus.NONE: 'None'>, auto_hit=<AutoHitStatus.NONE: 'None'>, critical=<CriticalStatus.NONE: 'None'>), self_static=StaticModifier(bonuses={}, min_constraints={}, max_constraints={}, advantage_conditions={}, auto_hit_conditions={}, critical_conditions={}), target_static=StaticModifier(bonuses={}, min_constraints={}, max_constraints={}, advantage_conditions={}, auto_hit_conditions={}, critical_conditions={}), self_contextual=ContextualModifier(bonuses={}, min_constraints={}, max_constraints={}, advantage_conditions={}, auto_hit_conditions={}, critical_conditions={}), target_contextual=ContextualModifier(bonuses={}, min_constraints={}, max_constraints={}, advantage_conditions={}, auto_hit_conditions={}, critical_conditions={})), vulnerabilities=[], resistances=[], immunities=[], is_dead=False, total_hit_points=8, max_hit_points=8, current_hit_points=8, current_temporary_hit_points=0)"
      ]
     },
     "execution_count": 45,
     "metadata": {},
     "output_type": "execute_result"
    }
   ],
   "source": [
    "alfred.health"
   ]
  },
  {
   "cell_type": "code",
   "execution_count": 46,
   "metadata": {},
   "outputs": [
    {
     "data": {
      "text/plain": [
       "15"
      ]
     },
     "execution_count": 46,
     "metadata": {},
     "output_type": "execute_result"
    }
   ],
   "source": [
    "alfred.ac"
   ]
  },
  {
   "cell_type": "code",
   "execution_count": null,
   "metadata": {},
   "outputs": [],
   "source": []
  },
  {
   "cell_type": "code",
   "execution_count": 47,
   "metadata": {},
   "outputs": [],
   "source": [
    "attack = alfred.melee_attack(beatrice.id)"
   ]
  },
  {
   "cell_type": "code",
   "execution_count": 48,
   "metadata": {},
   "outputs": [
    {
     "name": "stdout",
     "output_type": "stream",
     "text": [
      "13\n",
      "False\n"
     ]
    }
   ],
   "source": [
    "print(attack.total_roll)\n",
    "print(attack.success)\n"
   ]
  },
  {
   "cell_type": "code",
   "execution_count": null,
   "metadata": {},
   "outputs": [],
   "source": []
  }
 ],
 "metadata": {
  "kernelspec": {
   "display_name": "Python 3",
   "language": "python",
   "name": "python3"
  },
  "language_info": {
   "codemirror_mode": {
    "name": "ipython",
    "version": 3
   },
   "file_extension": ".py",
   "mimetype": "text/x-python",
   "name": "python",
   "nbconvert_exporter": "python",
   "pygments_lexer": "ipython3",
   "version": "3.10.6"
  }
 },
 "nbformat": 4,
 "nbformat_minor": 2
}
