{
 "cells": [
  {
   "cell_type": "code",
   "execution_count": 55,
   "metadata": {},
   "outputs": [],
   "source": [
    "from dnd.monsters.goblin import create_goblin"
   ]
  },
  {
   "cell_type": "code",
   "execution_count": 56,
   "metadata": {},
   "outputs": [],
   "source": [
    "alfred = create_goblin(\"Alfred\")\n",
    "beatrice = create_goblin(\"Beatrice\")"
   ]
  },
  {
   "cell_type": "code",
   "execution_count": 57,
   "metadata": {},
   "outputs": [
    {
     "data": {
      "text/plain": [
       "Health(id='c5cc9d96-6457-4967-b5d9-96beb6f2f9b8', name='Health', description=None, owner_id='0753c126-027e-4bf2-a104-d731f0c3940c', hit_dice_value=6, hit_dice_count=2, max_hit_point_bonus=ModifiableValue(base_value=BaseValue(name='base_max_hp_bonus', base_value=0, min_value=None, max_value=None, advantage=<AdvantageStatus.NONE: 'None'>, auto_hit=<AutoHitStatus.NONE: 'None'>, critical=<CriticalStatus.NONE: 'None'>), self_static=StaticModifier(bonuses={}, min_constraints={}, max_constraints={}, advantage_conditions={}, auto_hit_conditions={}, critical_conditions={}), target_static=StaticModifier(bonuses={}, min_constraints={}, max_constraints={}, advantage_conditions={}, auto_hit_conditions={}, critical_conditions={}), self_contextual=ContextualModifier(bonuses={}, min_constraints={}, max_constraints={}, advantage_conditions={}, auto_hit_conditions={}, critical_conditions={}), target_contextual=ContextualModifier(bonuses={}, min_constraints={}, max_constraints={}, advantage_conditions={}, auto_hit_conditions={}, critical_conditions={})), damage_taken=0, temporary_hit_points=ModifiableValue(base_value=BaseValue(name='base_temporary_hp', base_value=0, min_value=None, max_value=None, advantage=<AdvantageStatus.NONE: 'None'>, auto_hit=<AutoHitStatus.NONE: 'None'>, critical=<CriticalStatus.NONE: 'None'>), self_static=StaticModifier(bonuses={}, min_constraints={}, max_constraints={}, advantage_conditions={}, auto_hit_conditions={}, critical_conditions={}), target_static=StaticModifier(bonuses={}, min_constraints={}, max_constraints={}, advantage_conditions={}, auto_hit_conditions={}, critical_conditions={}), self_contextual=ContextualModifier(bonuses={}, min_constraints={}, max_constraints={}, advantage_conditions={}, auto_hit_conditions={}, critical_conditions={}), target_contextual=ContextualModifier(bonuses={}, min_constraints={}, max_constraints={}, advantage_conditions={}, auto_hit_conditions={}, critical_conditions={})), temporary_hit_points_damage_taken=0, damage_reduction=ModifiableValue(base_value=BaseValue(name='base_damage_reduction', base_value=0, min_value=None, max_value=None, advantage=<AdvantageStatus.NONE: 'None'>, auto_hit=<AutoHitStatus.NONE: 'None'>, critical=<CriticalStatus.NONE: 'None'>), self_static=StaticModifier(bonuses={}, min_constraints={}, max_constraints={}, advantage_conditions={}, auto_hit_conditions={}, critical_conditions={}), target_static=StaticModifier(bonuses={}, min_constraints={}, max_constraints={}, advantage_conditions={}, auto_hit_conditions={}, critical_conditions={}), self_contextual=ContextualModifier(bonuses={}, min_constraints={}, max_constraints={}, advantage_conditions={}, auto_hit_conditions={}, critical_conditions={}), target_contextual=ContextualModifier(bonuses={}, min_constraints={}, max_constraints={}, advantage_conditions={}, auto_hit_conditions={}, critical_conditions={})), healing_bonus=ModifiableValue(base_value=BaseValue(name='base_healing_bonus', base_value=0, min_value=None, max_value=None, advantage=<AdvantageStatus.NONE: 'None'>, auto_hit=<AutoHitStatus.NONE: 'None'>, critical=<CriticalStatus.NONE: 'None'>), self_static=StaticModifier(bonuses={}, min_constraints={}, max_constraints={}, advantage_conditions={}, auto_hit_conditions={}, critical_conditions={}), target_static=StaticModifier(bonuses={}, min_constraints={}, max_constraints={}, advantage_conditions={}, auto_hit_conditions={}, critical_conditions={}), self_contextual=ContextualModifier(bonuses={}, min_constraints={}, max_constraints={}, advantage_conditions={}, auto_hit_conditions={}, critical_conditions={}), target_contextual=ContextualModifier(bonuses={}, min_constraints={}, max_constraints={}, advantage_conditions={}, auto_hit_conditions={}, critical_conditions={})), vulnerabilities=[], resistances=[], immunities=[], is_dead=False, total_hit_points=8, max_hit_points=8, current_hit_points=8, current_temporary_hit_points=0)"
      ]
     },
     "execution_count": 57,
     "metadata": {},
     "output_type": "execute_result"
    }
   ],
   "source": [
    "alfred.health"
   ]
  },
  {
   "cell_type": "code",
   "execution_count": 58,
   "metadata": {},
   "outputs": [
    {
     "data": {
      "text/plain": [
       "15"
      ]
     },
     "execution_count": 58,
     "metadata": {},
     "output_type": "execute_result"
    }
   ],
   "source": [
    "alfred.ac"
   ]
  },
  {
   "cell_type": "code",
   "execution_count": 59,
   "metadata": {},
   "outputs": [],
   "source": [
    "attack = alfred.perform_melee_attack(beatrice.id)"
   ]
  },
  {
   "cell_type": "code",
   "execution_count": 60,
   "metadata": {},
   "outputs": [
    {
     "name": "stdout",
     "output_type": "stream",
     "text": [
      "16\n",
      "True\n"
     ]
    }
   ],
   "source": [
    "print(attack.total_roll)\n",
    "print(attack.success)\n"
   ]
  },
  {
   "cell_type": "code",
   "execution_count": 61,
   "metadata": {},
   "outputs": [
    {
     "data": {
      "text/plain": [
       "'6c6bc62c-25f8-4290-bd14-a1a94bea8f88'"
      ]
     },
     "execution_count": 61,
     "metadata": {},
     "output_type": "execute_result"
    }
   ],
   "source": [
    "attack.target_entity_id"
   ]
  },
  {
   "cell_type": "code",
   "execution_count": 62,
   "metadata": {},
   "outputs": [
    {
     "data": {
      "text/plain": [
       "DamageRollOut(log_type='DamageRoll', id='d5a1f153-16c9-4801-a214-7ea050b05a7f', timestamp=datetime.datetime(2024, 7, 21, 13, 15, 42, 605892), source_entity_id=None, target_entity_id=None, damage_type=<DamageType.SLASHING: 'Slashing'>, dice_roll=SimpleRollOut(log_type='SimpleRoll', id='7bb3a896-f03b-4227-91b8-c8625ba34c53', timestamp=datetime.datetime(2024, 7, 21, 13, 15, 42, 605892), source_entity_id=None, target_entity_id=None, dice_count=1, dice_value=6, advantage_status=<AdvantageStatus.NONE: 'None'>, all_rolls=[4], chosen_rolls=[4], result=4), attack_roll=AttackRollOut(log_type='AttackRoll', id='5487b8fe-c3f0-4b03-b7ae-b5c830f0d647', timestamp=datetime.datetime(2024, 7, 21, 13, 15, 42, 558262), source_entity_id='0753c126-027e-4bf2-a104-d731f0c3940c', target_entity_id='6c6bc62c-25f8-4290-bd14-a1a94bea8f88', hand=<AttackHand.MELEE_RIGHT: 'melee_right'>, ability=<Ability.DEX: 'Dexterity'>, attack_type=<AttackType.MELEE_WEAPON: 'Melee Weapon'>, target_ac=ValueOut(log_type='ValueOut', id='42929d8c-b904-4db3-9ad9-5227d06f43fb', timestamp=datetime.datetime(2024, 7, 21, 13, 15, 42, 558262), source_entity_id='6c6bc62c-25f8-4290-bd14-a1a94bea8f88', target_entity_id='0753c126-027e-4bf2-a104-d731f0c3940c', bonuses=BonusTracker(bonuses={'base_armor_class': 15}, total_bonus=15), min_constraints=BonusTracker(bonuses={}, total_bonus=None), max_constraints=BonusTracker(bonuses={}, total_bonus=None), advantage_tracker=AdvantageTracker(active_sources={'base_armor_class': [<AdvantageStatus.NONE: 'None'>]}, counter=0, status=<AdvantageStatus.NONE: 'None'>), critical_tracker=CriticalTracker(critical_statuses={'base_armor_class': [<CriticalStatus.NONE: 'None'>]}, status=<CriticalStatus.NONE: 'None'>), auto_hit_tracker=AutoHitTracker(auto_hit_statuses={'base_armor_class': [<AutoHitStatus.NONE: 'None'>]}, status=<AutoHitStatus.NONE: 'None'>), total_bonus=15), total_target_ac=15, roll=TargetRollOut(log_type='TargetRoll', id='f4f306c1-e66b-481d-b2ac-da7674ad3194', timestamp=datetime.datetime(2024, 7, 21, 13, 15, 42, 558262), source_entity_id=None, target_entity_id=None, bonus=ValueOut(log_type='ValueOut', id='777cd7ef-1c6d-4f34-ba58-a071fe80c56f', timestamp=datetime.datetime(2024, 7, 21, 13, 15, 42, 558262), source_entity_id='6c6bc62c-25f8-4290-bd14-a1a94bea8f88', target_entity_id='0753c126-027e-4bf2-a104-d731f0c3940c', bonuses=BonusTracker(bonuses={'base_melee_hit_bonus': 0, 'base_dexterity': 2, 'base_weapon_attack_bonus': 0, 'base_proficiency_bonus': 2}, total_bonus=4), min_constraints=BonusTracker(bonuses={}, total_bonus=None), max_constraints=BonusTracker(bonuses={}, total_bonus=None), advantage_tracker=AdvantageTracker(active_sources={'base_melee_hit_bonus': [<AdvantageStatus.NONE: 'None'>], 'base_dexterity': [<AdvantageStatus.NONE: 'None'>], 'base_weapon_attack_bonus': [<AdvantageStatus.NONE: 'None'>], 'base_proficiency_bonus': [<AdvantageStatus.NONE: 'None'>]}, counter=0, status=<AdvantageStatus.NONE: 'None'>), critical_tracker=CriticalTracker(critical_statuses={'base_melee_hit_bonus': [<CriticalStatus.NONE: 'None'>], 'base_dexterity': [<CriticalStatus.NONE: 'None'>], 'base_weapon_attack_bonus': [<CriticalStatus.NONE: 'None'>], 'base_proficiency_bonus': [<CriticalStatus.NONE: 'None'>]}, status=<CriticalStatus.NONE: 'None'>), auto_hit_tracker=AutoHitTracker(auto_hit_statuses={'base_melee_hit_bonus': [<AutoHitStatus.NONE: 'None'>], 'base_dexterity': [<AutoHitStatus.NONE: 'None'>], 'base_weapon_attack_bonus': [<AutoHitStatus.NONE: 'None'>], 'base_proficiency_bonus': [<AutoHitStatus.NONE: 'None'>]}, status=<AutoHitStatus.NONE: 'None'>), total_bonus=4), target=15, base_roll=SimpleRollOut(log_type='SimpleRoll', id='4094da5e-868d-4bc1-9318-e8f2e9c272d2', timestamp=datetime.datetime(2024, 7, 21, 13, 15, 42, 558262), source_entity_id=None, target_entity_id=None, dice_count=1, dice_value=20, advantage_status=<AdvantageStatus.NONE: 'None'>, all_rolls=[12], chosen_rolls=[12], result=12), hit=<RollOutcome.HIT: 'Hit'>, hit_reason=<HitReason.NORMAL: 'Normal'>, critical_reason=None, total_roll=16, success=True), attack_bonus=AttackBonusOut(log_type='AttackBonus', id='2619fc34-658b-4a35-8782-941ba0ad6baa', timestamp=datetime.datetime(2024, 7, 21, 13, 15, 42, 558262), source_entity_id=None, target_entity_id=None, hand=<AttackHand.MELEE_RIGHT: 'melee_right'>, weapon_bonus=WeaponAttackBonusOut(log_type='WeaponattackBonus', id='7d1dfeb0-e25e-4904-9750-bfa0ae9a8ba9', timestamp=datetime.datetime(2024, 7, 21, 13, 15, 42, 558262), source_entity_id=None, target_entity_id=None, total_weapon_bonus=ValueOut(log_type='ValueOut', id='30afc420-890d-4f75-a6eb-fb640b6d4257', timestamp=datetime.datetime(2024, 7, 21, 13, 15, 42, 558262), source_entity_id='0753c126-027e-4bf2-a104-d731f0c3940c', target_entity_id='6c6bc62c-25f8-4290-bd14-a1a94bea8f88', bonuses=BonusTracker(bonuses={'base_weapon_attack_bonus': 0, 'base_melee_hit_bonus': 0}, total_bonus=0), min_constraints=BonusTracker(bonuses={}, total_bonus=None), max_constraints=BonusTracker(bonuses={}, total_bonus=None), advantage_tracker=AdvantageTracker(active_sources={'base_weapon_attack_bonus': [<AdvantageStatus.NONE: 'None'>], 'base_melee_hit_bonus': [<AdvantageStatus.NONE: 'None'>]}, counter=0, status=<AdvantageStatus.NONE: 'None'>), critical_tracker=CriticalTracker(critical_statuses={'base_weapon_attack_bonus': [<CriticalStatus.NONE: 'None'>], 'base_melee_hit_bonus': [<CriticalStatus.NONE: 'None'>]}, status=<CriticalStatus.NONE: 'None'>), auto_hit_tracker=AutoHitTracker(auto_hit_statuses={'base_weapon_attack_bonus': [<AutoHitStatus.NONE: 'None'>], 'base_melee_hit_bonus': [<AutoHitStatus.NONE: 'None'>]}, status=<AutoHitStatus.NONE: 'None'>), total_bonus=0), attacker_melee_bonus=ValueOut(log_type='ValueOut', id='ab23c5a3-141b-449a-838e-f622665a9156', timestamp=datetime.datetime(2024, 7, 21, 13, 15, 42, 558262), source_entity_id='0753c126-027e-4bf2-a104-d731f0c3940c', target_entity_id='6c6bc62c-25f8-4290-bd14-a1a94bea8f88', bonuses=BonusTracker(bonuses={'base_melee_hit_bonus': 0}, total_bonus=0), min_constraints=BonusTracker(bonuses={}, total_bonus=None), max_constraints=BonusTracker(bonuses={}, total_bonus=None), advantage_tracker=AdvantageTracker(active_sources={'base_melee_hit_bonus': [<AdvantageStatus.NONE: 'None'>]}, counter=0, status=<AdvantageStatus.NONE: 'None'>), critical_tracker=CriticalTracker(critical_statuses={'base_melee_hit_bonus': [<CriticalStatus.NONE: 'None'>]}, status=<CriticalStatus.NONE: 'None'>), auto_hit_tracker=AutoHitTracker(auto_hit_statuses={'base_melee_hit_bonus': [<AutoHitStatus.NONE: 'None'>]}, status=<AutoHitStatus.NONE: 'None'>), total_bonus=0), attacker_ranged_bonus=None, weapon_melee_bonus=ValueOut(log_type='ValueOut', id='5ede9841-6433-4856-844f-5d5b0f5d4bc3', timestamp=datetime.datetime(2024, 7, 21, 13, 15, 42, 558262), source_entity_id='0753c126-027e-4bf2-a104-d731f0c3940c', target_entity_id='6c6bc62c-25f8-4290-bd14-a1a94bea8f88', bonuses=BonusTracker(bonuses={'base_weapon_attack_bonus': 0}, total_bonus=0), min_constraints=BonusTracker(bonuses={}, total_bonus=None), max_constraints=BonusTracker(bonuses={}, total_bonus=None), advantage_tracker=AdvantageTracker(active_sources={'base_weapon_attack_bonus': [<AdvantageStatus.NONE: 'None'>]}, counter=0, status=<AdvantageStatus.NONE: 'None'>), critical_tracker=CriticalTracker(critical_statuses={'base_weapon_attack_bonus': [<CriticalStatus.NONE: 'None'>]}, status=<CriticalStatus.NONE: 'None'>), auto_hit_tracker=AutoHitTracker(auto_hit_statuses={'base_weapon_attack_bonus': [<AutoHitStatus.NONE: 'None'>]}, status=<AutoHitStatus.NONE: 'None'>), total_bonus=0), weapon_ranged_bonus=None, spell_bonus=None), proficiency_bonus=ValueOut(log_type='ValueOut', id='92f197c9-5312-4c36-b158-cd39878ad939', timestamp=datetime.datetime(2024, 7, 21, 13, 15, 42, 558262), source_entity_id='6c6bc62c-25f8-4290-bd14-a1a94bea8f88', target_entity_id=None, bonuses=BonusTracker(bonuses={'base_proficiency_bonus': 2}, total_bonus=2), min_constraints=BonusTracker(bonuses={}, total_bonus=None), max_constraints=BonusTracker(bonuses={}, total_bonus=None), advantage_tracker=AdvantageTracker(active_sources={'base_proficiency_bonus': [<AdvantageStatus.NONE: 'None'>]}, counter=0, status=<AdvantageStatus.NONE: 'None'>), critical_tracker=CriticalTracker(critical_statuses={'base_proficiency_bonus': [<CriticalStatus.NONE: 'None'>]}, status=<CriticalStatus.NONE: 'None'>), auto_hit_tracker=AutoHitTracker(auto_hit_statuses={'base_proficiency_bonus': [<AutoHitStatus.NONE: 'None'>]}, status=<AutoHitStatus.NONE: 'None'>), total_bonus=2), ability_bonus=ValueOut(log_type='ValueOut', id='4e430e4d-f851-4631-9db1-edd34d0f4477', timestamp=datetime.datetime(2024, 7, 21, 13, 15, 42, 558262), source_entity_id='0753c126-027e-4bf2-a104-d731f0c3940c', target_entity_id='6c6bc62c-25f8-4290-bd14-a1a94bea8f88', bonuses=BonusTracker(bonuses={'base_dexterity': 14}, total_bonus=14), min_constraints=BonusTracker(bonuses={}, total_bonus=None), max_constraints=BonusTracker(bonuses={}, total_bonus=None), advantage_tracker=AdvantageTracker(active_sources={'base_dexterity': [<AdvantageStatus.NONE: 'None'>]}, counter=0, status=<AdvantageStatus.NONE: 'None'>), critical_tracker=CriticalTracker(critical_statuses={'base_dexterity': [<CriticalStatus.NONE: 'None'>]}, status=<CriticalStatus.NONE: 'None'>), auto_hit_tracker=AutoHitTracker(auto_hit_statuses={'base_dexterity': [<AutoHitStatus.NONE: 'None'>]}, status=<AutoHitStatus.NONE: 'None'>), total_bonus=14), total_bonus=ValueOut(log_type='ValueOut', id='777cd7ef-1c6d-4f34-ba58-a071fe80c56f', timestamp=datetime.datetime(2024, 7, 21, 13, 15, 42, 558262), source_entity_id='6c6bc62c-25f8-4290-bd14-a1a94bea8f88', target_entity_id='0753c126-027e-4bf2-a104-d731f0c3940c', bonuses=BonusTracker(bonuses={'base_melee_hit_bonus': 0, 'base_dexterity': 2, 'base_weapon_attack_bonus': 0, 'base_proficiency_bonus': 2}, total_bonus=4), min_constraints=BonusTracker(bonuses={}, total_bonus=None), max_constraints=BonusTracker(bonuses={}, total_bonus=None), advantage_tracker=AdvantageTracker(active_sources={'base_melee_hit_bonus': [<AdvantageStatus.NONE: 'None'>], 'base_dexterity': [<AdvantageStatus.NONE: 'None'>], 'base_weapon_attack_bonus': [<AdvantageStatus.NONE: 'None'>], 'base_proficiency_bonus': [<AdvantageStatus.NONE: 'None'>]}, counter=0, status=<AdvantageStatus.NONE: 'None'>), critical_tracker=CriticalTracker(critical_statuses={'base_melee_hit_bonus': [<CriticalStatus.NONE: 'None'>], 'base_dexterity': [<CriticalStatus.NONE: 'None'>], 'base_weapon_attack_bonus': [<CriticalStatus.NONE: 'None'>], 'base_proficiency_bonus': [<CriticalStatus.NONE: 'None'>]}, status=<CriticalStatus.NONE: 'None'>), auto_hit_tracker=AutoHitTracker(auto_hit_statuses={'base_melee_hit_bonus': [<AutoHitStatus.NONE: 'None'>], 'base_dexterity': [<AutoHitStatus.NONE: 'None'>], 'base_weapon_attack_bonus': [<AutoHitStatus.NONE: 'None'>], 'base_proficiency_bonus': [<AutoHitStatus.NONE: 'None'>]}, status=<AutoHitStatus.NONE: 'None'>), total_bonus=4), target_to_self_bonus=ValueOut(log_type='ValueOut', id='596e822f-7b06-4d59-a3e1-59969c8a8e00', timestamp=datetime.datetime(2024, 7, 21, 13, 15, 42, 558262), source_entity_id='6c6bc62c-25f8-4290-bd14-a1a94bea8f88', target_entity_id='0753c126-027e-4bf2-a104-d731f0c3940c', bonuses=BonusTracker(bonuses={}, total_bonus=None), min_constraints=BonusTracker(bonuses={}, total_bonus=None), max_constraints=BonusTracker(bonuses={}, total_bonus=None), advantage_tracker=AdvantageTracker(active_sources={}, counter=0, status=<AdvantageStatus.NONE: 'None'>), critical_tracker=CriticalTracker(critical_statuses={}, status=<CriticalStatus.NONE: 'None'>), auto_hit_tracker=AutoHitTracker(auto_hit_statuses={}, status=<AutoHitStatus.NONE: 'None'>), total_bonus=None)), success=True, total_roll=16), damage_bonus=ValueOut(log_type='ValueOut', id='9a68db2f-452c-44a8-8e7b-9a617e4b2dd7', timestamp=datetime.datetime(2024, 7, 21, 13, 15, 42, 605892), source_entity_id='0753c126-027e-4bf2-a104-d731f0c3940c', target_entity_id='6c6bc62c-25f8-4290-bd14-a1a94bea8f88', bonuses=BonusTracker(bonuses={'base_melee_damage_bonus': 0, 'base_dexterity': 2, 'base_weapon_damage_bonus': 0}, total_bonus=2), min_constraints=BonusTracker(bonuses={}, total_bonus=None), max_constraints=BonusTracker(bonuses={}, total_bonus=None), advantage_tracker=AdvantageTracker(active_sources={'base_melee_damage_bonus': [<AdvantageStatus.NONE: 'None'>], 'base_dexterity': [<AdvantageStatus.NONE: 'None'>], 'base_weapon_damage_bonus': [<AdvantageStatus.NONE: 'None'>]}, counter=0, status=<AdvantageStatus.NONE: 'None'>), critical_tracker=CriticalTracker(critical_statuses={'base_melee_damage_bonus': [<CriticalStatus.NONE: 'None'>], 'base_dexterity': [<CriticalStatus.NONE: 'None'>], 'base_weapon_damage_bonus': [<CriticalStatus.NONE: 'None'>]}, status=<CriticalStatus.NONE: 'None'>), auto_hit_tracker=AutoHitTracker(auto_hit_statuses={'base_melee_damage_bonus': [<AutoHitStatus.NONE: 'None'>], 'base_dexterity': [<AutoHitStatus.NONE: 'None'>], 'base_weapon_damage_bonus': [<AutoHitStatus.NONE: 'None'>]}, status=<AutoHitStatus.NONE: 'None'>), total_bonus=2), total_damage=6)"
      ]
     },
     "execution_count": 62,
     "metadata": {},
     "output_type": "execute_result"
    }
   ],
   "source": [
    "alfred.roll_damage(attack)"
   ]
  },
  {
   "cell_type": "code",
   "execution_count": 63,
   "metadata": {},
   "outputs": [
    {
     "data": {
      "text/plain": [
       "DamageRollOut(log_type='DamageRoll', id='36062271-fd78-4cf8-bc92-76f03b84b3d9', timestamp=datetime.datetime(2024, 7, 21, 13, 15, 42, 623925), source_entity_id=None, target_entity_id=None, damage_type=<DamageType.SLASHING: 'Slashing'>, dice_roll=SimpleRollOut(log_type='SimpleRoll', id='f04f0ca6-88b2-4b1f-8c89-dff4f03ea9f9', timestamp=datetime.datetime(2024, 7, 21, 13, 15, 42, 623925), source_entity_id=None, target_entity_id=None, dice_count=1, dice_value=6, advantage_status=<AdvantageStatus.NONE: 'None'>, all_rolls=[1], chosen_rolls=[1], result=1), attack_roll=AttackRollOut(log_type='AttackRoll', id='d59932d5-99b4-46fa-9249-b5877dc5e5cf', timestamp=datetime.datetime(2024, 7, 21, 13, 15, 42, 623424), source_entity_id='0753c126-027e-4bf2-a104-d731f0c3940c', target_entity_id='6c6bc62c-25f8-4290-bd14-a1a94bea8f88', hand=<AttackHand.MELEE_RIGHT: 'melee_right'>, ability=<Ability.DEX: 'Dexterity'>, attack_type=<AttackType.MELEE_WEAPON: 'Melee Weapon'>, target_ac=ValueOut(log_type='ValueOut', id='f9f54dbe-bc4e-4073-baa3-95c0f9cc9f05', timestamp=datetime.datetime(2024, 7, 21, 13, 15, 42, 621925), source_entity_id='6c6bc62c-25f8-4290-bd14-a1a94bea8f88', target_entity_id='0753c126-027e-4bf2-a104-d731f0c3940c', bonuses=BonusTracker(bonuses={'base_armor_class': 15}, total_bonus=15), min_constraints=BonusTracker(bonuses={}, total_bonus=None), max_constraints=BonusTracker(bonuses={}, total_bonus=None), advantage_tracker=AdvantageTracker(active_sources={'base_armor_class': [<AdvantageStatus.NONE: 'None'>]}, counter=0, status=<AdvantageStatus.NONE: 'None'>), critical_tracker=CriticalTracker(critical_statuses={'base_armor_class': [<CriticalStatus.NONE: 'None'>]}, status=<CriticalStatus.NONE: 'None'>), auto_hit_tracker=AutoHitTracker(auto_hit_statuses={'base_armor_class': [<AutoHitStatus.NONE: 'None'>]}, status=<AutoHitStatus.NONE: 'None'>), total_bonus=15), total_target_ac=15, roll=TargetRollOut(log_type='TargetRoll', id='eea9f53b-c849-4923-8b7e-e02e3f04d132', timestamp=datetime.datetime(2024, 7, 21, 13, 15, 42, 622923), source_entity_id=None, target_entity_id=None, bonus=ValueOut(log_type='ValueOut', id='389e40b5-40e7-4061-807a-ad1fc58f9ae3', timestamp=datetime.datetime(2024, 7, 21, 13, 15, 42, 622923), source_entity_id='6c6bc62c-25f8-4290-bd14-a1a94bea8f88', target_entity_id='0753c126-027e-4bf2-a104-d731f0c3940c', bonuses=BonusTracker(bonuses={'base_melee_hit_bonus': 0, 'base_dexterity': 2, 'base_weapon_attack_bonus': 0, 'base_proficiency_bonus': 2}, total_bonus=4), min_constraints=BonusTracker(bonuses={}, total_bonus=None), max_constraints=BonusTracker(bonuses={}, total_bonus=None), advantage_tracker=AdvantageTracker(active_sources={'base_melee_hit_bonus': [<AdvantageStatus.NONE: 'None'>], 'base_dexterity': [<AdvantageStatus.NONE: 'None'>], 'base_weapon_attack_bonus': [<AdvantageStatus.NONE: 'None'>], 'base_proficiency_bonus': [<AdvantageStatus.NONE: 'None'>]}, counter=0, status=<AdvantageStatus.NONE: 'None'>), critical_tracker=CriticalTracker(critical_statuses={'base_melee_hit_bonus': [<CriticalStatus.NONE: 'None'>], 'base_dexterity': [<CriticalStatus.NONE: 'None'>], 'base_weapon_attack_bonus': [<CriticalStatus.NONE: 'None'>], 'base_proficiency_bonus': [<CriticalStatus.NONE: 'None'>]}, status=<CriticalStatus.NONE: 'None'>), auto_hit_tracker=AutoHitTracker(auto_hit_statuses={'base_melee_hit_bonus': [<AutoHitStatus.NONE: 'None'>], 'base_dexterity': [<AutoHitStatus.NONE: 'None'>], 'base_weapon_attack_bonus': [<AutoHitStatus.NONE: 'None'>], 'base_proficiency_bonus': [<AutoHitStatus.NONE: 'None'>]}, status=<AutoHitStatus.NONE: 'None'>), total_bonus=4), target=15, base_roll=SimpleRollOut(log_type='SimpleRoll', id='ad59a32b-7b15-4e58-bf24-0ddb5d58770e', timestamp=datetime.datetime(2024, 7, 21, 13, 15, 42, 622923), source_entity_id=None, target_entity_id=None, dice_count=1, dice_value=20, advantage_status=<AdvantageStatus.NONE: 'None'>, all_rolls=[13], chosen_rolls=[13], result=13), hit=<RollOutcome.HIT: 'Hit'>, hit_reason=<HitReason.NORMAL: 'Normal'>, critical_reason=None, total_roll=17, success=True), attack_bonus=AttackBonusOut(log_type='AttackBonus', id='4702ef56-8b13-44a5-9cb4-13a55ec27783', timestamp=datetime.datetime(2024, 7, 21, 13, 15, 42, 622923), source_entity_id=None, target_entity_id=None, hand=<AttackHand.MELEE_RIGHT: 'melee_right'>, weapon_bonus=WeaponAttackBonusOut(log_type='WeaponattackBonus', id='a0679671-0845-44e2-9a83-d2eacb2e3d13', timestamp=datetime.datetime(2024, 7, 21, 13, 15, 42, 622421), source_entity_id=None, target_entity_id=None, total_weapon_bonus=ValueOut(log_type='ValueOut', id='b3bb666f-7be3-4cc3-a54a-4a6a7c4c1930', timestamp=datetime.datetime(2024, 7, 21, 13, 15, 42, 622421), source_entity_id='0753c126-027e-4bf2-a104-d731f0c3940c', target_entity_id='6c6bc62c-25f8-4290-bd14-a1a94bea8f88', bonuses=BonusTracker(bonuses={'base_weapon_attack_bonus': 0, 'base_melee_hit_bonus': 0}, total_bonus=0), min_constraints=BonusTracker(bonuses={}, total_bonus=None), max_constraints=BonusTracker(bonuses={}, total_bonus=None), advantage_tracker=AdvantageTracker(active_sources={'base_weapon_attack_bonus': [<AdvantageStatus.NONE: 'None'>], 'base_melee_hit_bonus': [<AdvantageStatus.NONE: 'None'>]}, counter=0, status=<AdvantageStatus.NONE: 'None'>), critical_tracker=CriticalTracker(critical_statuses={'base_weapon_attack_bonus': [<CriticalStatus.NONE: 'None'>], 'base_melee_hit_bonus': [<CriticalStatus.NONE: 'None'>]}, status=<CriticalStatus.NONE: 'None'>), auto_hit_tracker=AutoHitTracker(auto_hit_statuses={'base_weapon_attack_bonus': [<AutoHitStatus.NONE: 'None'>], 'base_melee_hit_bonus': [<AutoHitStatus.NONE: 'None'>]}, status=<AutoHitStatus.NONE: 'None'>), total_bonus=0), attacker_melee_bonus=ValueOut(log_type='ValueOut', id='e96b0976-2ee2-4e75-bb4d-dd0201dc6c32', timestamp=datetime.datetime(2024, 7, 21, 13, 15, 42, 622421), source_entity_id='0753c126-027e-4bf2-a104-d731f0c3940c', target_entity_id='6c6bc62c-25f8-4290-bd14-a1a94bea8f88', bonuses=BonusTracker(bonuses={'base_melee_hit_bonus': 0}, total_bonus=0), min_constraints=BonusTracker(bonuses={}, total_bonus=None), max_constraints=BonusTracker(bonuses={}, total_bonus=None), advantage_tracker=AdvantageTracker(active_sources={'base_melee_hit_bonus': [<AdvantageStatus.NONE: 'None'>]}, counter=0, status=<AdvantageStatus.NONE: 'None'>), critical_tracker=CriticalTracker(critical_statuses={'base_melee_hit_bonus': [<CriticalStatus.NONE: 'None'>]}, status=<CriticalStatus.NONE: 'None'>), auto_hit_tracker=AutoHitTracker(auto_hit_statuses={'base_melee_hit_bonus': [<AutoHitStatus.NONE: 'None'>]}, status=<AutoHitStatus.NONE: 'None'>), total_bonus=0), attacker_ranged_bonus=None, weapon_melee_bonus=ValueOut(log_type='ValueOut', id='b4e9de8e-22a4-463b-afa1-62c48ddbcaa9', timestamp=datetime.datetime(2024, 7, 21, 13, 15, 42, 622421), source_entity_id='0753c126-027e-4bf2-a104-d731f0c3940c', target_entity_id='6c6bc62c-25f8-4290-bd14-a1a94bea8f88', bonuses=BonusTracker(bonuses={'base_weapon_attack_bonus': 0}, total_bonus=0), min_constraints=BonusTracker(bonuses={}, total_bonus=None), max_constraints=BonusTracker(bonuses={}, total_bonus=None), advantage_tracker=AdvantageTracker(active_sources={'base_weapon_attack_bonus': [<AdvantageStatus.NONE: 'None'>]}, counter=0, status=<AdvantageStatus.NONE: 'None'>), critical_tracker=CriticalTracker(critical_statuses={'base_weapon_attack_bonus': [<CriticalStatus.NONE: 'None'>]}, status=<CriticalStatus.NONE: 'None'>), auto_hit_tracker=AutoHitTracker(auto_hit_statuses={'base_weapon_attack_bonus': [<AutoHitStatus.NONE: 'None'>]}, status=<AutoHitStatus.NONE: 'None'>), total_bonus=0), weapon_ranged_bonus=None, spell_bonus=None), proficiency_bonus=ValueOut(log_type='ValueOut', id='4f30b043-3313-42b2-bcba-0ac3c07d0411', timestamp=datetime.datetime(2024, 7, 21, 13, 15, 42, 621925), source_entity_id='6c6bc62c-25f8-4290-bd14-a1a94bea8f88', target_entity_id=None, bonuses=BonusTracker(bonuses={'base_proficiency_bonus': 2}, total_bonus=2), min_constraints=BonusTracker(bonuses={}, total_bonus=None), max_constraints=BonusTracker(bonuses={}, total_bonus=None), advantage_tracker=AdvantageTracker(active_sources={'base_proficiency_bonus': [<AdvantageStatus.NONE: 'None'>]}, counter=0, status=<AdvantageStatus.NONE: 'None'>), critical_tracker=CriticalTracker(critical_statuses={'base_proficiency_bonus': [<CriticalStatus.NONE: 'None'>]}, status=<CriticalStatus.NONE: 'None'>), auto_hit_tracker=AutoHitTracker(auto_hit_statuses={'base_proficiency_bonus': [<AutoHitStatus.NONE: 'None'>]}, status=<AutoHitStatus.NONE: 'None'>), total_bonus=2), ability_bonus=ValueOut(log_type='ValueOut', id='e1a3b3b2-52f2-4fbc-85b1-aac8687dcf24', timestamp=datetime.datetime(2024, 7, 21, 13, 15, 42, 622923), source_entity_id='0753c126-027e-4bf2-a104-d731f0c3940c', target_entity_id='6c6bc62c-25f8-4290-bd14-a1a94bea8f88', bonuses=BonusTracker(bonuses={'base_dexterity': 14}, total_bonus=14), min_constraints=BonusTracker(bonuses={}, total_bonus=None), max_constraints=BonusTracker(bonuses={}, total_bonus=None), advantage_tracker=AdvantageTracker(active_sources={'base_dexterity': [<AdvantageStatus.NONE: 'None'>]}, counter=0, status=<AdvantageStatus.NONE: 'None'>), critical_tracker=CriticalTracker(critical_statuses={'base_dexterity': [<CriticalStatus.NONE: 'None'>]}, status=<CriticalStatus.NONE: 'None'>), auto_hit_tracker=AutoHitTracker(auto_hit_statuses={'base_dexterity': [<AutoHitStatus.NONE: 'None'>]}, status=<AutoHitStatus.NONE: 'None'>), total_bonus=14), total_bonus=ValueOut(log_type='ValueOut', id='389e40b5-40e7-4061-807a-ad1fc58f9ae3', timestamp=datetime.datetime(2024, 7, 21, 13, 15, 42, 622923), source_entity_id='6c6bc62c-25f8-4290-bd14-a1a94bea8f88', target_entity_id='0753c126-027e-4bf2-a104-d731f0c3940c', bonuses=BonusTracker(bonuses={'base_melee_hit_bonus': 0, 'base_dexterity': 2, 'base_weapon_attack_bonus': 0, 'base_proficiency_bonus': 2}, total_bonus=4), min_constraints=BonusTracker(bonuses={}, total_bonus=None), max_constraints=BonusTracker(bonuses={}, total_bonus=None), advantage_tracker=AdvantageTracker(active_sources={'base_melee_hit_bonus': [<AdvantageStatus.NONE: 'None'>], 'base_dexterity': [<AdvantageStatus.NONE: 'None'>], 'base_weapon_attack_bonus': [<AdvantageStatus.NONE: 'None'>], 'base_proficiency_bonus': [<AdvantageStatus.NONE: 'None'>]}, counter=0, status=<AdvantageStatus.NONE: 'None'>), critical_tracker=CriticalTracker(critical_statuses={'base_melee_hit_bonus': [<CriticalStatus.NONE: 'None'>], 'base_dexterity': [<CriticalStatus.NONE: 'None'>], 'base_weapon_attack_bonus': [<CriticalStatus.NONE: 'None'>], 'base_proficiency_bonus': [<CriticalStatus.NONE: 'None'>]}, status=<CriticalStatus.NONE: 'None'>), auto_hit_tracker=AutoHitTracker(auto_hit_statuses={'base_melee_hit_bonus': [<AutoHitStatus.NONE: 'None'>], 'base_dexterity': [<AutoHitStatus.NONE: 'None'>], 'base_weapon_attack_bonus': [<AutoHitStatus.NONE: 'None'>], 'base_proficiency_bonus': [<AutoHitStatus.NONE: 'None'>]}, status=<AutoHitStatus.NONE: 'None'>), total_bonus=4), target_to_self_bonus=ValueOut(log_type='ValueOut', id='7b08f452-133f-4577-95e5-561c62656ed5', timestamp=datetime.datetime(2024, 7, 21, 13, 15, 42, 621925), source_entity_id='6c6bc62c-25f8-4290-bd14-a1a94bea8f88', target_entity_id='0753c126-027e-4bf2-a104-d731f0c3940c', bonuses=BonusTracker(bonuses={}, total_bonus=None), min_constraints=BonusTracker(bonuses={}, total_bonus=None), max_constraints=BonusTracker(bonuses={}, total_bonus=None), advantage_tracker=AdvantageTracker(active_sources={}, counter=0, status=<AdvantageStatus.NONE: 'None'>), critical_tracker=CriticalTracker(critical_statuses={}, status=<CriticalStatus.NONE: 'None'>), auto_hit_tracker=AutoHitTracker(auto_hit_statuses={}, status=<AutoHitStatus.NONE: 'None'>), total_bonus=None)), success=True, total_roll=17), damage_bonus=ValueOut(log_type='ValueOut', id='2ba703b1-f205-4b27-8f7e-65966773247e', timestamp=datetime.datetime(2024, 7, 21, 13, 15, 42, 623925), source_entity_id='0753c126-027e-4bf2-a104-d731f0c3940c', target_entity_id='6c6bc62c-25f8-4290-bd14-a1a94bea8f88', bonuses=BonusTracker(bonuses={'base_melee_damage_bonus': 0, 'base_dexterity': 2, 'base_weapon_damage_bonus': 0}, total_bonus=2), min_constraints=BonusTracker(bonuses={}, total_bonus=None), max_constraints=BonusTracker(bonuses={}, total_bonus=None), advantage_tracker=AdvantageTracker(active_sources={'base_melee_damage_bonus': [<AdvantageStatus.NONE: 'None'>], 'base_dexterity': [<AdvantageStatus.NONE: 'None'>], 'base_weapon_damage_bonus': [<AdvantageStatus.NONE: 'None'>]}, counter=0, status=<AdvantageStatus.NONE: 'None'>), critical_tracker=CriticalTracker(critical_statuses={'base_melee_damage_bonus': [<CriticalStatus.NONE: 'None'>], 'base_dexterity': [<CriticalStatus.NONE: 'None'>], 'base_weapon_damage_bonus': [<CriticalStatus.NONE: 'None'>]}, status=<CriticalStatus.NONE: 'None'>), auto_hit_tracker=AutoHitTracker(auto_hit_statuses={'base_melee_damage_bonus': [<AutoHitStatus.NONE: 'None'>], 'base_dexterity': [<AutoHitStatus.NONE: 'None'>], 'base_weapon_damage_bonus': [<AutoHitStatus.NONE: 'None'>]}, status=<AutoHitStatus.NONE: 'None'>), total_bonus=2), total_damage=3)"
      ]
     },
     "execution_count": 63,
     "metadata": {},
     "output_type": "execute_result"
    },
    {
     "ename": "",
     "evalue": "",
     "output_type": "error",
     "traceback": [
      "\u001b[1;31mThe Kernel crashed while executing code in the current cell or a previous cell. \n",
      "\u001b[1;31mPlease review the code in the cell(s) to identify a possible cause of the failure. \n",
      "\u001b[1;31mClick <a href='https://aka.ms/vscodeJupyterKernelCrash'>here</a> for more info. \n",
      "\u001b[1;31mView Jupyter <a href='command:jupyter.viewOutput'>log</a> for further details."
     ]
    }
   ],
   "source": [
    "attack = alfred.melee_attack(beatrice.id)\n",
    "attack"
   ]
  }
 ],
 "metadata": {
  "kernelspec": {
   "display_name": "Python 3",
   "language": "python",
   "name": "python3"
  },
  "language_info": {
   "codemirror_mode": {
    "name": "ipython",
    "version": 3
   },
   "file_extension": ".py",
   "mimetype": "text/x-python",
   "name": "python",
   "nbconvert_exporter": "python",
   "pygments_lexer": "ipython3",
   "version": "3.10.6"
  }
 },
 "nbformat": 4,
 "nbformat_minor": 2
}
