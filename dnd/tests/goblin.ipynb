{
 "cells": [
  {
   "cell_type": "code",
   "execution_count": 1,
   "metadata": {},
   "outputs": [],
   "source": [
    "from dnd.monsters.goblin import create_goblin"
   ]
  },
  {
   "cell_type": "code",
   "execution_count": 2,
   "metadata": {},
   "outputs": [],
   "source": [
    "alfred = create_goblin(\"Alfred\")\n",
    "beatrice = create_goblin(\"Beatrice\")"
   ]
  },
  {
   "cell_type": "code",
   "execution_count": 3,
   "metadata": {},
   "outputs": [
    {
     "data": {
      "text/plain": [
       "Health(id='4308d695-c968-4d3c-97bf-0825e78ae04a', name='Health', description=None, owner_id='45945806-1876-4965-98d2-a7fc7004faed', hit_dice_value=6, hit_dice_count=2, max_hit_point_bonus=ModifiableValue(base_value=BaseValue(name='base_max_hp_bonus', base_value=0, min_value=None, max_value=None, advantage=<AdvantageStatus.NONE: 'None'>, auto_hit=<AutoHitStatus.NONE: 'None'>, critical=<CriticalStatus.NONE: 'None'>), self_static=StaticModifier(bonuses={}, min_constraints={}, max_constraints={}, advantage_conditions={}, auto_hit_conditions={}, critical_conditions={}), target_static=StaticModifier(bonuses={}, min_constraints={}, max_constraints={}, advantage_conditions={}, auto_hit_conditions={}, critical_conditions={}), self_contextual=ContextualModifier(bonuses={}, min_constraints={}, max_constraints={}, advantage_conditions={}, auto_hit_conditions={}, critical_conditions={}), target_contextual=ContextualModifier(bonuses={}, min_constraints={}, max_constraints={}, advantage_conditions={}, auto_hit_conditions={}, critical_conditions={})), damage_taken=0, temporary_hit_points=ModifiableValue(base_value=BaseValue(name='base_temporary_hp', base_value=0, min_value=None, max_value=None, advantage=<AdvantageStatus.NONE: 'None'>, auto_hit=<AutoHitStatus.NONE: 'None'>, critical=<CriticalStatus.NONE: 'None'>), self_static=StaticModifier(bonuses={}, min_constraints={}, max_constraints={}, advantage_conditions={}, auto_hit_conditions={}, critical_conditions={}), target_static=StaticModifier(bonuses={}, min_constraints={}, max_constraints={}, advantage_conditions={}, auto_hit_conditions={}, critical_conditions={}), self_contextual=ContextualModifier(bonuses={}, min_constraints={}, max_constraints={}, advantage_conditions={}, auto_hit_conditions={}, critical_conditions={}), target_contextual=ContextualModifier(bonuses={}, min_constraints={}, max_constraints={}, advantage_conditions={}, auto_hit_conditions={}, critical_conditions={})), temporary_hit_points_damage_taken=0, damage_reduction=ModifiableValue(base_value=BaseValue(name='base_damage_reduction', base_value=0, min_value=None, max_value=None, advantage=<AdvantageStatus.NONE: 'None'>, auto_hit=<AutoHitStatus.NONE: 'None'>, critical=<CriticalStatus.NONE: 'None'>), self_static=StaticModifier(bonuses={}, min_constraints={}, max_constraints={}, advantage_conditions={}, auto_hit_conditions={}, critical_conditions={}), target_static=StaticModifier(bonuses={}, min_constraints={}, max_constraints={}, advantage_conditions={}, auto_hit_conditions={}, critical_conditions={}), self_contextual=ContextualModifier(bonuses={}, min_constraints={}, max_constraints={}, advantage_conditions={}, auto_hit_conditions={}, critical_conditions={}), target_contextual=ContextualModifier(bonuses={}, min_constraints={}, max_constraints={}, advantage_conditions={}, auto_hit_conditions={}, critical_conditions={})), healing_bonus=ModifiableValue(base_value=BaseValue(name='base_healing_bonus', base_value=0, min_value=None, max_value=None, advantage=<AdvantageStatus.NONE: 'None'>, auto_hit=<AutoHitStatus.NONE: 'None'>, critical=<CriticalStatus.NONE: 'None'>), self_static=StaticModifier(bonuses={}, min_constraints={}, max_constraints={}, advantage_conditions={}, auto_hit_conditions={}, critical_conditions={}), target_static=StaticModifier(bonuses={}, min_constraints={}, max_constraints={}, advantage_conditions={}, auto_hit_conditions={}, critical_conditions={}), self_contextual=ContextualModifier(bonuses={}, min_constraints={}, max_constraints={}, advantage_conditions={}, auto_hit_conditions={}, critical_conditions={}), target_contextual=ContextualModifier(bonuses={}, min_constraints={}, max_constraints={}, advantage_conditions={}, auto_hit_conditions={}, critical_conditions={})), vulnerabilities=[], resistances=[], immunities=[], is_dead=False, total_hit_points=8, max_hit_points=8, current_hit_points=8, current_temporary_hit_points=0)"
      ]
     },
     "execution_count": 3,
     "metadata": {},
     "output_type": "execute_result"
    }
   ],
   "source": [
    "alfred.health"
   ]
  },
  {
   "cell_type": "code",
   "execution_count": 4,
   "metadata": {},
   "outputs": [
    {
     "data": {
      "text/plain": [
       "15"
      ]
     },
     "execution_count": 4,
     "metadata": {},
     "output_type": "execute_result"
    }
   ],
   "source": [
    "alfred.ac"
   ]
  },
  {
   "cell_type": "code",
   "execution_count": null,
   "metadata": {},
   "outputs": [],
   "source": []
  },
  {
   "cell_type": "code",
   "execution_count": 5,
   "metadata": {},
   "outputs": [],
   "source": [
    "attack = alfred.perform_melee_attack(beatrice.id)"
   ]
  },
  {
   "cell_type": "code",
   "execution_count": 6,
   "metadata": {},
   "outputs": [
    {
     "name": "stdout",
     "output_type": "stream",
     "text": [
      "20\n",
      "True\n"
     ]
    }
   ],
   "source": [
    "print(attack.total_roll)\n",
    "print(attack.success)\n"
   ]
  },
  {
   "cell_type": "code",
   "execution_count": 7,
   "metadata": {},
   "outputs": [
    {
     "data": {
      "text/plain": [
       "'5d127601-c0a7-4f3a-8788-a9231fb4e36e'"
      ]
     },
     "execution_count": 7,
     "metadata": {},
     "output_type": "execute_result"
    }
   ],
   "source": [
    "attack.target_entity_id"
   ]
  },
  {
   "cell_type": "code",
   "execution_count": 10,
   "metadata": {},
   "outputs": [
    {
     "data": {
      "text/plain": [
       "DamageRollOut(log_type='DamageRoll', id='b35b93e7-2051-42fa-91ca-c5037f29d0ac', timestamp=datetime.datetime(2024, 7, 21, 13, 8, 45, 321774), source_entity_id=None, target_entity_id=None, damage_type=<DamageType.SLASHING: 'Slashing'>, dice_roll=SimpleRollOut(log_type='SimpleRoll', id='d0d76f86-1e0c-4033-869f-a9b99dbb4189', timestamp=datetime.datetime(2024, 7, 21, 13, 8, 45, 321774), source_entity_id=None, target_entity_id=None, dice_count=1, dice_value=6, advantage_status=<AdvantageStatus.NONE: 'None'>, all_rolls=[5], chosen_rolls=[5], result=5), attack_roll=AttackRollOut(log_type='AttackRoll', id='f7a33228-6e6d-40a1-b702-dc14d651a117', timestamp=datetime.datetime(2024, 7, 21, 13, 8, 31, 546263), source_entity_id='45945806-1876-4965-98d2-a7fc7004faed', target_entity_id='5d127601-c0a7-4f3a-8788-a9231fb4e36e', hand=<AttackHand.MELEE_RIGHT: 'melee_right'>, ability=<Ability.DEX: 'Dexterity'>, attack_type=<AttackType.MELEE_WEAPON: 'Melee Weapon'>, target_ac=ValueOut(log_type='ValueOut', id='b7b916ab-4ab8-498e-a4ff-243fd3f5609a', timestamp=datetime.datetime(2024, 7, 21, 13, 8, 31, 544266), source_entity_id='5d127601-c0a7-4f3a-8788-a9231fb4e36e', target_entity_id='45945806-1876-4965-98d2-a7fc7004faed', bonuses=BonusTracker(bonuses={'base_armor_class': 15}, total_bonus=15), min_constraints=BonusTracker(bonuses={}, total_bonus=None), max_constraints=BonusTracker(bonuses={}, total_bonus=None), advantage_tracker=AdvantageTracker(active_sources={'base_armor_class': [<AdvantageStatus.NONE: 'None'>]}, counter=0, status=<AdvantageStatus.NONE: 'None'>), critical_tracker=CriticalTracker(critical_statuses={'base_armor_class': [<CriticalStatus.NONE: 'None'>]}, status=<CriticalStatus.NONE: 'None'>), auto_hit_tracker=AutoHitTracker(auto_hit_statuses={'base_armor_class': [<AutoHitStatus.NONE: 'None'>]}, status=<AutoHitStatus.NONE: 'None'>), total_bonus=15), total_target_ac=15, roll=TargetRollOut(log_type='TargetRoll', id='3e338868-6780-4ffc-b885-a6178cafd79b', timestamp=datetime.datetime(2024, 7, 21, 13, 8, 31, 545763), source_entity_id=None, target_entity_id=None, bonus=ValueOut(log_type='ValueOut', id='c9eac506-594a-49e5-a12a-4eb2cfa8c912', timestamp=datetime.datetime(2024, 7, 21, 13, 8, 31, 545763), source_entity_id='5d127601-c0a7-4f3a-8788-a9231fb4e36e', target_entity_id='45945806-1876-4965-98d2-a7fc7004faed', bonuses=BonusTracker(bonuses={'base_melee_hit_bonus': 0, 'base_weapon_attack_bonus': 0, 'base_proficiency_bonus': 2, 'base_dexterity': 2}, total_bonus=4), min_constraints=BonusTracker(bonuses={}, total_bonus=None), max_constraints=BonusTracker(bonuses={}, total_bonus=None), advantage_tracker=AdvantageTracker(active_sources={'base_melee_hit_bonus': [<AdvantageStatus.NONE: 'None'>], 'base_weapon_attack_bonus': [<AdvantageStatus.NONE: 'None'>], 'base_proficiency_bonus': [<AdvantageStatus.NONE: 'None'>], 'base_dexterity': [<AdvantageStatus.NONE: 'None'>]}, counter=0, status=<AdvantageStatus.NONE: 'None'>), critical_tracker=CriticalTracker(critical_statuses={'base_melee_hit_bonus': [<CriticalStatus.NONE: 'None'>], 'base_weapon_attack_bonus': [<CriticalStatus.NONE: 'None'>], 'base_proficiency_bonus': [<CriticalStatus.NONE: 'None'>], 'base_dexterity': [<CriticalStatus.NONE: 'None'>]}, status=<CriticalStatus.NONE: 'None'>), auto_hit_tracker=AutoHitTracker(auto_hit_statuses={'base_melee_hit_bonus': [<AutoHitStatus.NONE: 'None'>], 'base_weapon_attack_bonus': [<AutoHitStatus.NONE: 'None'>], 'base_proficiency_bonus': [<AutoHitStatus.NONE: 'None'>], 'base_dexterity': [<AutoHitStatus.NONE: 'None'>]}, status=<AutoHitStatus.NONE: 'None'>), total_bonus=4), target=15, base_roll=SimpleRollOut(log_type='SimpleRoll', id='0cfa4875-32b9-49e9-b764-aca6ed99e165', timestamp=datetime.datetime(2024, 7, 21, 13, 8, 31, 545763), source_entity_id=None, target_entity_id=None, dice_count=1, dice_value=20, advantage_status=<AdvantageStatus.NONE: 'None'>, all_rolls=[16], chosen_rolls=[16], result=16), hit=<RollOutcome.HIT: 'Hit'>, hit_reason=<HitReason.NORMAL: 'Normal'>, critical_reason=None, total_roll=20, success=True), attack_bonus=AttackBonusOut(log_type='AttackBonus', id='33bf4015-dd3a-40d0-b00f-21fb3cff7aff', timestamp=datetime.datetime(2024, 7, 21, 13, 8, 31, 545763), source_entity_id=None, target_entity_id=None, hand=<AttackHand.MELEE_RIGHT: 'melee_right'>, weapon_bonus=WeaponAttackBonusOut(log_type='WeaponattackBonus', id='e8a59372-dada-402b-9c29-f9c238f9c11d', timestamp=datetime.datetime(2024, 7, 21, 13, 8, 31, 545265), source_entity_id=None, target_entity_id=None, total_weapon_bonus=ValueOut(log_type='ValueOut', id='a469a081-3eeb-4c77-9750-c834bd337eef', timestamp=datetime.datetime(2024, 7, 21, 13, 8, 31, 545265), source_entity_id='45945806-1876-4965-98d2-a7fc7004faed', target_entity_id='5d127601-c0a7-4f3a-8788-a9231fb4e36e', bonuses=BonusTracker(bonuses={'base_melee_hit_bonus': 0, 'base_weapon_attack_bonus': 0}, total_bonus=0), min_constraints=BonusTracker(bonuses={}, total_bonus=None), max_constraints=BonusTracker(bonuses={}, total_bonus=None), advantage_tracker=AdvantageTracker(active_sources={'base_melee_hit_bonus': [<AdvantageStatus.NONE: 'None'>], 'base_weapon_attack_bonus': [<AdvantageStatus.NONE: 'None'>]}, counter=0, status=<AdvantageStatus.NONE: 'None'>), critical_tracker=CriticalTracker(critical_statuses={'base_melee_hit_bonus': [<CriticalStatus.NONE: 'None'>], 'base_weapon_attack_bonus': [<CriticalStatus.NONE: 'None'>]}, status=<CriticalStatus.NONE: 'None'>), auto_hit_tracker=AutoHitTracker(auto_hit_statuses={'base_melee_hit_bonus': [<AutoHitStatus.NONE: 'None'>], 'base_weapon_attack_bonus': [<AutoHitStatus.NONE: 'None'>]}, status=<AutoHitStatus.NONE: 'None'>), total_bonus=0), attacker_melee_bonus=ValueOut(log_type='ValueOut', id='36df4cfc-eb1d-49ac-9b7a-5b6eb591be96', timestamp=datetime.datetime(2024, 7, 21, 13, 8, 31, 544765), source_entity_id='45945806-1876-4965-98d2-a7fc7004faed', target_entity_id='5d127601-c0a7-4f3a-8788-a9231fb4e36e', bonuses=BonusTracker(bonuses={'base_melee_hit_bonus': 0}, total_bonus=0), min_constraints=BonusTracker(bonuses={}, total_bonus=None), max_constraints=BonusTracker(bonuses={}, total_bonus=None), advantage_tracker=AdvantageTracker(active_sources={'base_melee_hit_bonus': [<AdvantageStatus.NONE: 'None'>]}, counter=0, status=<AdvantageStatus.NONE: 'None'>), critical_tracker=CriticalTracker(critical_statuses={'base_melee_hit_bonus': [<CriticalStatus.NONE: 'None'>]}, status=<CriticalStatus.NONE: 'None'>), auto_hit_tracker=AutoHitTracker(auto_hit_statuses={'base_melee_hit_bonus': [<AutoHitStatus.NONE: 'None'>]}, status=<AutoHitStatus.NONE: 'None'>), total_bonus=0), attacker_ranged_bonus=None, weapon_melee_bonus=ValueOut(log_type='ValueOut', id='e11d1ad6-afd8-4cf8-a636-a82b58af765e', timestamp=datetime.datetime(2024, 7, 21, 13, 8, 31, 545265), source_entity_id='45945806-1876-4965-98d2-a7fc7004faed', target_entity_id='5d127601-c0a7-4f3a-8788-a9231fb4e36e', bonuses=BonusTracker(bonuses={'base_weapon_attack_bonus': 0}, total_bonus=0), min_constraints=BonusTracker(bonuses={}, total_bonus=None), max_constraints=BonusTracker(bonuses={}, total_bonus=None), advantage_tracker=AdvantageTracker(active_sources={'base_weapon_attack_bonus': [<AdvantageStatus.NONE: 'None'>]}, counter=0, status=<AdvantageStatus.NONE: 'None'>), critical_tracker=CriticalTracker(critical_statuses={'base_weapon_attack_bonus': [<CriticalStatus.NONE: 'None'>]}, status=<CriticalStatus.NONE: 'None'>), auto_hit_tracker=AutoHitTracker(auto_hit_statuses={'base_weapon_attack_bonus': [<AutoHitStatus.NONE: 'None'>]}, status=<AutoHitStatus.NONE: 'None'>), total_bonus=0), weapon_ranged_bonus=None, spell_bonus=None), proficiency_bonus=ValueOut(log_type='ValueOut', id='3dc26f3a-49ad-462a-873a-23fc67087bfb', timestamp=datetime.datetime(2024, 7, 21, 13, 8, 31, 544765), source_entity_id='5d127601-c0a7-4f3a-8788-a9231fb4e36e', target_entity_id=None, bonuses=BonusTracker(bonuses={'base_proficiency_bonus': 2}, total_bonus=2), min_constraints=BonusTracker(bonuses={}, total_bonus=None), max_constraints=BonusTracker(bonuses={}, total_bonus=None), advantage_tracker=AdvantageTracker(active_sources={'base_proficiency_bonus': [<AdvantageStatus.NONE: 'None'>]}, counter=0, status=<AdvantageStatus.NONE: 'None'>), critical_tracker=CriticalTracker(critical_statuses={'base_proficiency_bonus': [<CriticalStatus.NONE: 'None'>]}, status=<CriticalStatus.NONE: 'None'>), auto_hit_tracker=AutoHitTracker(auto_hit_statuses={'base_proficiency_bonus': [<AutoHitStatus.NONE: 'None'>]}, status=<AutoHitStatus.NONE: 'None'>), total_bonus=2), ability_bonus=ValueOut(log_type='ValueOut', id='d9d59f16-9c64-435d-ade3-b03f6d84e004', timestamp=datetime.datetime(2024, 7, 21, 13, 8, 31, 545763), source_entity_id='45945806-1876-4965-98d2-a7fc7004faed', target_entity_id='5d127601-c0a7-4f3a-8788-a9231fb4e36e', bonuses=BonusTracker(bonuses={'base_dexterity': 14}, total_bonus=14), min_constraints=BonusTracker(bonuses={}, total_bonus=None), max_constraints=BonusTracker(bonuses={}, total_bonus=None), advantage_tracker=AdvantageTracker(active_sources={'base_dexterity': [<AdvantageStatus.NONE: 'None'>]}, counter=0, status=<AdvantageStatus.NONE: 'None'>), critical_tracker=CriticalTracker(critical_statuses={'base_dexterity': [<CriticalStatus.NONE: 'None'>]}, status=<CriticalStatus.NONE: 'None'>), auto_hit_tracker=AutoHitTracker(auto_hit_statuses={'base_dexterity': [<AutoHitStatus.NONE: 'None'>]}, status=<AutoHitStatus.NONE: 'None'>), total_bonus=14), total_bonus=ValueOut(log_type='ValueOut', id='c9eac506-594a-49e5-a12a-4eb2cfa8c912', timestamp=datetime.datetime(2024, 7, 21, 13, 8, 31, 545763), source_entity_id='5d127601-c0a7-4f3a-8788-a9231fb4e36e', target_entity_id='45945806-1876-4965-98d2-a7fc7004faed', bonuses=BonusTracker(bonuses={'base_melee_hit_bonus': 0, 'base_weapon_attack_bonus': 0, 'base_proficiency_bonus': 2, 'base_dexterity': 2}, total_bonus=4), min_constraints=BonusTracker(bonuses={}, total_bonus=None), max_constraints=BonusTracker(bonuses={}, total_bonus=None), advantage_tracker=AdvantageTracker(active_sources={'base_melee_hit_bonus': [<AdvantageStatus.NONE: 'None'>], 'base_weapon_attack_bonus': [<AdvantageStatus.NONE: 'None'>], 'base_proficiency_bonus': [<AdvantageStatus.NONE: 'None'>], 'base_dexterity': [<AdvantageStatus.NONE: 'None'>]}, counter=0, status=<AdvantageStatus.NONE: 'None'>), critical_tracker=CriticalTracker(critical_statuses={'base_melee_hit_bonus': [<CriticalStatus.NONE: 'None'>], 'base_weapon_attack_bonus': [<CriticalStatus.NONE: 'None'>], 'base_proficiency_bonus': [<CriticalStatus.NONE: 'None'>], 'base_dexterity': [<CriticalStatus.NONE: 'None'>]}, status=<CriticalStatus.NONE: 'None'>), auto_hit_tracker=AutoHitTracker(auto_hit_statuses={'base_melee_hit_bonus': [<AutoHitStatus.NONE: 'None'>], 'base_weapon_attack_bonus': [<AutoHitStatus.NONE: 'None'>], 'base_proficiency_bonus': [<AutoHitStatus.NONE: 'None'>], 'base_dexterity': [<AutoHitStatus.NONE: 'None'>]}, status=<AutoHitStatus.NONE: 'None'>), total_bonus=4), target_to_self_bonus=ValueOut(log_type='ValueOut', id='f8a1da5c-8edc-4cc3-9631-4991bf610c15', timestamp=datetime.datetime(2024, 7, 21, 13, 8, 31, 544765), source_entity_id='5d127601-c0a7-4f3a-8788-a9231fb4e36e', target_entity_id='45945806-1876-4965-98d2-a7fc7004faed', bonuses=BonusTracker(bonuses={}, total_bonus=None), min_constraints=BonusTracker(bonuses={}, total_bonus=None), max_constraints=BonusTracker(bonuses={}, total_bonus=None), advantage_tracker=AdvantageTracker(active_sources={}, counter=0, status=<AdvantageStatus.NONE: 'None'>), critical_tracker=CriticalTracker(critical_statuses={}, status=<CriticalStatus.NONE: 'None'>), auto_hit_tracker=AutoHitTracker(auto_hit_statuses={}, status=<AutoHitStatus.NONE: 'None'>), total_bonus=None)), success=True, total_roll=20), damage_bonus=ValueOut(log_type='ValueOut', id='213e459e-3c79-47dc-96e9-c10ae6d2171c', timestamp=datetime.datetime(2024, 7, 21, 13, 8, 45, 321774), source_entity_id='45945806-1876-4965-98d2-a7fc7004faed', target_entity_id='5d127601-c0a7-4f3a-8788-a9231fb4e36e', bonuses=BonusTracker(bonuses={'base_melee_damage_bonus': 0, 'base_weapon_damage_bonus': 0, 'base_dexterity': 2}, total_bonus=2), min_constraints=BonusTracker(bonuses={}, total_bonus=None), max_constraints=BonusTracker(bonuses={}, total_bonus=None), advantage_tracker=AdvantageTracker(active_sources={'base_melee_damage_bonus': [<AdvantageStatus.NONE: 'None'>], 'base_weapon_damage_bonus': [<AdvantageStatus.NONE: 'None'>], 'base_dexterity': [<AdvantageStatus.NONE: 'None'>]}, counter=0, status=<AdvantageStatus.NONE: 'None'>), critical_tracker=CriticalTracker(critical_statuses={'base_melee_damage_bonus': [<CriticalStatus.NONE: 'None'>], 'base_weapon_damage_bonus': [<CriticalStatus.NONE: 'None'>], 'base_dexterity': [<CriticalStatus.NONE: 'None'>]}, status=<CriticalStatus.NONE: 'None'>), auto_hit_tracker=AutoHitTracker(auto_hit_statuses={'base_melee_damage_bonus': [<AutoHitStatus.NONE: 'None'>], 'base_weapon_damage_bonus': [<AutoHitStatus.NONE: 'None'>], 'base_dexterity': [<AutoHitStatus.NONE: 'None'>]}, status=<AutoHitStatus.NONE: 'None'>), total_bonus=2), total_damage=7)"
      ]
     },
     "execution_count": 10,
     "metadata": {},
     "output_type": "execute_result"
    }
   ],
   "source": [
    "alfred.roll_damage(attack)"
   ]
  },
  {
   "cell_type": "code",
   "execution_count": null,
   "metadata": {},
   "outputs": [],
   "source": []
  }
 ],
 "metadata": {
  "kernelspec": {
   "display_name": "Python 3",
   "language": "python",
   "name": "python3"
  },
  "language_info": {
   "codemirror_mode": {
    "name": "ipython",
    "version": 3
   },
   "file_extension": ".py",
   "mimetype": "text/x-python",
   "name": "python",
   "nbconvert_exporter": "python",
   "pygments_lexer": "ipython3",
   "version": "3.10.6"
  }
 },
 "nbformat": 4,
 "nbformat_minor": 2
}
